{
 "cells": [
  {
   "cell_type": "markdown",
   "metadata": {},
   "source": [
    "# Sarah Gets a Diamond - Starter Code"
   ]
  },
  {
   "cell_type": "markdown",
   "metadata": {},
   "source": [
    "In this code, we will build a model to predict diamond prices based on the features of the diamond. We will then compete as a class as to who can build the most predictive model."
   ]
  },
  {
   "cell_type": "markdown",
   "metadata": {},
   "source": [
    "## Importing"
   ]
  },
  {
   "cell_type": "markdown",
   "metadata": {},
   "source": [
    "Like all of our starter code, we will start by loading a set of \"modules\" that contain useful functionality for the assignment. We will use most of these modules in every set of starter code we have, but we will customize the set for some assignment specific functionality. The way this works is we specify the name of a module first, and then we can either import it with a shorthand phrase of import certain functions.\n",
    "\n",
    "For example, the code `import numpy as np` says to import the numpy module (a module for handling large datasets as arrays that is very common in data science) and call it `np`. Then if we ever want to use a function from that module, for example the `array` function, we would type `np.array(x)` (where `x` is the data we are giving to the function).\n",
    "\n",
    "Alternatively, we can import specific functions directly. Below we write `from scipy.optimize import minimize_scalar`, which says to take \"from\" the `scipy.optimize` module the function `minimize_scalar`. This allows us to use the function `minimize_scalar` just by writing `minimize_scalar`.\n",
    "\n",
    "We can also import all functions from a module at a time like we do with `from math import *`. This imports all of the functions from math, which includes things like `log()` to calculate the natural logarithm of a number."
   ]
  },
  {
   "cell_type": "code",
   "execution_count": 1,
   "metadata": {},
   "outputs": [],
   "source": [
    "import numpy as np\n",
    "import pandas as pd\n",
    "from math import *\n",
    "import statsmodels.formula.api as smf\n",
    "\n",
    "from sklearn.model_selection import train_test_split\n",
    "from sklearn.metrics import mean_absolute_error\n",
    "\n",
    "import seaborn as sns\n",
    "from matplotlib import pyplot as plt\n",
    "import matplotlib as mpl"
   ]
  },
  {
   "cell_type": "code",
   "execution_count": 2,
   "metadata": {},
   "outputs": [],
   "source": [
    "# This is a comment. Anything in a \"code cell\" that is preceeded by a \"#\" is a comment\n",
    "# and it will not be interpreted as code to be run when you run the cell.\n",
    "# This sets some nicer defaults for plotting.\n",
    "# This must be run in a separate cell from importing matplotlib due to a bug.\n",
    "params = {'legend.fontsize': 'large',\n",
    "          'figure.figsize': (11.0, 11.0),\n",
    "          'axes.labelsize': 'x-large',\n",
    "          'axes.titlesize':'xx-large',\n",
    "          'xtick.labelsize':'large',\n",
    "          'ytick.labelsize':'large'}\n",
    "mpl.rcParams.update(params)\n",
    "\n",
    "# This makes it so that the pandas dataframes don't get truncated horizontally.\n",
    "pd.options.display.max_columns = 200"
   ]
  },
  {
   "cell_type": "markdown",
   "metadata": {},
   "source": [
    "If you are uncertain what a function does, you can look up help in the jupyter notebook by writing `?np.array` (replace `np.array` with the relevant function). The next cell gives us the documentation for the `pandas` function, `read_csv`. Since we imported the `pandas` library as `pd` above, we reference that function by `pd.read_csv`."
   ]
  },
  {
   "cell_type": "code",
   "execution_count": 3,
   "metadata": {},
   "outputs": [
    {
     "data": {
      "text/plain": [
       "\u001b[0;31mSignature:\u001b[0m\n",
       "\u001b[0mpd\u001b[0m\u001b[0;34m.\u001b[0m\u001b[0mread_csv\u001b[0m\u001b[0;34m(\u001b[0m\u001b[0;34m\u001b[0m\n",
       "\u001b[0;34m\u001b[0m    \u001b[0mfilepath_or_buffer\u001b[0m\u001b[0;34m:\u001b[0m \u001b[0;34m'FilePathOrBuffer'\u001b[0m\u001b[0;34m,\u001b[0m\u001b[0;34m\u001b[0m\n",
       "\u001b[0;34m\u001b[0m    \u001b[0msep\u001b[0m\u001b[0;34m=\u001b[0m\u001b[0;34m<\u001b[0m\u001b[0mno_default\u001b[0m\u001b[0;34m>\u001b[0m\u001b[0;34m,\u001b[0m\u001b[0;34m\u001b[0m\n",
       "\u001b[0;34m\u001b[0m    \u001b[0mdelimiter\u001b[0m\u001b[0;34m=\u001b[0m\u001b[0;32mNone\u001b[0m\u001b[0;34m,\u001b[0m\u001b[0;34m\u001b[0m\n",
       "\u001b[0;34m\u001b[0m    \u001b[0mheader\u001b[0m\u001b[0;34m=\u001b[0m\u001b[0;34m'infer'\u001b[0m\u001b[0;34m,\u001b[0m\u001b[0;34m\u001b[0m\n",
       "\u001b[0;34m\u001b[0m    \u001b[0mnames\u001b[0m\u001b[0;34m=\u001b[0m\u001b[0;34m<\u001b[0m\u001b[0mno_default\u001b[0m\u001b[0;34m>\u001b[0m\u001b[0;34m,\u001b[0m\u001b[0;34m\u001b[0m\n",
       "\u001b[0;34m\u001b[0m    \u001b[0mindex_col\u001b[0m\u001b[0;34m=\u001b[0m\u001b[0;32mNone\u001b[0m\u001b[0;34m,\u001b[0m\u001b[0;34m\u001b[0m\n",
       "\u001b[0;34m\u001b[0m    \u001b[0musecols\u001b[0m\u001b[0;34m=\u001b[0m\u001b[0;32mNone\u001b[0m\u001b[0;34m,\u001b[0m\u001b[0;34m\u001b[0m\n",
       "\u001b[0;34m\u001b[0m    \u001b[0msqueeze\u001b[0m\u001b[0;34m=\u001b[0m\u001b[0;32mFalse\u001b[0m\u001b[0;34m,\u001b[0m\u001b[0;34m\u001b[0m\n",
       "\u001b[0;34m\u001b[0m    \u001b[0mprefix\u001b[0m\u001b[0;34m=\u001b[0m\u001b[0;34m<\u001b[0m\u001b[0mno_default\u001b[0m\u001b[0;34m>\u001b[0m\u001b[0;34m,\u001b[0m\u001b[0;34m\u001b[0m\n",
       "\u001b[0;34m\u001b[0m    \u001b[0mmangle_dupe_cols\u001b[0m\u001b[0;34m=\u001b[0m\u001b[0;32mTrue\u001b[0m\u001b[0;34m,\u001b[0m\u001b[0;34m\u001b[0m\n",
       "\u001b[0;34m\u001b[0m    \u001b[0mdtype\u001b[0m\u001b[0;34m:\u001b[0m \u001b[0;34m'DtypeArg | None'\u001b[0m \u001b[0;34m=\u001b[0m \u001b[0;32mNone\u001b[0m\u001b[0;34m,\u001b[0m\u001b[0;34m\u001b[0m\n",
       "\u001b[0;34m\u001b[0m    \u001b[0mengine\u001b[0m\u001b[0;34m=\u001b[0m\u001b[0;32mNone\u001b[0m\u001b[0;34m,\u001b[0m\u001b[0;34m\u001b[0m\n",
       "\u001b[0;34m\u001b[0m    \u001b[0mconverters\u001b[0m\u001b[0;34m=\u001b[0m\u001b[0;32mNone\u001b[0m\u001b[0;34m,\u001b[0m\u001b[0;34m\u001b[0m\n",
       "\u001b[0;34m\u001b[0m    \u001b[0mtrue_values\u001b[0m\u001b[0;34m=\u001b[0m\u001b[0;32mNone\u001b[0m\u001b[0;34m,\u001b[0m\u001b[0;34m\u001b[0m\n",
       "\u001b[0;34m\u001b[0m    \u001b[0mfalse_values\u001b[0m\u001b[0;34m=\u001b[0m\u001b[0;32mNone\u001b[0m\u001b[0;34m,\u001b[0m\u001b[0;34m\u001b[0m\n",
       "\u001b[0;34m\u001b[0m    \u001b[0mskipinitialspace\u001b[0m\u001b[0;34m=\u001b[0m\u001b[0;32mFalse\u001b[0m\u001b[0;34m,\u001b[0m\u001b[0;34m\u001b[0m\n",
       "\u001b[0;34m\u001b[0m    \u001b[0mskiprows\u001b[0m\u001b[0;34m=\u001b[0m\u001b[0;32mNone\u001b[0m\u001b[0;34m,\u001b[0m\u001b[0;34m\u001b[0m\n",
       "\u001b[0;34m\u001b[0m    \u001b[0mskipfooter\u001b[0m\u001b[0;34m=\u001b[0m\u001b[0;36m0\u001b[0m\u001b[0;34m,\u001b[0m\u001b[0;34m\u001b[0m\n",
       "\u001b[0;34m\u001b[0m    \u001b[0mnrows\u001b[0m\u001b[0;34m=\u001b[0m\u001b[0;32mNone\u001b[0m\u001b[0;34m,\u001b[0m\u001b[0;34m\u001b[0m\n",
       "\u001b[0;34m\u001b[0m    \u001b[0mna_values\u001b[0m\u001b[0;34m=\u001b[0m\u001b[0;32mNone\u001b[0m\u001b[0;34m,\u001b[0m\u001b[0;34m\u001b[0m\n",
       "\u001b[0;34m\u001b[0m    \u001b[0mkeep_default_na\u001b[0m\u001b[0;34m=\u001b[0m\u001b[0;32mTrue\u001b[0m\u001b[0;34m,\u001b[0m\u001b[0;34m\u001b[0m\n",
       "\u001b[0;34m\u001b[0m    \u001b[0mna_filter\u001b[0m\u001b[0;34m=\u001b[0m\u001b[0;32mTrue\u001b[0m\u001b[0;34m,\u001b[0m\u001b[0;34m\u001b[0m\n",
       "\u001b[0;34m\u001b[0m    \u001b[0mverbose\u001b[0m\u001b[0;34m=\u001b[0m\u001b[0;32mFalse\u001b[0m\u001b[0;34m,\u001b[0m\u001b[0;34m\u001b[0m\n",
       "\u001b[0;34m\u001b[0m    \u001b[0mskip_blank_lines\u001b[0m\u001b[0;34m=\u001b[0m\u001b[0;32mTrue\u001b[0m\u001b[0;34m,\u001b[0m\u001b[0;34m\u001b[0m\n",
       "\u001b[0;34m\u001b[0m    \u001b[0mparse_dates\u001b[0m\u001b[0;34m=\u001b[0m\u001b[0;32mFalse\u001b[0m\u001b[0;34m,\u001b[0m\u001b[0;34m\u001b[0m\n",
       "\u001b[0;34m\u001b[0m    \u001b[0minfer_datetime_format\u001b[0m\u001b[0;34m=\u001b[0m\u001b[0;32mFalse\u001b[0m\u001b[0;34m,\u001b[0m\u001b[0;34m\u001b[0m\n",
       "\u001b[0;34m\u001b[0m    \u001b[0mkeep_date_col\u001b[0m\u001b[0;34m=\u001b[0m\u001b[0;32mFalse\u001b[0m\u001b[0;34m,\u001b[0m\u001b[0;34m\u001b[0m\n",
       "\u001b[0;34m\u001b[0m    \u001b[0mdate_parser\u001b[0m\u001b[0;34m=\u001b[0m\u001b[0;32mNone\u001b[0m\u001b[0;34m,\u001b[0m\u001b[0;34m\u001b[0m\n",
       "\u001b[0;34m\u001b[0m    \u001b[0mdayfirst\u001b[0m\u001b[0;34m=\u001b[0m\u001b[0;32mFalse\u001b[0m\u001b[0;34m,\u001b[0m\u001b[0;34m\u001b[0m\n",
       "\u001b[0;34m\u001b[0m    \u001b[0mcache_dates\u001b[0m\u001b[0;34m=\u001b[0m\u001b[0;32mTrue\u001b[0m\u001b[0;34m,\u001b[0m\u001b[0;34m\u001b[0m\n",
       "\u001b[0;34m\u001b[0m    \u001b[0miterator\u001b[0m\u001b[0;34m=\u001b[0m\u001b[0;32mFalse\u001b[0m\u001b[0;34m,\u001b[0m\u001b[0;34m\u001b[0m\n",
       "\u001b[0;34m\u001b[0m    \u001b[0mchunksize\u001b[0m\u001b[0;34m=\u001b[0m\u001b[0;32mNone\u001b[0m\u001b[0;34m,\u001b[0m\u001b[0;34m\u001b[0m\n",
       "\u001b[0;34m\u001b[0m    \u001b[0mcompression\u001b[0m\u001b[0;34m=\u001b[0m\u001b[0;34m'infer'\u001b[0m\u001b[0;34m,\u001b[0m\u001b[0;34m\u001b[0m\n",
       "\u001b[0;34m\u001b[0m    \u001b[0mthousands\u001b[0m\u001b[0;34m=\u001b[0m\u001b[0;32mNone\u001b[0m\u001b[0;34m,\u001b[0m\u001b[0;34m\u001b[0m\n",
       "\u001b[0;34m\u001b[0m    \u001b[0mdecimal\u001b[0m\u001b[0;34m:\u001b[0m \u001b[0;34m'str'\u001b[0m \u001b[0;34m=\u001b[0m \u001b[0;34m'.'\u001b[0m\u001b[0;34m,\u001b[0m\u001b[0;34m\u001b[0m\n",
       "\u001b[0;34m\u001b[0m    \u001b[0mlineterminator\u001b[0m\u001b[0;34m=\u001b[0m\u001b[0;32mNone\u001b[0m\u001b[0;34m,\u001b[0m\u001b[0;34m\u001b[0m\n",
       "\u001b[0;34m\u001b[0m    \u001b[0mquotechar\u001b[0m\u001b[0;34m=\u001b[0m\u001b[0;34m'\"'\u001b[0m\u001b[0;34m,\u001b[0m\u001b[0;34m\u001b[0m\n",
       "\u001b[0;34m\u001b[0m    \u001b[0mquoting\u001b[0m\u001b[0;34m=\u001b[0m\u001b[0;36m0\u001b[0m\u001b[0;34m,\u001b[0m\u001b[0;34m\u001b[0m\n",
       "\u001b[0;34m\u001b[0m    \u001b[0mdoublequote\u001b[0m\u001b[0;34m=\u001b[0m\u001b[0;32mTrue\u001b[0m\u001b[0;34m,\u001b[0m\u001b[0;34m\u001b[0m\n",
       "\u001b[0;34m\u001b[0m    \u001b[0mescapechar\u001b[0m\u001b[0;34m=\u001b[0m\u001b[0;32mNone\u001b[0m\u001b[0;34m,\u001b[0m\u001b[0;34m\u001b[0m\n",
       "\u001b[0;34m\u001b[0m    \u001b[0mcomment\u001b[0m\u001b[0;34m=\u001b[0m\u001b[0;32mNone\u001b[0m\u001b[0;34m,\u001b[0m\u001b[0;34m\u001b[0m\n",
       "\u001b[0;34m\u001b[0m    \u001b[0mencoding\u001b[0m\u001b[0;34m=\u001b[0m\u001b[0;32mNone\u001b[0m\u001b[0;34m,\u001b[0m\u001b[0;34m\u001b[0m\n",
       "\u001b[0;34m\u001b[0m    \u001b[0mencoding_errors\u001b[0m\u001b[0;34m:\u001b[0m \u001b[0;34m'str | None'\u001b[0m \u001b[0;34m=\u001b[0m \u001b[0;34m'strict'\u001b[0m\u001b[0;34m,\u001b[0m\u001b[0;34m\u001b[0m\n",
       "\u001b[0;34m\u001b[0m    \u001b[0mdialect\u001b[0m\u001b[0;34m=\u001b[0m\u001b[0;32mNone\u001b[0m\u001b[0;34m,\u001b[0m\u001b[0;34m\u001b[0m\n",
       "\u001b[0;34m\u001b[0m    \u001b[0merror_bad_lines\u001b[0m\u001b[0;34m=\u001b[0m\u001b[0;32mNone\u001b[0m\u001b[0;34m,\u001b[0m\u001b[0;34m\u001b[0m\n",
       "\u001b[0;34m\u001b[0m    \u001b[0mwarn_bad_lines\u001b[0m\u001b[0;34m=\u001b[0m\u001b[0;32mNone\u001b[0m\u001b[0;34m,\u001b[0m\u001b[0;34m\u001b[0m\n",
       "\u001b[0;34m\u001b[0m    \u001b[0mon_bad_lines\u001b[0m\u001b[0;34m=\u001b[0m\u001b[0;32mNone\u001b[0m\u001b[0;34m,\u001b[0m\u001b[0;34m\u001b[0m\n",
       "\u001b[0;34m\u001b[0m    \u001b[0mdelim_whitespace\u001b[0m\u001b[0;34m=\u001b[0m\u001b[0;32mFalse\u001b[0m\u001b[0;34m,\u001b[0m\u001b[0;34m\u001b[0m\n",
       "\u001b[0;34m\u001b[0m    \u001b[0mlow_memory\u001b[0m\u001b[0;34m=\u001b[0m\u001b[0;32mTrue\u001b[0m\u001b[0;34m,\u001b[0m\u001b[0;34m\u001b[0m\n",
       "\u001b[0;34m\u001b[0m    \u001b[0mmemory_map\u001b[0m\u001b[0;34m=\u001b[0m\u001b[0;32mFalse\u001b[0m\u001b[0;34m,\u001b[0m\u001b[0;34m\u001b[0m\n",
       "\u001b[0;34m\u001b[0m    \u001b[0mfloat_precision\u001b[0m\u001b[0;34m=\u001b[0m\u001b[0;32mNone\u001b[0m\u001b[0;34m,\u001b[0m\u001b[0;34m\u001b[0m\n",
       "\u001b[0;34m\u001b[0m    \u001b[0mstorage_options\u001b[0m\u001b[0;34m:\u001b[0m \u001b[0;34m'StorageOptions'\u001b[0m \u001b[0;34m=\u001b[0m \u001b[0;32mNone\u001b[0m\u001b[0;34m,\u001b[0m\u001b[0;34m\u001b[0m\n",
       "\u001b[0;34m\u001b[0m\u001b[0;34m)\u001b[0m\u001b[0;34m\u001b[0m\u001b[0;34m\u001b[0m\u001b[0m\n",
       "\u001b[0;31mDocstring:\u001b[0m\n",
       "Read a comma-separated values (csv) file into DataFrame.\n",
       "\n",
       "Also supports optionally iterating or breaking of the file\n",
       "into chunks.\n",
       "\n",
       "Additional help can be found in the online docs for\n",
       "`IO Tools <https://pandas.pydata.org/pandas-docs/stable/user_guide/io.html>`_.\n",
       "\n",
       "Parameters\n",
       "----------\n",
       "filepath_or_buffer : str, path object or file-like object\n",
       "    Any valid string path is acceptable. The string could be a URL. Valid\n",
       "    URL schemes include http, ftp, s3, gs, and file. For file URLs, a host is\n",
       "    expected. A local file could be: file://localhost/path/to/table.csv.\n",
       "\n",
       "    If you want to pass in a path object, pandas accepts any ``os.PathLike``.\n",
       "\n",
       "    By file-like object, we refer to objects with a ``read()`` method, such as\n",
       "    a file handle (e.g. via builtin ``open`` function) or ``StringIO``.\n",
       "sep : str, default ','\n",
       "    Delimiter to use. If sep is None, the C engine cannot automatically detect\n",
       "    the separator, but the Python parsing engine can, meaning the latter will\n",
       "    be used and automatically detect the separator by Python's builtin sniffer\n",
       "    tool, ``csv.Sniffer``. In addition, separators longer than 1 character and\n",
       "    different from ``'\\s+'`` will be interpreted as regular expressions and\n",
       "    will also force the use of the Python parsing engine. Note that regex\n",
       "    delimiters are prone to ignoring quoted data. Regex example: ``'\\r\\t'``.\n",
       "delimiter : str, default ``None``\n",
       "    Alias for sep.\n",
       "header : int, list of int, default 'infer'\n",
       "    Row number(s) to use as the column names, and the start of the\n",
       "    data.  Default behavior is to infer the column names: if no names\n",
       "    are passed the behavior is identical to ``header=0`` and column\n",
       "    names are inferred from the first line of the file, if column\n",
       "    names are passed explicitly then the behavior is identical to\n",
       "    ``header=None``. Explicitly pass ``header=0`` to be able to\n",
       "    replace existing names. The header can be a list of integers that\n",
       "    specify row locations for a multi-index on the columns\n",
       "    e.g. [0,1,3]. Intervening rows that are not specified will be\n",
       "    skipped (e.g. 2 in this example is skipped). Note that this\n",
       "    parameter ignores commented lines and empty lines if\n",
       "    ``skip_blank_lines=True``, so ``header=0`` denotes the first line of\n",
       "    data rather than the first line of the file.\n",
       "names : array-like, optional\n",
       "    List of column names to use. If the file contains a header row,\n",
       "    then you should explicitly pass ``header=0`` to override the column names.\n",
       "    Duplicates in this list are not allowed.\n",
       "index_col : int, str, sequence of int / str, or False, default ``None``\n",
       "  Column(s) to use as the row labels of the ``DataFrame``, either given as\n",
       "  string name or column index. If a sequence of int / str is given, a\n",
       "  MultiIndex is used.\n",
       "\n",
       "  Note: ``index_col=False`` can be used to force pandas to *not* use the first\n",
       "  column as the index, e.g. when you have a malformed file with delimiters at\n",
       "  the end of each line.\n",
       "usecols : list-like or callable, optional\n",
       "    Return a subset of the columns. If list-like, all elements must either\n",
       "    be positional (i.e. integer indices into the document columns) or strings\n",
       "    that correspond to column names provided either by the user in `names` or\n",
       "    inferred from the document header row(s). For example, a valid list-like\n",
       "    `usecols` parameter would be ``[0, 1, 2]`` or ``['foo', 'bar', 'baz']``.\n",
       "    Element order is ignored, so ``usecols=[0, 1]`` is the same as ``[1, 0]``.\n",
       "    To instantiate a DataFrame from ``data`` with element order preserved use\n",
       "    ``pd.read_csv(data, usecols=['foo', 'bar'])[['foo', 'bar']]`` for columns\n",
       "    in ``['foo', 'bar']`` order or\n",
       "    ``pd.read_csv(data, usecols=['foo', 'bar'])[['bar', 'foo']]``\n",
       "    for ``['bar', 'foo']`` order.\n",
       "\n",
       "    If callable, the callable function will be evaluated against the column\n",
       "    names, returning names where the callable function evaluates to True. An\n",
       "    example of a valid callable argument would be ``lambda x: x.upper() in\n",
       "    ['AAA', 'BBB', 'DDD']``. Using this parameter results in much faster\n",
       "    parsing time and lower memory usage.\n",
       "squeeze : bool, default False\n",
       "    If the parsed data only contains one column then return a Series.\n",
       "prefix : str, optional\n",
       "    Prefix to add to column numbers when no header, e.g. 'X' for X0, X1, ...\n",
       "mangle_dupe_cols : bool, default True\n",
       "    Duplicate columns will be specified as 'X', 'X.1', ...'X.N', rather than\n",
       "    'X'...'X'. Passing in False will cause data to be overwritten if there\n",
       "    are duplicate names in the columns.\n",
       "dtype : Type name or dict of column -> type, optional\n",
       "    Data type for data or columns. E.g. {'a': np.float64, 'b': np.int32,\n",
       "    'c': 'Int64'}\n",
       "    Use `str` or `object` together with suitable `na_values` settings\n",
       "    to preserve and not interpret dtype.\n",
       "    If converters are specified, they will be applied INSTEAD\n",
       "    of dtype conversion.\n",
       "engine : {'c', 'python'}, optional\n",
       "    Parser engine to use. The C engine is faster while the python engine is\n",
       "    currently more feature-complete.\n",
       "converters : dict, optional\n",
       "    Dict of functions for converting values in certain columns. Keys can either\n",
       "    be integers or column labels.\n",
       "true_values : list, optional\n",
       "    Values to consider as True.\n",
       "false_values : list, optional\n",
       "    Values to consider as False.\n",
       "skipinitialspace : bool, default False\n",
       "    Skip spaces after delimiter.\n",
       "skiprows : list-like, int or callable, optional\n",
       "    Line numbers to skip (0-indexed) or number of lines to skip (int)\n",
       "    at the start of the file.\n",
       "\n",
       "    If callable, the callable function will be evaluated against the row\n",
       "    indices, returning True if the row should be skipped and False otherwise.\n",
       "    An example of a valid callable argument would be ``lambda x: x in [0, 2]``.\n",
       "skipfooter : int, default 0\n",
       "    Number of lines at bottom of file to skip (Unsupported with engine='c').\n",
       "nrows : int, optional\n",
       "    Number of rows of file to read. Useful for reading pieces of large files.\n",
       "na_values : scalar, str, list-like, or dict, optional\n",
       "    Additional strings to recognize as NA/NaN. If dict passed, specific\n",
       "    per-column NA values.  By default the following values are interpreted as\n",
       "    NaN: '', '#N/A', '#N/A N/A', '#NA', '-1.#IND', '-1.#QNAN', '-NaN', '-nan',\n",
       "    '1.#IND', '1.#QNAN', '<NA>', 'N/A', 'NA', 'NULL', 'NaN', 'n/a',\n",
       "    'nan', 'null'.\n",
       "keep_default_na : bool, default True\n",
       "    Whether or not to include the default NaN values when parsing the data.\n",
       "    Depending on whether `na_values` is passed in, the behavior is as follows:\n",
       "\n",
       "    * If `keep_default_na` is True, and `na_values` are specified, `na_values`\n",
       "      is appended to the default NaN values used for parsing.\n",
       "    * If `keep_default_na` is True, and `na_values` are not specified, only\n",
       "      the default NaN values are used for parsing.\n",
       "    * If `keep_default_na` is False, and `na_values` are specified, only\n",
       "      the NaN values specified `na_values` are used for parsing.\n",
       "    * If `keep_default_na` is False, and `na_values` are not specified, no\n",
       "      strings will be parsed as NaN.\n",
       "\n",
       "    Note that if `na_filter` is passed in as False, the `keep_default_na` and\n",
       "    `na_values` parameters will be ignored.\n",
       "na_filter : bool, default True\n",
       "    Detect missing value markers (empty strings and the value of na_values). In\n",
       "    data without any NAs, passing na_filter=False can improve the performance\n",
       "    of reading a large file.\n",
       "verbose : bool, default False\n",
       "    Indicate number of NA values placed in non-numeric columns.\n",
       "skip_blank_lines : bool, default True\n",
       "    If True, skip over blank lines rather than interpreting as NaN values.\n",
       "parse_dates : bool or list of int or names or list of lists or dict, default False\n",
       "    The behavior is as follows:\n",
       "\n",
       "    * boolean. If True -> try parsing the index.\n",
       "    * list of int or names. e.g. If [1, 2, 3] -> try parsing columns 1, 2, 3\n",
       "      each as a separate date column.\n",
       "    * list of lists. e.g.  If [[1, 3]] -> combine columns 1 and 3 and parse as\n",
       "      a single date column.\n",
       "    * dict, e.g. {'foo' : [1, 3]} -> parse columns 1, 3 as date and call\n",
       "      result 'foo'\n",
       "\n",
       "    If a column or index cannot be represented as an array of datetimes,\n",
       "    say because of an unparsable value or a mixture of timezones, the column\n",
       "    or index will be returned unaltered as an object data type. For\n",
       "    non-standard datetime parsing, use ``pd.to_datetime`` after\n",
       "    ``pd.read_csv``. To parse an index or column with a mixture of timezones,\n",
       "    specify ``date_parser`` to be a partially-applied\n",
       "    :func:`pandas.to_datetime` with ``utc=True``. See\n",
       "    :ref:`io.csv.mixed_timezones` for more.\n",
       "\n",
       "    Note: A fast-path exists for iso8601-formatted dates.\n",
       "infer_datetime_format : bool, default False\n",
       "    If True and `parse_dates` is enabled, pandas will attempt to infer the\n",
       "    format of the datetime strings in the columns, and if it can be inferred,\n",
       "    switch to a faster method of parsing them. In some cases this can increase\n",
       "    the parsing speed by 5-10x.\n",
       "keep_date_col : bool, default False\n",
       "    If True and `parse_dates` specifies combining multiple columns then\n",
       "    keep the original columns.\n",
       "date_parser : function, optional\n",
       "    Function to use for converting a sequence of string columns to an array of\n",
       "    datetime instances. The default uses ``dateutil.parser.parser`` to do the\n",
       "    conversion. Pandas will try to call `date_parser` in three different ways,\n",
       "    advancing to the next if an exception occurs: 1) Pass one or more arrays\n",
       "    (as defined by `parse_dates`) as arguments; 2) concatenate (row-wise) the\n",
       "    string values from the columns defined by `parse_dates` into a single array\n",
       "    and pass that; and 3) call `date_parser` once for each row using one or\n",
       "    more strings (corresponding to the columns defined by `parse_dates`) as\n",
       "    arguments.\n",
       "dayfirst : bool, default False\n",
       "    DD/MM format dates, international and European format.\n",
       "cache_dates : bool, default True\n",
       "    If True, use a cache of unique, converted dates to apply the datetime\n",
       "    conversion. May produce significant speed-up when parsing duplicate\n",
       "    date strings, especially ones with timezone offsets.\n",
       "\n",
       "    .. versionadded:: 0.25.0\n",
       "iterator : bool, default False\n",
       "    Return TextFileReader object for iteration or getting chunks with\n",
       "    ``get_chunk()``.\n",
       "\n",
       "    .. versionchanged:: 1.2\n",
       "\n",
       "       ``TextFileReader`` is a context manager.\n",
       "chunksize : int, optional\n",
       "    Return TextFileReader object for iteration.\n",
       "    See the `IO Tools docs\n",
       "    <https://pandas.pydata.org/pandas-docs/stable/io.html#io-chunking>`_\n",
       "    for more information on ``iterator`` and ``chunksize``.\n",
       "\n",
       "    .. versionchanged:: 1.2\n",
       "\n",
       "       ``TextFileReader`` is a context manager.\n",
       "compression : {'infer', 'gzip', 'bz2', 'zip', 'xz', None}, default 'infer'\n",
       "    For on-the-fly decompression of on-disk data. If 'infer' and\n",
       "    `filepath_or_buffer` is path-like, then detect compression from the\n",
       "    following extensions: '.gz', '.bz2', '.zip', or '.xz' (otherwise no\n",
       "    decompression). If using 'zip', the ZIP file must contain only one data\n",
       "    file to be read in. Set to None for no decompression.\n",
       "thousands : str, optional\n",
       "    Thousands separator.\n",
       "decimal : str, default '.'\n",
       "    Character to recognize as decimal point (e.g. use ',' for European data).\n",
       "lineterminator : str (length 1), optional\n",
       "    Character to break file into lines. Only valid with C parser.\n",
       "quotechar : str (length 1), optional\n",
       "    The character used to denote the start and end of a quoted item. Quoted\n",
       "    items can include the delimiter and it will be ignored.\n",
       "quoting : int or csv.QUOTE_* instance, default 0\n",
       "    Control field quoting behavior per ``csv.QUOTE_*`` constants. Use one of\n",
       "    QUOTE_MINIMAL (0), QUOTE_ALL (1), QUOTE_NONNUMERIC (2) or QUOTE_NONE (3).\n",
       "doublequote : bool, default ``True``\n",
       "   When quotechar is specified and quoting is not ``QUOTE_NONE``, indicate\n",
       "   whether or not to interpret two consecutive quotechar elements INSIDE a\n",
       "   field as a single ``quotechar`` element.\n",
       "escapechar : str (length 1), optional\n",
       "    One-character string used to escape other characters.\n",
       "comment : str, optional\n",
       "    Indicates remainder of line should not be parsed. If found at the beginning\n",
       "    of a line, the line will be ignored altogether. This parameter must be a\n",
       "    single character. Like empty lines (as long as ``skip_blank_lines=True``),\n",
       "    fully commented lines are ignored by the parameter `header` but not by\n",
       "    `skiprows`. For example, if ``comment='#'``, parsing\n",
       "    ``#empty\\na,b,c\\n1,2,3`` with ``header=0`` will result in 'a,b,c' being\n",
       "    treated as the header.\n",
       "encoding : str, optional\n",
       "    Encoding to use for UTF when reading/writing (ex. 'utf-8'). `List of Python\n",
       "    standard encodings\n",
       "    <https://docs.python.org/3/library/codecs.html#standard-encodings>`_ .\n",
       "\n",
       "    .. versionchanged:: 1.2\n",
       "\n",
       "       When ``encoding`` is ``None``, ``errors=\"replace\"`` is passed to\n",
       "       ``open()``. Otherwise, ``errors=\"strict\"`` is passed to ``open()``.\n",
       "       This behavior was previously only the case for ``engine=\"python\"``.\n",
       "\n",
       "    .. versionchanged:: 1.3.0\n",
       "\n",
       "       ``encoding_errors`` is a new argument. ``encoding`` has no longer an\n",
       "       influence on how encoding errors are handled.\n",
       "\n",
       "encoding_errors : str, optional, default \"strict\"\n",
       "    How encoding errors are treated. `List of possible values\n",
       "    <https://docs.python.org/3/library/codecs.html#error-handlers>`_ .\n",
       "\n",
       "    .. versionadded:: 1.3.0\n",
       "\n",
       "dialect : str or csv.Dialect, optional\n",
       "    If provided, this parameter will override values (default or not) for the\n",
       "    following parameters: `delimiter`, `doublequote`, `escapechar`,\n",
       "    `skipinitialspace`, `quotechar`, and `quoting`. If it is necessary to\n",
       "    override values, a ParserWarning will be issued. See csv.Dialect\n",
       "    documentation for more details.\n",
       "error_bad_lines : bool, default ``None``\n",
       "    Lines with too many fields (e.g. a csv line with too many commas) will by\n",
       "    default cause an exception to be raised, and no DataFrame will be returned.\n",
       "    If False, then these \"bad lines\" will be dropped from the DataFrame that is\n",
       "    returned.\n",
       "\n",
       "    .. deprecated:: 1.3.0\n",
       "       The ``on_bad_lines`` parameter should be used instead to specify behavior upon\n",
       "       encountering a bad line instead.\n",
       "warn_bad_lines : bool, default ``None``\n",
       "    If error_bad_lines is False, and warn_bad_lines is True, a warning for each\n",
       "    \"bad line\" will be output.\n",
       "\n",
       "    .. deprecated:: 1.3.0\n",
       "       The ``on_bad_lines`` parameter should be used instead to specify behavior upon\n",
       "       encountering a bad line instead.\n",
       "on_bad_lines : {'error', 'warn', 'skip'}, default 'error'\n",
       "    Specifies what to do upon encountering a bad line (a line with too many fields).\n",
       "    Allowed values are :\n",
       "\n",
       "        - 'error', raise an Exception when a bad line is encountered.\n",
       "        - 'warn', raise a warning when a bad line is encountered and skip that line.\n",
       "        - 'skip', skip bad lines without raising or warning when they are encountered.\n",
       "\n",
       "    .. versionadded:: 1.3.0\n",
       "\n",
       "delim_whitespace : bool, default False\n",
       "    Specifies whether or not whitespace (e.g. ``' '`` or ``'    '``) will be\n",
       "    used as the sep. Equivalent to setting ``sep='\\s+'``. If this option\n",
       "    is set to True, nothing should be passed in for the ``delimiter``\n",
       "    parameter.\n",
       "low_memory : bool, default True\n",
       "    Internally process the file in chunks, resulting in lower memory use\n",
       "    while parsing, but possibly mixed type inference.  To ensure no mixed\n",
       "    types either set False, or specify the type with the `dtype` parameter.\n",
       "    Note that the entire file is read into a single DataFrame regardless,\n",
       "    use the `chunksize` or `iterator` parameter to return the data in chunks.\n",
       "    (Only valid with C parser).\n",
       "memory_map : bool, default False\n",
       "    If a filepath is provided for `filepath_or_buffer`, map the file object\n",
       "    directly onto memory and access the data directly from there. Using this\n",
       "    option can improve performance because there is no longer any I/O overhead.\n",
       "float_precision : str, optional\n",
       "    Specifies which converter the C engine should use for floating-point\n",
       "    values. The options are ``None`` or 'high' for the ordinary converter,\n",
       "    'legacy' for the original lower precision pandas converter, and\n",
       "    'round_trip' for the round-trip converter.\n",
       "\n",
       "    .. versionchanged:: 1.2\n",
       "\n",
       "storage_options : dict, optional\n",
       "    Extra options that make sense for a particular storage connection, e.g.\n",
       "    host, port, username, password, etc. For HTTP(S) URLs the key-value pairs\n",
       "    are forwarded to ``urllib`` as header options. For other URLs (e.g.\n",
       "    starting with \"s3://\", and \"gcs://\") the key-value pairs are forwarded to\n",
       "    ``fsspec``. Please see ``fsspec`` and ``urllib`` for more details.\n",
       "\n",
       "    .. versionadded:: 1.2\n",
       "\n",
       "Returns\n",
       "-------\n",
       "DataFrame or TextParser\n",
       "    A comma-separated values (csv) file is returned as two-dimensional\n",
       "    data structure with labeled axes.\n",
       "\n",
       "See Also\n",
       "--------\n",
       "DataFrame.to_csv : Write DataFrame to a comma-separated values (csv) file.\n",
       "read_csv : Read a comma-separated values (csv) file into DataFrame.\n",
       "read_fwf : Read a table of fixed-width formatted lines into DataFrame.\n",
       "\n",
       "Examples\n",
       "--------\n",
       ">>> pd.read_csv('data.csv')  # doctest: +SKIP\n",
       "\u001b[0;31mFile:\u001b[0m      /opt/conda/lib/python3.9/site-packages/pandas/io/parsers/readers.py\n",
       "\u001b[0;31mType:\u001b[0m      function\n"
      ]
     },
     "metadata": {},
     "output_type": "display_data"
    }
   ],
   "source": [
    "?pd.read_csv"
   ]
  },
  {
   "cell_type": "markdown",
   "metadata": {},
   "source": [
    "Sometimes the documentation that it produces helps you to figure out what you need to put in the function (you can see it gives you some examples), but sometimes, it's still quite hard to parse. In these cases, I recommend you google the function with a specific question (or an error message if you are getting an error message), and you will likely find an explanation. The website [stackoverflow.com](http://www.stackoverflow.com) is a website that you will likely become very familiar with. It is a community driven question and answering platform for coding related questions. It is also often the most useful (and top) search result that comes from googling something."
   ]
  },
  {
   "cell_type": "markdown",
   "metadata": {},
   "source": [
    "## Load and clean the data"
   ]
  },
  {
   "cell_type": "markdown",
   "metadata": {},
   "source": [
    "We first have to load the data. We will read it in as a Pandas \"dataframe\". Dataframes are one of the most important tools for a data scientist. They store data in a structured format, kind of like an excel spreadsheet.\n",
    "\n",
    "We can reference the data set with \"train.csv\" and the test set with \"test.csv\" because our Juptyer Notebook is in the same folder as the data set. If the notebook was in a different folder, we would have to provide a longer path to the file. If you ever create your own notebook and try to read in a file (or you upload new data to use in a Jupyter Notebook), you will either have to put the notebook and the data set in the same folder, or you will have to give it a more complete path to the data set. We will see examples of this later in the course.\n",
    "\n",
    "We store the training data in a \"variable\" called `df_train` and the testing data in a variable called `df_test`, and anytime we want to reference the data, we will use that variable. This convention will be fairly common for us."
   ]
  },
  {
   "cell_type": "code",
   "execution_count": 4,
   "metadata": {},
   "outputs": [],
   "source": [
    "df_train = pd.read_csv(\"train.csv\", index_col=\"ID\")\n",
    "df_test = pd.read_csv(\"test.csv\", index_col=\"ID\")\n"
   ]
  },
  {
   "cell_type": "markdown",
   "metadata": {},
   "source": [
    "Notice that when we called the function `pd.read_csv`, we gave it (or _called_ it with) two _arguments_. The first argument is called a positional argument (i.e., the function knows what it is based on the position, namely that it is first, in the function call). This argument is the name of the dataset to read in.\n",
    "\n",
    "The second argument is called a _keyword_ argument because we called the function with a keyword set equal to something. In this case, we used the keyword `index_col` and we set it equal to the value `\"ID\"`. You can look back up at the function documentation from above (the `?pd.read_csv` cell) to see what the argument does."
   ]
  },
  {
   "cell_type": "markdown",
   "metadata": {},
   "source": [
    "We can find the part of the documentation and read what that argument does, but I've included it below for easier reading (but it is just copy and pasted from above).\n",
    "\n",
    "```\n",
    "index_col : int, str, sequence of int / str, or False, default ``None``\n",
    "  Column(s) to use as the row labels of the ``DataFrame``, either given as\n",
    "  string name or column index. If a sequence of int / str is given, a\n",
    "  MultiIndex is used.\n",
    "\n",
    "  Note: ``index_col=False`` can be used to force pandas to *not* use the first\n",
    "  column as the index, e.g. when you have a malformed file with delimiters at\n",
    "  the end of each line.\n",
    "```"
   ]
  },
  {
   "cell_type": "markdown",
   "metadata": {},
   "source": [
    "Looking at the documentation, we can see that `index_col` gives each row of our data a name, and specifically the name it uses comes from the column named \"ID\" in the original csv file."
   ]
  },
  {
   "cell_type": "markdown",
   "metadata": {},
   "source": [
    "Let's look at the first few rows. We use a built in `method` (a function that is specific to a certain kind of variable, in this case a pandas dataframe) called `head`. This will give a view of the dataframe that should look very familiar to any excel jockey."
   ]
  },
  {
   "cell_type": "code",
   "execution_count": 5,
   "metadata": {},
   "outputs": [
    {
     "data": {
      "text/html": [
       "<div>\n",
       "<style scoped>\n",
       "    .dataframe tbody tr th:only-of-type {\n",
       "        vertical-align: middle;\n",
       "    }\n",
       "\n",
       "    .dataframe tbody tr th {\n",
       "        vertical-align: top;\n",
       "    }\n",
       "\n",
       "    .dataframe thead th {\n",
       "        text-align: right;\n",
       "    }\n",
       "</style>\n",
       "<table border=\"1\" class=\"dataframe\">\n",
       "  <thead>\n",
       "    <tr style=\"text-align: right;\">\n",
       "      <th></th>\n",
       "      <th>Carat Weight</th>\n",
       "      <th>Cut</th>\n",
       "      <th>Color</th>\n",
       "      <th>Clarity</th>\n",
       "      <th>Polish</th>\n",
       "      <th>Symmetry</th>\n",
       "      <th>Report</th>\n",
       "      <th>Price</th>\n",
       "    </tr>\n",
       "    <tr>\n",
       "      <th>ID</th>\n",
       "      <th></th>\n",
       "      <th></th>\n",
       "      <th></th>\n",
       "      <th></th>\n",
       "      <th></th>\n",
       "      <th></th>\n",
       "      <th></th>\n",
       "      <th></th>\n",
       "    </tr>\n",
       "  </thead>\n",
       "  <tbody>\n",
       "    <tr>\n",
       "      <th>1</th>\n",
       "      <td>1.10</td>\n",
       "      <td>Ideal</td>\n",
       "      <td>H</td>\n",
       "      <td>SI1</td>\n",
       "      <td>VG</td>\n",
       "      <td>EX</td>\n",
       "      <td>GIA</td>\n",
       "      <td>$5,169</td>\n",
       "    </tr>\n",
       "    <tr>\n",
       "      <th>2</th>\n",
       "      <td>0.83</td>\n",
       "      <td>Ideal</td>\n",
       "      <td>H</td>\n",
       "      <td>VS1</td>\n",
       "      <td>ID</td>\n",
       "      <td>ID</td>\n",
       "      <td>AGSL</td>\n",
       "      <td>$3,470</td>\n",
       "    </tr>\n",
       "    <tr>\n",
       "      <th>3</th>\n",
       "      <td>0.85</td>\n",
       "      <td>Ideal</td>\n",
       "      <td>H</td>\n",
       "      <td>SI1</td>\n",
       "      <td>EX</td>\n",
       "      <td>EX</td>\n",
       "      <td>GIA</td>\n",
       "      <td>$3,183</td>\n",
       "    </tr>\n",
       "    <tr>\n",
       "      <th>4</th>\n",
       "      <td>0.91</td>\n",
       "      <td>Ideal</td>\n",
       "      <td>E</td>\n",
       "      <td>SI1</td>\n",
       "      <td>VG</td>\n",
       "      <td>VG</td>\n",
       "      <td>GIA</td>\n",
       "      <td>$4,370</td>\n",
       "    </tr>\n",
       "    <tr>\n",
       "      <th>5</th>\n",
       "      <td>0.83</td>\n",
       "      <td>Ideal</td>\n",
       "      <td>G</td>\n",
       "      <td>SI1</td>\n",
       "      <td>EX</td>\n",
       "      <td>EX</td>\n",
       "      <td>GIA</td>\n",
       "      <td>$3,171</td>\n",
       "    </tr>\n",
       "  </tbody>\n",
       "</table>\n",
       "</div>"
      ],
      "text/plain": [
       "    Carat Weight    Cut Color Clarity Polish Symmetry Report     Price\n",
       "ID                                                                    \n",
       "1           1.10  Ideal     H     SI1     VG       EX    GIA   $5,169 \n",
       "2           0.83  Ideal     H     VS1     ID       ID   AGSL   $3,470 \n",
       "3           0.85  Ideal     H     SI1     EX       EX    GIA   $3,183 \n",
       "4           0.91  Ideal     E     SI1     VG       VG    GIA   $4,370 \n",
       "5           0.83  Ideal     G     SI1     EX       EX    GIA   $3,171 "
      ]
     },
     "execution_count": 5,
     "metadata": {},
     "output_type": "execute_result"
    }
   ],
   "source": [
    "df_train.head()"
   ]
  },
  {
   "cell_type": "markdown",
   "metadata": {},
   "source": [
    "What does `head` do?"
   ]
  },
  {
   "cell_type": "code",
   "execution_count": 6,
   "metadata": {},
   "outputs": [
    {
     "data": {
      "text/plain": [
       "\u001b[0;31mSignature:\u001b[0m \u001b[0mdf_train\u001b[0m\u001b[0;34m.\u001b[0m\u001b[0mhead\u001b[0m\u001b[0;34m(\u001b[0m\u001b[0mn\u001b[0m\u001b[0;34m:\u001b[0m \u001b[0;34m'int'\u001b[0m \u001b[0;34m=\u001b[0m \u001b[0;36m5\u001b[0m\u001b[0;34m)\u001b[0m \u001b[0;34m->\u001b[0m \u001b[0;34m'FrameOrSeries'\u001b[0m\u001b[0;34m\u001b[0m\u001b[0;34m\u001b[0m\u001b[0m\n",
       "\u001b[0;31mDocstring:\u001b[0m\n",
       "Return the first `n` rows.\n",
       "\n",
       "This function returns the first `n` rows for the object based\n",
       "on position. It is useful for quickly testing if your object\n",
       "has the right type of data in it.\n",
       "\n",
       "For negative values of `n`, this function returns all rows except\n",
       "the last `n` rows, equivalent to ``df[:-n]``.\n",
       "\n",
       "Parameters\n",
       "----------\n",
       "n : int, default 5\n",
       "    Number of rows to select.\n",
       "\n",
       "Returns\n",
       "-------\n",
       "same type as caller\n",
       "    The first `n` rows of the caller object.\n",
       "\n",
       "See Also\n",
       "--------\n",
       "DataFrame.tail: Returns the last `n` rows.\n",
       "\n",
       "Examples\n",
       "--------\n",
       ">>> df = pd.DataFrame({'animal': ['alligator', 'bee', 'falcon', 'lion',\n",
       "...                    'monkey', 'parrot', 'shark', 'whale', 'zebra']})\n",
       ">>> df\n",
       "      animal\n",
       "0  alligator\n",
       "1        bee\n",
       "2     falcon\n",
       "3       lion\n",
       "4     monkey\n",
       "5     parrot\n",
       "6      shark\n",
       "7      whale\n",
       "8      zebra\n",
       "\n",
       "Viewing the first 5 lines\n",
       "\n",
       ">>> df.head()\n",
       "      animal\n",
       "0  alligator\n",
       "1        bee\n",
       "2     falcon\n",
       "3       lion\n",
       "4     monkey\n",
       "\n",
       "Viewing the first `n` lines (three in this case)\n",
       "\n",
       ">>> df.head(3)\n",
       "      animal\n",
       "0  alligator\n",
       "1        bee\n",
       "2     falcon\n",
       "\n",
       "For negative values of `n`\n",
       "\n",
       ">>> df.head(-3)\n",
       "      animal\n",
       "0  alligator\n",
       "1        bee\n",
       "2     falcon\n",
       "3       lion\n",
       "4     monkey\n",
       "5     parrot\n",
       "\u001b[0;31mFile:\u001b[0m      /opt/conda/lib/python3.9/site-packages/pandas/core/generic.py\n",
       "\u001b[0;31mType:\u001b[0m      method\n"
      ]
     },
     "metadata": {},
     "output_type": "display_data"
    }
   ],
   "source": [
    "?df_train.head"
   ]
  },
  {
   "cell_type": "markdown",
   "metadata": {},
   "source": [
    "Note that we didn't give the function `df_train.head()` any arguments, but we could have. It takes up to one argument called `n`, so we could have also called the function like as follows."
   ]
  },
  {
   "cell_type": "code",
   "execution_count": 7,
   "metadata": {},
   "outputs": [
    {
     "data": {
      "text/html": [
       "<div>\n",
       "<style scoped>\n",
       "    .dataframe tbody tr th:only-of-type {\n",
       "        vertical-align: middle;\n",
       "    }\n",
       "\n",
       "    .dataframe tbody tr th {\n",
       "        vertical-align: top;\n",
       "    }\n",
       "\n",
       "    .dataframe thead th {\n",
       "        text-align: right;\n",
       "    }\n",
       "</style>\n",
       "<table border=\"1\" class=\"dataframe\">\n",
       "  <thead>\n",
       "    <tr style=\"text-align: right;\">\n",
       "      <th></th>\n",
       "      <th>Carat Weight</th>\n",
       "      <th>Cut</th>\n",
       "      <th>Color</th>\n",
       "      <th>Clarity</th>\n",
       "      <th>Polish</th>\n",
       "      <th>Symmetry</th>\n",
       "      <th>Report</th>\n",
       "    </tr>\n",
       "    <tr>\n",
       "      <th>ID</th>\n",
       "      <th></th>\n",
       "      <th></th>\n",
       "      <th></th>\n",
       "      <th></th>\n",
       "      <th></th>\n",
       "      <th></th>\n",
       "      <th></th>\n",
       "    </tr>\n",
       "  </thead>\n",
       "  <tbody>\n",
       "    <tr>\n",
       "      <th>6001</th>\n",
       "      <td>2.18</td>\n",
       "      <td>Very Good</td>\n",
       "      <td>I</td>\n",
       "      <td>SI1</td>\n",
       "      <td>EX</td>\n",
       "      <td>EX</td>\n",
       "      <td>GIA</td>\n",
       "    </tr>\n",
       "    <tr>\n",
       "      <th>6002</th>\n",
       "      <td>2.32</td>\n",
       "      <td>Ideal</td>\n",
       "      <td>E</td>\n",
       "      <td>VVS2</td>\n",
       "      <td>VG</td>\n",
       "      <td>EX</td>\n",
       "      <td>GIA</td>\n",
       "    </tr>\n",
       "    <tr>\n",
       "      <th>6003</th>\n",
       "      <td>0.77</td>\n",
       "      <td>Good</td>\n",
       "      <td>F</td>\n",
       "      <td>VS1</td>\n",
       "      <td>VG</td>\n",
       "      <td>G</td>\n",
       "      <td>GIA</td>\n",
       "    </tr>\n",
       "    <tr>\n",
       "      <th>6004</th>\n",
       "      <td>2.01</td>\n",
       "      <td>Very Good</td>\n",
       "      <td>G</td>\n",
       "      <td>VS2</td>\n",
       "      <td>EX</td>\n",
       "      <td>EX</td>\n",
       "      <td>GIA</td>\n",
       "    </tr>\n",
       "    <tr>\n",
       "      <th>6005</th>\n",
       "      <td>1.39</td>\n",
       "      <td>Very Good</td>\n",
       "      <td>E</td>\n",
       "      <td>VVS2</td>\n",
       "      <td>VG</td>\n",
       "      <td>EX</td>\n",
       "      <td>GIA</td>\n",
       "    </tr>\n",
       "    <tr>\n",
       "      <th>6006</th>\n",
       "      <td>1.22</td>\n",
       "      <td>Ideal</td>\n",
       "      <td>H</td>\n",
       "      <td>VS1</td>\n",
       "      <td>ID</td>\n",
       "      <td>ID</td>\n",
       "      <td>AGSL</td>\n",
       "    </tr>\n",
       "    <tr>\n",
       "      <th>6007</th>\n",
       "      <td>1.01</td>\n",
       "      <td>Very Good</td>\n",
       "      <td>E</td>\n",
       "      <td>VS1</td>\n",
       "      <td>G</td>\n",
       "      <td>VG</td>\n",
       "      <td>GIA</td>\n",
       "    </tr>\n",
       "    <tr>\n",
       "      <th>6008</th>\n",
       "      <td>1.50</td>\n",
       "      <td>Ideal</td>\n",
       "      <td>F</td>\n",
       "      <td>SI1</td>\n",
       "      <td>VG</td>\n",
       "      <td>VG</td>\n",
       "      <td>GIA</td>\n",
       "    </tr>\n",
       "    <tr>\n",
       "      <th>6009</th>\n",
       "      <td>0.90</td>\n",
       "      <td>Very Good</td>\n",
       "      <td>F</td>\n",
       "      <td>SI1</td>\n",
       "      <td>EX</td>\n",
       "      <td>EX</td>\n",
       "      <td>GIA</td>\n",
       "    </tr>\n",
       "    <tr>\n",
       "      <th>6010</th>\n",
       "      <td>2.11</td>\n",
       "      <td>Very Good</td>\n",
       "      <td>E</td>\n",
       "      <td>VVS2</td>\n",
       "      <td>EX</td>\n",
       "      <td>EX</td>\n",
       "      <td>GIA</td>\n",
       "    </tr>\n",
       "  </tbody>\n",
       "</table>\n",
       "</div>"
      ],
      "text/plain": [
       "      Carat Weight        Cut Color Clarity Polish Symmetry Report\n",
       "ID                                                                \n",
       "6001          2.18  Very Good     I     SI1     EX       EX    GIA\n",
       "6002          2.32      Ideal     E    VVS2     VG       EX    GIA\n",
       "6003          0.77       Good     F     VS1     VG        G    GIA\n",
       "6004          2.01  Very Good     G     VS2     EX       EX    GIA\n",
       "6005          1.39  Very Good     E    VVS2     VG       EX    GIA\n",
       "6006          1.22      Ideal     H     VS1     ID       ID   AGSL\n",
       "6007          1.01  Very Good     E     VS1      G       VG    GIA\n",
       "6008          1.50      Ideal     F     SI1     VG       VG    GIA\n",
       "6009          0.90  Very Good     F     SI1     EX       EX    GIA\n",
       "6010          2.11  Very Good     E    VVS2     EX       EX    GIA"
      ]
     },
     "execution_count": 7,
     "metadata": {},
     "output_type": "execute_result"
    }
   ],
   "source": [
    "df_test.head(10)"
   ]
  },
  {
   "cell_type": "markdown",
   "metadata": {},
   "source": [
    "The function is only given one argument, and since there is only one position, it knows the argument is the `n` argument. We could also give it the name (or keyword) of the argument as well."
   ]
  },
  {
   "cell_type": "code",
   "execution_count": 8,
   "metadata": {},
   "outputs": [
    {
     "data": {
      "text/html": [
       "<div>\n",
       "<style scoped>\n",
       "    .dataframe tbody tr th:only-of-type {\n",
       "        vertical-align: middle;\n",
       "    }\n",
       "\n",
       "    .dataframe tbody tr th {\n",
       "        vertical-align: top;\n",
       "    }\n",
       "\n",
       "    .dataframe thead th {\n",
       "        text-align: right;\n",
       "    }\n",
       "</style>\n",
       "<table border=\"1\" class=\"dataframe\">\n",
       "  <thead>\n",
       "    <tr style=\"text-align: right;\">\n",
       "      <th></th>\n",
       "      <th>Carat Weight</th>\n",
       "      <th>Cut</th>\n",
       "      <th>Color</th>\n",
       "      <th>Clarity</th>\n",
       "      <th>Polish</th>\n",
       "      <th>Symmetry</th>\n",
       "      <th>Report</th>\n",
       "    </tr>\n",
       "    <tr>\n",
       "      <th>ID</th>\n",
       "      <th></th>\n",
       "      <th></th>\n",
       "      <th></th>\n",
       "      <th></th>\n",
       "      <th></th>\n",
       "      <th></th>\n",
       "      <th></th>\n",
       "    </tr>\n",
       "  </thead>\n",
       "  <tbody>\n",
       "    <tr>\n",
       "      <th>6001</th>\n",
       "      <td>2.18</td>\n",
       "      <td>Very Good</td>\n",
       "      <td>I</td>\n",
       "      <td>SI1</td>\n",
       "      <td>EX</td>\n",
       "      <td>EX</td>\n",
       "      <td>GIA</td>\n",
       "    </tr>\n",
       "    <tr>\n",
       "      <th>6002</th>\n",
       "      <td>2.32</td>\n",
       "      <td>Ideal</td>\n",
       "      <td>E</td>\n",
       "      <td>VVS2</td>\n",
       "      <td>VG</td>\n",
       "      <td>EX</td>\n",
       "      <td>GIA</td>\n",
       "    </tr>\n",
       "    <tr>\n",
       "      <th>6003</th>\n",
       "      <td>0.77</td>\n",
       "      <td>Good</td>\n",
       "      <td>F</td>\n",
       "      <td>VS1</td>\n",
       "      <td>VG</td>\n",
       "      <td>G</td>\n",
       "      <td>GIA</td>\n",
       "    </tr>\n",
       "    <tr>\n",
       "      <th>6004</th>\n",
       "      <td>2.01</td>\n",
       "      <td>Very Good</td>\n",
       "      <td>G</td>\n",
       "      <td>VS2</td>\n",
       "      <td>EX</td>\n",
       "      <td>EX</td>\n",
       "      <td>GIA</td>\n",
       "    </tr>\n",
       "    <tr>\n",
       "      <th>6005</th>\n",
       "      <td>1.39</td>\n",
       "      <td>Very Good</td>\n",
       "      <td>E</td>\n",
       "      <td>VVS2</td>\n",
       "      <td>VG</td>\n",
       "      <td>EX</td>\n",
       "      <td>GIA</td>\n",
       "    </tr>\n",
       "    <tr>\n",
       "      <th>6006</th>\n",
       "      <td>1.22</td>\n",
       "      <td>Ideal</td>\n",
       "      <td>H</td>\n",
       "      <td>VS1</td>\n",
       "      <td>ID</td>\n",
       "      <td>ID</td>\n",
       "      <td>AGSL</td>\n",
       "    </tr>\n",
       "    <tr>\n",
       "      <th>6007</th>\n",
       "      <td>1.01</td>\n",
       "      <td>Very Good</td>\n",
       "      <td>E</td>\n",
       "      <td>VS1</td>\n",
       "      <td>G</td>\n",
       "      <td>VG</td>\n",
       "      <td>GIA</td>\n",
       "    </tr>\n",
       "    <tr>\n",
       "      <th>6008</th>\n",
       "      <td>1.50</td>\n",
       "      <td>Ideal</td>\n",
       "      <td>F</td>\n",
       "      <td>SI1</td>\n",
       "      <td>VG</td>\n",
       "      <td>VG</td>\n",
       "      <td>GIA</td>\n",
       "    </tr>\n",
       "    <tr>\n",
       "      <th>6009</th>\n",
       "      <td>0.90</td>\n",
       "      <td>Very Good</td>\n",
       "      <td>F</td>\n",
       "      <td>SI1</td>\n",
       "      <td>EX</td>\n",
       "      <td>EX</td>\n",
       "      <td>GIA</td>\n",
       "    </tr>\n",
       "    <tr>\n",
       "      <th>6010</th>\n",
       "      <td>2.11</td>\n",
       "      <td>Very Good</td>\n",
       "      <td>E</td>\n",
       "      <td>VVS2</td>\n",
       "      <td>EX</td>\n",
       "      <td>EX</td>\n",
       "      <td>GIA</td>\n",
       "    </tr>\n",
       "    <tr>\n",
       "      <th>6011</th>\n",
       "      <td>2.12</td>\n",
       "      <td>Very Good</td>\n",
       "      <td>H</td>\n",
       "      <td>SI1</td>\n",
       "      <td>VG</td>\n",
       "      <td>VG</td>\n",
       "      <td>GIA</td>\n",
       "    </tr>\n",
       "    <tr>\n",
       "      <th>6012</th>\n",
       "      <td>1.05</td>\n",
       "      <td>Very Good</td>\n",
       "      <td>G</td>\n",
       "      <td>VS1</td>\n",
       "      <td>EX</td>\n",
       "      <td>EX</td>\n",
       "      <td>GIA</td>\n",
       "    </tr>\n",
       "  </tbody>\n",
       "</table>\n",
       "</div>"
      ],
      "text/plain": [
       "      Carat Weight        Cut Color Clarity Polish Symmetry Report\n",
       "ID                                                                \n",
       "6001          2.18  Very Good     I     SI1     EX       EX    GIA\n",
       "6002          2.32      Ideal     E    VVS2     VG       EX    GIA\n",
       "6003          0.77       Good     F     VS1     VG        G    GIA\n",
       "6004          2.01  Very Good     G     VS2     EX       EX    GIA\n",
       "6005          1.39  Very Good     E    VVS2     VG       EX    GIA\n",
       "6006          1.22      Ideal     H     VS1     ID       ID   AGSL\n",
       "6007          1.01  Very Good     E     VS1      G       VG    GIA\n",
       "6008          1.50      Ideal     F     SI1     VG       VG    GIA\n",
       "6009          0.90  Very Good     F     SI1     EX       EX    GIA\n",
       "6010          2.11  Very Good     E    VVS2     EX       EX    GIA\n",
       "6011          2.12  Very Good     H     SI1     VG       VG    GIA\n",
       "6012          1.05  Very Good     G     VS1     EX       EX    GIA"
      ]
     },
     "execution_count": 8,
     "metadata": {},
     "output_type": "execute_result"
    }
   ],
   "source": [
    "df_test.head(n=12)"
   ]
  },
  {
   "cell_type": "markdown",
   "metadata": {},
   "source": [
    "We can see that `n` controls how many rows we get back. We can also see that the index (`ID`) of the `df_test` starts at `6001` instead of `1` because the ID of the rows in our test set start at `6001`."
   ]
  },
  {
   "cell_type": "markdown",
   "metadata": {},
   "source": [
    "How big are our dataset? We can use another variable specific value called `shape`. Now this is a property (something that just is for the dataframe), not a function. So, we don't put `()` after it."
   ]
  },
  {
   "cell_type": "code",
   "execution_count": 9,
   "metadata": {},
   "outputs": [
    {
     "data": {
      "text/plain": [
       "(6000, 8)"
      ]
     },
     "execution_count": 9,
     "metadata": {},
     "output_type": "execute_result"
    }
   ],
   "source": [
    "df_train.shape"
   ]
  },
  {
   "cell_type": "code",
   "execution_count": 10,
   "metadata": {},
   "outputs": [
    {
     "data": {
      "text/plain": [
       "(3142, 7)"
      ]
     },
     "execution_count": 10,
     "metadata": {},
     "output_type": "execute_result"
    }
   ],
   "source": [
    "df_test.shape"
   ]
  },
  {
   "cell_type": "markdown",
   "metadata": {},
   "source": [
    "What does it actually tell us? Well, the first number is the number of rows, and the second is the number of columns. So, in our training set we have 6000 diamonds in our data set, and 8 pieces of data about each diamond. Similarly, for the test data set, we have 3142 diamonds and seven pieces of data. Note that we have one fewer pieces of data in our testing set. Think about why for a moment... It's because we don't have prices in the testing set, we will be predicting on the testing set and submitting our predictions for the competition."
   ]
  },
  {
   "cell_type": "markdown",
   "metadata": {},
   "source": [
    "Lett's take a closer look at our dataframe to see what is actually in our data. Below, I define a \"function\" that takes in a dataframe and spits out nice summary of a bunch of different factors for each column in the dataframe. We will use this function in nearly every assignment we have, but we don't have to rewrite it. We can just copy and paste it to our new code. Also, we only have to define it once. Once it has been defined, we can use it in the rest of our code. Let's use it to get a better understanding of this particular dataframe."
   ]
  },
  {
   "cell_type": "code",
   "execution_count": 11,
   "metadata": {},
   "outputs": [],
   "source": [
    "def summarize_dataframe(df):\n",
    "    \"\"\"Summarize a dataframe, and report missing values.\"\"\"\n",
    "    missing_values = pd.concat([pd.DataFrame(df.columns, columns=['Variable Name']), \n",
    "                      pd.DataFrame(df.dtypes.values.reshape([-1,1]), columns=['Data Type']),\n",
    "                      pd.DataFrame(df.isnull().sum().values, columns=['Missing Values']), \n",
    "                      pd.DataFrame([df[name].nunique() for name in df.columns], columns=['Unique Values'])], \n",
    "                     axis=1).set_index('Variable Name')\n",
    "    with pd.option_context(\"display.max_rows\", 1000):\n",
    "        display(pd.concat([missing_values, df.describe(include='all').transpose()], axis=1).fillna(\"\"))"
   ]
  },
  {
   "cell_type": "code",
   "execution_count": 12,
   "metadata": {},
   "outputs": [
    {
     "data": {
      "text/html": [
       "<div>\n",
       "<style scoped>\n",
       "    .dataframe tbody tr th:only-of-type {\n",
       "        vertical-align: middle;\n",
       "    }\n",
       "\n",
       "    .dataframe tbody tr th {\n",
       "        vertical-align: top;\n",
       "    }\n",
       "\n",
       "    .dataframe thead th {\n",
       "        text-align: right;\n",
       "    }\n",
       "</style>\n",
       "<table border=\"1\" class=\"dataframe\">\n",
       "  <thead>\n",
       "    <tr style=\"text-align: right;\">\n",
       "      <th></th>\n",
       "      <th>Data Type</th>\n",
       "      <th>Missing Values</th>\n",
       "      <th>Unique Values</th>\n",
       "      <th>count</th>\n",
       "      <th>unique</th>\n",
       "      <th>top</th>\n",
       "      <th>freq</th>\n",
       "      <th>mean</th>\n",
       "      <th>std</th>\n",
       "      <th>min</th>\n",
       "      <th>25%</th>\n",
       "      <th>50%</th>\n",
       "      <th>75%</th>\n",
       "      <th>max</th>\n",
       "    </tr>\n",
       "  </thead>\n",
       "  <tbody>\n",
       "    <tr>\n",
       "      <th>Carat Weight</th>\n",
       "      <td>float64</td>\n",
       "      <td>0</td>\n",
       "      <td>196</td>\n",
       "      <td>6000.0</td>\n",
       "      <td></td>\n",
       "      <td></td>\n",
       "      <td></td>\n",
       "      <td>1.33452</td>\n",
       "      <td>0.475696</td>\n",
       "      <td>0.75</td>\n",
       "      <td>1.0</td>\n",
       "      <td>1.13</td>\n",
       "      <td>1.59</td>\n",
       "      <td>2.91</td>\n",
       "    </tr>\n",
       "    <tr>\n",
       "      <th>Cut</th>\n",
       "      <td>object</td>\n",
       "      <td>0</td>\n",
       "      <td>5</td>\n",
       "      <td>6000.0</td>\n",
       "      <td>5</td>\n",
       "      <td>Ideal</td>\n",
       "      <td>2482</td>\n",
       "      <td></td>\n",
       "      <td></td>\n",
       "      <td></td>\n",
       "      <td></td>\n",
       "      <td></td>\n",
       "      <td></td>\n",
       "      <td></td>\n",
       "    </tr>\n",
       "    <tr>\n",
       "      <th>Color</th>\n",
       "      <td>object</td>\n",
       "      <td>0</td>\n",
       "      <td>6</td>\n",
       "      <td>6000.0</td>\n",
       "      <td>6</td>\n",
       "      <td>G</td>\n",
       "      <td>1501</td>\n",
       "      <td></td>\n",
       "      <td></td>\n",
       "      <td></td>\n",
       "      <td></td>\n",
       "      <td></td>\n",
       "      <td></td>\n",
       "      <td></td>\n",
       "    </tr>\n",
       "    <tr>\n",
       "      <th>Clarity</th>\n",
       "      <td>object</td>\n",
       "      <td>0</td>\n",
       "      <td>7</td>\n",
       "      <td>6000.0</td>\n",
       "      <td>7</td>\n",
       "      <td>SI1</td>\n",
       "      <td>2059</td>\n",
       "      <td></td>\n",
       "      <td></td>\n",
       "      <td></td>\n",
       "      <td></td>\n",
       "      <td></td>\n",
       "      <td></td>\n",
       "      <td></td>\n",
       "    </tr>\n",
       "    <tr>\n",
       "      <th>Polish</th>\n",
       "      <td>object</td>\n",
       "      <td>0</td>\n",
       "      <td>4</td>\n",
       "      <td>6000.0</td>\n",
       "      <td>4</td>\n",
       "      <td>EX</td>\n",
       "      <td>2425</td>\n",
       "      <td></td>\n",
       "      <td></td>\n",
       "      <td></td>\n",
       "      <td></td>\n",
       "      <td></td>\n",
       "      <td></td>\n",
       "      <td></td>\n",
       "    </tr>\n",
       "    <tr>\n",
       "      <th>Symmetry</th>\n",
       "      <td>object</td>\n",
       "      <td>0</td>\n",
       "      <td>4</td>\n",
       "      <td>6000.0</td>\n",
       "      <td>4</td>\n",
       "      <td>VG</td>\n",
       "      <td>2417</td>\n",
       "      <td></td>\n",
       "      <td></td>\n",
       "      <td></td>\n",
       "      <td></td>\n",
       "      <td></td>\n",
       "      <td></td>\n",
       "      <td></td>\n",
       "    </tr>\n",
       "    <tr>\n",
       "      <th>Report</th>\n",
       "      <td>object</td>\n",
       "      <td>0</td>\n",
       "      <td>2</td>\n",
       "      <td>6000.0</td>\n",
       "      <td>2</td>\n",
       "      <td>GIA</td>\n",
       "      <td>5266</td>\n",
       "      <td></td>\n",
       "      <td></td>\n",
       "      <td></td>\n",
       "      <td></td>\n",
       "      <td></td>\n",
       "      <td></td>\n",
       "      <td></td>\n",
       "    </tr>\n",
       "    <tr>\n",
       "      <th>Price</th>\n",
       "      <td>object</td>\n",
       "      <td>0</td>\n",
       "      <td>4821</td>\n",
       "      <td>6000.0</td>\n",
       "      <td>4821</td>\n",
       "      <td>$4,466</td>\n",
       "      <td>8</td>\n",
       "      <td></td>\n",
       "      <td></td>\n",
       "      <td></td>\n",
       "      <td></td>\n",
       "      <td></td>\n",
       "      <td></td>\n",
       "      <td></td>\n",
       "    </tr>\n",
       "  </tbody>\n",
       "</table>\n",
       "</div>"
      ],
      "text/plain": [
       "             Data Type  Missing Values  Unique Values   count unique  \\\n",
       "Carat Weight   float64               0            196  6000.0          \n",
       "Cut             object               0              5  6000.0      5   \n",
       "Color           object               0              6  6000.0      6   \n",
       "Clarity         object               0              7  6000.0      7   \n",
       "Polish          object               0              4  6000.0      4   \n",
       "Symmetry        object               0              4  6000.0      4   \n",
       "Report          object               0              2  6000.0      2   \n",
       "Price           object               0           4821  6000.0   4821   \n",
       "\n",
       "                   top  freq     mean       std   min  25%   50%   75%   max  \n",
       "Carat Weight                  1.33452  0.475696  0.75  1.0  1.13  1.59  2.91  \n",
       "Cut              Ideal  2482                                                  \n",
       "Color                G  1501                                                  \n",
       "Clarity            SI1  2059                                                  \n",
       "Polish              EX  2425                                                  \n",
       "Symmetry            VG  2417                                                  \n",
       "Report             GIA  5266                                                  \n",
       "Price          $4,466      8                                                  "
      ]
     },
     "metadata": {},
     "output_type": "display_data"
    }
   ],
   "source": [
    "summarize_dataframe(df_train)"
   ]
  },
  {
   "cell_type": "code",
   "execution_count": 13,
   "metadata": {},
   "outputs": [
    {
     "data": {
      "text/html": [
       "<div>\n",
       "<style scoped>\n",
       "    .dataframe tbody tr th:only-of-type {\n",
       "        vertical-align: middle;\n",
       "    }\n",
       "\n",
       "    .dataframe tbody tr th {\n",
       "        vertical-align: top;\n",
       "    }\n",
       "\n",
       "    .dataframe thead th {\n",
       "        text-align: right;\n",
       "    }\n",
       "</style>\n",
       "<table border=\"1\" class=\"dataframe\">\n",
       "  <thead>\n",
       "    <tr style=\"text-align: right;\">\n",
       "      <th></th>\n",
       "      <th>Data Type</th>\n",
       "      <th>Missing Values</th>\n",
       "      <th>Unique Values</th>\n",
       "      <th>count</th>\n",
       "      <th>unique</th>\n",
       "      <th>top</th>\n",
       "      <th>freq</th>\n",
       "      <th>mean</th>\n",
       "      <th>std</th>\n",
       "      <th>min</th>\n",
       "      <th>25%</th>\n",
       "      <th>50%</th>\n",
       "      <th>75%</th>\n",
       "      <th>max</th>\n",
       "    </tr>\n",
       "  </thead>\n",
       "  <tbody>\n",
       "    <tr>\n",
       "      <th>Carat Weight</th>\n",
       "      <td>float64</td>\n",
       "      <td>0</td>\n",
       "      <td>172</td>\n",
       "      <td>3142.0</td>\n",
       "      <td></td>\n",
       "      <td></td>\n",
       "      <td></td>\n",
       "      <td>1.33923</td>\n",
       "      <td>0.47834</td>\n",
       "      <td>0.75</td>\n",
       "      <td>1.01</td>\n",
       "      <td>1.13</td>\n",
       "      <td>1.61</td>\n",
       "      <td>2.79</td>\n",
       "    </tr>\n",
       "    <tr>\n",
       "      <th>Cut</th>\n",
       "      <td>object</td>\n",
       "      <td>0</td>\n",
       "      <td>5</td>\n",
       "      <td>3142.0</td>\n",
       "      <td>5</td>\n",
       "      <td>Ideal</td>\n",
       "      <td>1301</td>\n",
       "      <td></td>\n",
       "      <td></td>\n",
       "      <td></td>\n",
       "      <td></td>\n",
       "      <td></td>\n",
       "      <td></td>\n",
       "      <td></td>\n",
       "    </tr>\n",
       "    <tr>\n",
       "      <th>Color</th>\n",
       "      <td>object</td>\n",
       "      <td>0</td>\n",
       "      <td>6</td>\n",
       "      <td>3142.0</td>\n",
       "      <td>6</td>\n",
       "      <td>G</td>\n",
       "      <td>752</td>\n",
       "      <td></td>\n",
       "      <td></td>\n",
       "      <td></td>\n",
       "      <td></td>\n",
       "      <td></td>\n",
       "      <td></td>\n",
       "      <td></td>\n",
       "    </tr>\n",
       "    <tr>\n",
       "      <th>Clarity</th>\n",
       "      <td>object</td>\n",
       "      <td>0</td>\n",
       "      <td>6</td>\n",
       "      <td>3142.0</td>\n",
       "      <td>6</td>\n",
       "      <td>SI1</td>\n",
       "      <td>1051</td>\n",
       "      <td></td>\n",
       "      <td></td>\n",
       "      <td></td>\n",
       "      <td></td>\n",
       "      <td></td>\n",
       "      <td></td>\n",
       "      <td></td>\n",
       "    </tr>\n",
       "    <tr>\n",
       "      <th>Polish</th>\n",
       "      <td>object</td>\n",
       "      <td>0</td>\n",
       "      <td>4</td>\n",
       "      <td>3142.0</td>\n",
       "      <td>4</td>\n",
       "      <td>EX</td>\n",
       "      <td>1279</td>\n",
       "      <td></td>\n",
       "      <td></td>\n",
       "      <td></td>\n",
       "      <td></td>\n",
       "      <td></td>\n",
       "      <td></td>\n",
       "      <td></td>\n",
       "    </tr>\n",
       "    <tr>\n",
       "      <th>Symmetry</th>\n",
       "      <td>object</td>\n",
       "      <td>0</td>\n",
       "      <td>4</td>\n",
       "      <td>3142.0</td>\n",
       "      <td>4</td>\n",
       "      <td>VG</td>\n",
       "      <td>1250</td>\n",
       "      <td></td>\n",
       "      <td></td>\n",
       "      <td></td>\n",
       "      <td></td>\n",
       "      <td></td>\n",
       "      <td></td>\n",
       "      <td></td>\n",
       "    </tr>\n",
       "    <tr>\n",
       "      <th>Report</th>\n",
       "      <td>object</td>\n",
       "      <td>0</td>\n",
       "      <td>2</td>\n",
       "      <td>3142.0</td>\n",
       "      <td>2</td>\n",
       "      <td>GIA</td>\n",
       "      <td>2757</td>\n",
       "      <td></td>\n",
       "      <td></td>\n",
       "      <td></td>\n",
       "      <td></td>\n",
       "      <td></td>\n",
       "      <td></td>\n",
       "      <td></td>\n",
       "    </tr>\n",
       "  </tbody>\n",
       "</table>\n",
       "</div>"
      ],
      "text/plain": [
       "             Data Type  Missing Values  Unique Values   count unique    top  \\\n",
       "Carat Weight   float64               0            172  3142.0                 \n",
       "Cut             object               0              5  3142.0      5  Ideal   \n",
       "Color           object               0              6  3142.0      6      G   \n",
       "Clarity         object               0              6  3142.0      6    SI1   \n",
       "Polish          object               0              4  3142.0      4     EX   \n",
       "Symmetry        object               0              4  3142.0      4     VG   \n",
       "Report          object               0              2  3142.0      2    GIA   \n",
       "\n",
       "              freq     mean      std   min   25%   50%   75%   max  \n",
       "Carat Weight        1.33923  0.47834  0.75  1.01  1.13  1.61  2.79  \n",
       "Cut           1301                                                  \n",
       "Color          752                                                  \n",
       "Clarity       1051                                                  \n",
       "Polish        1279                                                  \n",
       "Symmetry      1250                                                  \n",
       "Report        2757                                                  "
      ]
     },
     "metadata": {},
     "output_type": "display_data"
    }
   ],
   "source": [
    "summarize_dataframe(df_test)"
   ]
  },
  {
   "cell_type": "markdown",
   "metadata": {},
   "source": [
    "We can see that in both our training and testing data, we don't have any missing data. This will greatly simplify our data preparation. We can also see the type of each data. Generally, the most common data types we'll see are `float64`, which is just a number, and `object`, which is basically anything that is not a number. The most common example of an `object` is a piece of data that is text based, and it generally means that the data is _categorical_. In this case we can see how many categories each data type has by lookin at the column \"Unique Values\". For example, the are five unique values for \"Cut\"."
   ]
  },
  {
   "cell_type": "markdown",
   "metadata": {},
   "source": [
    "We can see that \"Price\" is also an `object` type for our training data set. This is a little unexpected because \"Price\" should just be a number. Let's take a look at what is in that column. We can do that by _indexing_ into our dataframe to get back just the \"Price\" column like below."
   ]
  },
  {
   "cell_type": "code",
   "execution_count": 14,
   "metadata": {},
   "outputs": [
    {
     "data": {
      "text/plain": [
       "ID\n",
       "1         $5,169 \n",
       "2         $3,470 \n",
       "3         $3,183 \n",
       "4         $4,370 \n",
       "5         $3,171 \n",
       "          ...    \n",
       "5996      $6,250 \n",
       "5997      $5,328 \n",
       "5998      $6,157 \n",
       "5999     $11,206 \n",
       "6000     $30,507 \n",
       "Name: Price, Length: 6000, dtype: object"
      ]
     },
     "execution_count": 14,
     "metadata": {},
     "output_type": "execute_result"
    }
   ],
   "source": [
    "df_train['Price']"
   ]
  },
  {
   "cell_type": "markdown",
   "metadata": {},
   "source": [
    "We can then immediately see what the problem is. The \"Price\" column includes a dollar sign \"$\" and a comma. That made the computer guess that the data in the column is an object. The computer doesn't know what type these pieces of data are supposed to be, so it has make it's best guess when it reads it in. It has gotten it wrong here, and we need to fix it in order to successfully build our models."
   ]
  },
  {
   "cell_type": "markdown",
   "metadata": {},
   "source": [
    "Well, the code to do that is obviously the following."
   ]
  },
  {
   "cell_type": "code",
   "execution_count": 15,
   "metadata": {},
   "outputs": [
    {
     "data": {
      "text/plain": [
       "ID\n",
       "1        5169.0\n",
       "2        3470.0\n",
       "3        3183.0\n",
       "4        4370.0\n",
       "5        3171.0\n",
       "         ...   \n",
       "5996     6250.0\n",
       "5997     5328.0\n",
       "5998     6157.0\n",
       "5999    11206.0\n",
       "6000    30507.0\n",
       "Name: Price, Length: 6000, dtype: float64"
      ]
     },
     "execution_count": 15,
     "metadata": {},
     "output_type": "execute_result"
    }
   ],
   "source": [
    "df_train['Price'].replace(to_replace='[\\$,]', value='', regex=True).astype(float)"
   ]
  },
  {
   "cell_type": "markdown",
   "metadata": {},
   "source": [
    "We can see at the bottom that the data type (or `dtype`) is now `float64`, the number we were looking for.\n",
    "\n",
    "However, the code above was in no way obvious, particularly when you are new to python."
   ]
  },
  {
   "cell_type": "markdown",
   "metadata": {},
   "source": [
    "### Aside: How would I figure that piece of code out?"
   ]
  },
  {
   "cell_type": "markdown",
   "metadata": {},
   "source": [
    "As an exercise, let's walk through how one would go about figuring out both how to convert a column of data that includes dollar signs and commas into a numerical value. This is not something that you should expect to know off the top of your head or memorize. You should instead learn how to re-discover this kind of step for yourself when necessary."
   ]
  },
  {
   "cell_type": "markdown",
   "metadata": {},
   "source": [
    "The first thing I did was google \"convert dollar value to numeric pandas.\" The first result was the following [Stack overflow article](https://stackoverflow.com/questions/32464280/converting-currency-with-to-numbers-in-python-pandas). Take a moment and read the question and the first answer."
   ]
  },
  {
   "cell_type": "markdown",
   "metadata": {},
   "source": [
    "The question is asking almost for what we are trying to do, but in the question there are multiple columns that they need to convert (all except for the first column). So, we need to modify their answer a little bit."
   ]
  },
  {
   "cell_type": "markdown",
   "metadata": {},
   "source": [
    "Since they are trying to convert multiple columns, they use the piece of code `df.columns[1:]` instead of the `'Price'` that was in our piece of code. Let's see what that does. Note that they're dataframe is called `df` while ours is called `df_train`, so we'll have to use `df_train.columns[1:]`."
   ]
  },
  {
   "cell_type": "code",
   "execution_count": 16,
   "metadata": {},
   "outputs": [
    {
     "data": {
      "text/plain": [
       "Index(['Cut', 'Color', 'Clarity', 'Polish', 'Symmetry', 'Report', 'Price'], dtype='object')"
      ]
     },
     "execution_count": 16,
     "metadata": {},
     "output_type": "execute_result"
    }
   ],
   "source": [
    "df_train.columns[1:]"
   ]
  },
  {
   "cell_type": "markdown",
   "metadata": {},
   "source": [
    "Ah, it gives us a list of the column names, except for the first column (which is \"Carat Weight\" in our data set). So, since we only want to convert a single column, then we can just type in a single column. That's why we use `df_train['Price']` instead of `df_train[df_train.columns[1:]]`."
   ]
  },
  {
   "cell_type": "code",
   "execution_count": 17,
   "metadata": {},
   "outputs": [
    {
     "data": {
      "text/plain": [
       "ID\n",
       "1         $5,169 \n",
       "2         $3,470 \n",
       "3         $3,183 \n",
       "4         $4,370 \n",
       "5         $3,171 \n",
       "          ...    \n",
       "5996      $6,250 \n",
       "5997      $5,328 \n",
       "5998      $6,157 \n",
       "5999     $11,206 \n",
       "6000     $30,507 \n",
       "Name: Price, Length: 6000, dtype: object"
      ]
     },
     "execution_count": 17,
     "metadata": {},
     "output_type": "execute_result"
    }
   ],
   "source": [
    "df_train['Price']"
   ]
  },
  {
   "cell_type": "markdown",
   "metadata": {},
   "source": [
    "The next thing that happens is the `.replace()` method. Documentation on the replace method is [here](https://pandas.pydata.org/pandas-docs/stable/reference/api/pandas.DataFrame.replace.html). However, documentation can be a little hard to read, so let's just play around with it and see if we can figure out what is going on."
   ]
  },
  {
   "cell_type": "code",
   "execution_count": 18,
   "metadata": {},
   "outputs": [
    {
     "data": {
      "text/plain": [
       "ID\n",
       "1         5169 \n",
       "2         3470 \n",
       "3         3183 \n",
       "4         4370 \n",
       "5         3171 \n",
       "         ...   \n",
       "5996      6250 \n",
       "5997      5328 \n",
       "5998      6157 \n",
       "5999     11206 \n",
       "6000     30507 \n",
       "Name: Price, Length: 6000, dtype: object"
      ]
     },
     "execution_count": 18,
     "metadata": {},
     "output_type": "execute_result"
    }
   ],
   "source": [
    "df_train['Price'].replace(to_replace='[\\$,]', value='', regex=True)"
   ]
  },
  {
   "cell_type": "markdown",
   "metadata": {},
   "source": [
    "Okay, if we just use the `.replace()` command with the same parameters it looks like it gives us back almost what we want. However, the `dtype` is still `object`, so we're not quite there. However, it can be unclear what part of those paramaters is necessary. Let's try taking some out and changing things to see what happens."
   ]
  },
  {
   "cell_type": "markdown",
   "metadata": {},
   "source": [
    "Below, I remove the `regex=True` parameter. Just to pull out the relevant part of the documentation:"
   ]
  },
  {
   "cell_type": "code",
   "execution_count": 19,
   "metadata": {},
   "outputs": [
    {
     "data": {
      "text/plain": [
       "ID\n",
       "1         $5,169 \n",
       "2         $3,470 \n",
       "3         $3,183 \n",
       "4         $4,370 \n",
       "5         $3,171 \n",
       "          ...    \n",
       "5996      $6,250 \n",
       "5997      $5,328 \n",
       "5998      $6,157 \n",
       "5999     $11,206 \n",
       "6000     $30,507 \n",
       "Name: Price, Length: 6000, dtype: object"
      ]
     },
     "execution_count": 19,
     "metadata": {},
     "output_type": "execute_result"
    }
   ],
   "source": [
    "df_train['Price'].replace(to_replace='[\\$,]', value='')"
   ]
  },
  {
   "cell_type": "markdown",
   "metadata": {},
   "source": [
    "Okay, that seemed to do nothing. Let's look at the documentation and see if we can figure out why:\n",
    "\n",
    "\n",
    "```\n",
    "regex: bool or same types as to_replace, default False\n",
    "\n",
    "Whether to interpret to_replace and/or value as regular expressions. If this is True then to_replace must be a string. Alternatively, this could be a regular expression or a list, dict, or array of regular expressions in which case to_replace must be None.\n",
    "```\n",
    "\n",
    "Ah, this interprets the `to_replace` parameter as a \"regular expression.\" A regular expression is a particular way to match characters in strings. They can get very complicated, but they are also really useful when working with string data. We won't use regular expressions much in our class, but if you are interested in reading a little more, a nice introduction can be found [here](https://www.oreilly.com/content/an-introduction-to-regular-expressions/). I don't recommend you spend much time learning regular expressions at this point in your data science journey."
   ]
  },
  {
   "cell_type": "markdown",
   "metadata": {},
   "source": [
    "Let's try to figure out just what the `to_replace` parameter does. Let's just try to replace the `$` symbol."
   ]
  },
  {
   "cell_type": "code",
   "execution_count": 20,
   "metadata": {},
   "outputs": [
    {
     "data": {
      "text/plain": [
       "ID\n",
       "1         $5,169 \n",
       "2         $3,470 \n",
       "3         $3,183 \n",
       "4         $4,370 \n",
       "5         $3,171 \n",
       "          ...    \n",
       "5996      $6,250 \n",
       "5997      $5,328 \n",
       "5998      $6,157 \n",
       "5999     $11,206 \n",
       "6000     $30,507 \n",
       "Name: Price, Length: 6000, dtype: object"
      ]
     },
     "execution_count": 20,
     "metadata": {},
     "output_type": "execute_result"
    }
   ],
   "source": [
    "df_train['Price'].replace(to_replace='$', value='', regex=True)"
   ]
  },
  {
   "cell_type": "markdown",
   "metadata": {},
   "source": [
    "That didn't work. Let's try it with the `\\` like it was originally written."
   ]
  },
  {
   "cell_type": "code",
   "execution_count": 21,
   "metadata": {},
   "outputs": [
    {
     "data": {
      "text/plain": [
       "ID\n",
       "1         5,169 \n",
       "2         3,470 \n",
       "3         3,183 \n",
       "4         4,370 \n",
       "5         3,171 \n",
       "          ...   \n",
       "5996      6,250 \n",
       "5997      5,328 \n",
       "5998      6,157 \n",
       "5999     11,206 \n",
       "6000     30,507 \n",
       "Name: Price, Length: 6000, dtype: object"
      ]
     },
     "execution_count": 21,
     "metadata": {},
     "output_type": "execute_result"
    }
   ],
   "source": [
    "df_train['Price'].replace(to_replace='\\$', value='', regex=True)"
   ]
  },
  {
   "cell_type": "markdown",
   "metadata": {},
   "source": [
    "Ah, that worked. So, it seems like when you write a `$` symbol in the regular expression, you have to have a `\\` in front of it.\n",
    "\n",
    "What about the comma?"
   ]
  },
  {
   "cell_type": "code",
   "execution_count": 22,
   "metadata": {},
   "outputs": [
    {
     "data": {
      "text/plain": [
       "ID\n",
       "1         $5169 \n",
       "2         $3470 \n",
       "3         $3183 \n",
       "4         $4370 \n",
       "5         $3171 \n",
       "          ...   \n",
       "5996      $6250 \n",
       "5997      $5328 \n",
       "5998      $6157 \n",
       "5999     $11206 \n",
       "6000     $30507 \n",
       "Name: Price, Length: 6000, dtype: object"
      ]
     },
     "execution_count": 22,
     "metadata": {},
     "output_type": "execute_result"
    }
   ],
   "source": [
    "df_train['Price'].replace(to_replace=',', value='', regex=True)"
   ]
  },
  {
   "cell_type": "markdown",
   "metadata": {},
   "source": [
    "With the comma we don't need the `\\`. Alright, something to file away for later. Let's try putting both the `\\$` and the `,` in the `to_replace` parameter."
   ]
  },
  {
   "cell_type": "code",
   "execution_count": 23,
   "metadata": {},
   "outputs": [
    {
     "data": {
      "text/plain": [
       "ID\n",
       "1         $5,169 \n",
       "2         $3,470 \n",
       "3         $3,183 \n",
       "4         $4,370 \n",
       "5         $3,171 \n",
       "          ...    \n",
       "5996      $6,250 \n",
       "5997      $5,328 \n",
       "5998      $6,157 \n",
       "5999     $11,206 \n",
       "6000     $30,507 \n",
       "Name: Price, Length: 6000, dtype: object"
      ]
     },
     "execution_count": 23,
     "metadata": {},
     "output_type": "execute_result"
    }
   ],
   "source": [
    "df_train['Price'].replace(to_replace='\\$,', value='', regex=True)"
   ]
  },
  {
   "cell_type": "markdown",
   "metadata": {},
   "source": [
    "Didn't do anything. So, the only thing missing from the original statement is the brackets around the `\\$,`. Without the brackets, maybe we can guess that it is looking for strings like `$,` in the text to replace. Let's try that be replacing it with something we know is there like `\\$5`, which is in the first row of data"
   ]
  },
  {
   "cell_type": "code",
   "execution_count": 24,
   "metadata": {},
   "outputs": [
    {
     "data": {
      "text/plain": [
       "ID\n",
       "1           ,169 \n",
       "2         $3,470 \n",
       "3         $3,183 \n",
       "4         $4,370 \n",
       "5         $3,171 \n",
       "          ...    \n",
       "5996      $6,250 \n",
       "5997        ,328 \n",
       "5998      $6,157 \n",
       "5999     $11,206 \n",
       "6000     $30,507 \n",
       "Name: Price, Length: 6000, dtype: object"
      ]
     },
     "execution_count": 24,
     "metadata": {},
     "output_type": "execute_result"
    }
   ],
   "source": [
    "df_train['Price'].replace(to_replace='\\$5', value='', regex=True)"
   ]
  },
  {
   "cell_type": "markdown",
   "metadata": {},
   "source": [
    "Yes, it is matching exact strings. We really want to match (and then replace) either a `$` **or** a `,`. That must be what the `[]` means. It means find either of those things and match and replace them."
   ]
  },
  {
   "cell_type": "code",
   "execution_count": 25,
   "metadata": {},
   "outputs": [
    {
     "data": {
      "text/plain": [
       "ID\n",
       "1         5169 \n",
       "2         3470 \n",
       "3         3183 \n",
       "4         4370 \n",
       "5         3171 \n",
       "         ...   \n",
       "5996      6250 \n",
       "5997      5328 \n",
       "5998      6157 \n",
       "5999     11206 \n",
       "6000     30507 \n",
       "Name: Price, Length: 6000, dtype: object"
      ]
     },
     "execution_count": 25,
     "metadata": {},
     "output_type": "execute_result"
    }
   ],
   "source": [
    "df_train['Price'].replace(to_replace='[\\$,]', value='', regex=True)"
   ]
  },
  {
   "cell_type": "markdown",
   "metadata": {},
   "source": [
    "Indeed. What if we add a `5` to the things we put in the brackets?"
   ]
  },
  {
   "cell_type": "code",
   "execution_count": 26,
   "metadata": {},
   "outputs": [
    {
     "data": {
      "text/plain": [
       "ID\n",
       "1          169 \n",
       "2         3470 \n",
       "3         3183 \n",
       "4         4370 \n",
       "5         3171 \n",
       "         ...   \n",
       "5996       620 \n",
       "5997       328 \n",
       "5998       617 \n",
       "5999     11206 \n",
       "6000      3007 \n",
       "Name: Price, Length: 6000, dtype: object"
      ]
     },
     "execution_count": 26,
     "metadata": {},
     "output_type": "execute_result"
    }
   ],
   "source": [
    "df_train['Price'].replace(to_replace='[\\$,5]', value='', regex=True)"
   ]
  },
  {
   "cell_type": "markdown",
   "metadata": {},
   "source": [
    "We get rid of all of the `5`s. We obviously don't want that, but now we have a sense for what is going on. What if we replace `value=''` with something else?"
   ]
  },
  {
   "cell_type": "code",
   "execution_count": 27,
   "metadata": {},
   "outputs": [
    {
     "data": {
      "text/plain": [
       "ID\n",
       "1         *5*169 \n",
       "2         *3*470 \n",
       "3         *3*183 \n",
       "4         *4*370 \n",
       "5         *3*171 \n",
       "          ...    \n",
       "5996      *6*250 \n",
       "5997      *5*328 \n",
       "5998      *6*157 \n",
       "5999     *11*206 \n",
       "6000     *30*507 \n",
       "Name: Price, Length: 6000, dtype: object"
      ]
     },
     "execution_count": 27,
     "metadata": {},
     "output_type": "execute_result"
    }
   ],
   "source": [
    "df_train['Price'].replace(to_replace='[\\$,]', value='*', regex=True)"
   ]
  },
  {
   "cell_type": "markdown",
   "metadata": {},
   "source": [
    "Ah, `value` is what is replaced, and when we set it to `value=''`, it says replace whatever you find with nothing, which effectively gets rid of it."
   ]
  },
  {
   "cell_type": "markdown",
   "metadata": {},
   "source": [
    "The final step is just to figure out what `.astype(float)` means. Hopefully, this step is a little easier. We can see that if we don't include it, the `dtype` of the data ends up being `object`. If we do include it, it becomes `float64`. So, it's just a way of telling the computer that the data should be viewed as a number."
   ]
  },
  {
   "cell_type": "code",
   "execution_count": 28,
   "metadata": {},
   "outputs": [
    {
     "data": {
      "text/plain": [
       "ID\n",
       "1        5169.0\n",
       "2        3470.0\n",
       "3        3183.0\n",
       "4        4370.0\n",
       "5        3171.0\n",
       "         ...   \n",
       "5996     6250.0\n",
       "5997     5328.0\n",
       "5998     6157.0\n",
       "5999    11206.0\n",
       "6000    30507.0\n",
       "Name: Price, Length: 6000, dtype: float64"
      ]
     },
     "execution_count": 28,
     "metadata": {},
     "output_type": "execute_result"
    }
   ],
   "source": [
    "df_train['Price'].replace(to_replace='[\\$,]', value='', regex=True).astype(float)"
   ]
  },
  {
   "cell_type": "markdown",
   "metadata": {},
   "source": [
    "We've worked through this example not because this is a very important example in and of itself, but it is very common for a programmer to find code somewhere online and have to figure out how and why it works. The process of exploring/playing with code is very helpful in figuring out what something does. Don't be afraid to add a new cell at any point in a notebook (use the `+` button in the toolbar at the top of the notebook) and experiment with changing up the code. This is the most effective way to learn."
   ]
  },
  {
   "cell_type": "markdown",
   "metadata": {},
   "source": [
    "## Prepare the data"
   ]
  },
  {
   "cell_type": "markdown",
   "metadata": {},
   "source": [
    "Okay, now we actually need to add this new column of price data that is correctly labeled as a number. To do that, we create a new column called `Price_numeric` and we just say it's equal to our transformed original column. We can do that as below."
   ]
  },
  {
   "cell_type": "code",
   "execution_count": 29,
   "metadata": {},
   "outputs": [],
   "source": [
    "df_train['Price_numeric'] = df_train['Price'].replace(to_replace='[\\$,]', value='', regex=True).astype(float)"
   ]
  },
  {
   "cell_type": "markdown",
   "metadata": {},
   "source": [
    "Let's make sure it stuck and look at our data again."
   ]
  },
  {
   "cell_type": "code",
   "execution_count": 30,
   "metadata": {},
   "outputs": [
    {
     "data": {
      "text/html": [
       "<div>\n",
       "<style scoped>\n",
       "    .dataframe tbody tr th:only-of-type {\n",
       "        vertical-align: middle;\n",
       "    }\n",
       "\n",
       "    .dataframe tbody tr th {\n",
       "        vertical-align: top;\n",
       "    }\n",
       "\n",
       "    .dataframe thead th {\n",
       "        text-align: right;\n",
       "    }\n",
       "</style>\n",
       "<table border=\"1\" class=\"dataframe\">\n",
       "  <thead>\n",
       "    <tr style=\"text-align: right;\">\n",
       "      <th></th>\n",
       "      <th>Data Type</th>\n",
       "      <th>Missing Values</th>\n",
       "      <th>Unique Values</th>\n",
       "      <th>count</th>\n",
       "      <th>unique</th>\n",
       "      <th>top</th>\n",
       "      <th>freq</th>\n",
       "      <th>mean</th>\n",
       "      <th>std</th>\n",
       "      <th>min</th>\n",
       "      <th>25%</th>\n",
       "      <th>50%</th>\n",
       "      <th>75%</th>\n",
       "      <th>max</th>\n",
       "    </tr>\n",
       "  </thead>\n",
       "  <tbody>\n",
       "    <tr>\n",
       "      <th>Carat Weight</th>\n",
       "      <td>float64</td>\n",
       "      <td>0</td>\n",
       "      <td>196</td>\n",
       "      <td>6000.0</td>\n",
       "      <td></td>\n",
       "      <td></td>\n",
       "      <td></td>\n",
       "      <td>1.33452</td>\n",
       "      <td>0.475696</td>\n",
       "      <td>0.75</td>\n",
       "      <td>1.0</td>\n",
       "      <td>1.13</td>\n",
       "      <td>1.59</td>\n",
       "      <td>2.91</td>\n",
       "    </tr>\n",
       "    <tr>\n",
       "      <th>Cut</th>\n",
       "      <td>object</td>\n",
       "      <td>0</td>\n",
       "      <td>5</td>\n",
       "      <td>6000.0</td>\n",
       "      <td>5</td>\n",
       "      <td>Ideal</td>\n",
       "      <td>2482</td>\n",
       "      <td></td>\n",
       "      <td></td>\n",
       "      <td></td>\n",
       "      <td></td>\n",
       "      <td></td>\n",
       "      <td></td>\n",
       "      <td></td>\n",
       "    </tr>\n",
       "    <tr>\n",
       "      <th>Color</th>\n",
       "      <td>object</td>\n",
       "      <td>0</td>\n",
       "      <td>6</td>\n",
       "      <td>6000.0</td>\n",
       "      <td>6</td>\n",
       "      <td>G</td>\n",
       "      <td>1501</td>\n",
       "      <td></td>\n",
       "      <td></td>\n",
       "      <td></td>\n",
       "      <td></td>\n",
       "      <td></td>\n",
       "      <td></td>\n",
       "      <td></td>\n",
       "    </tr>\n",
       "    <tr>\n",
       "      <th>Clarity</th>\n",
       "      <td>object</td>\n",
       "      <td>0</td>\n",
       "      <td>7</td>\n",
       "      <td>6000.0</td>\n",
       "      <td>7</td>\n",
       "      <td>SI1</td>\n",
       "      <td>2059</td>\n",
       "      <td></td>\n",
       "      <td></td>\n",
       "      <td></td>\n",
       "      <td></td>\n",
       "      <td></td>\n",
       "      <td></td>\n",
       "      <td></td>\n",
       "    </tr>\n",
       "    <tr>\n",
       "      <th>Polish</th>\n",
       "      <td>object</td>\n",
       "      <td>0</td>\n",
       "      <td>4</td>\n",
       "      <td>6000.0</td>\n",
       "      <td>4</td>\n",
       "      <td>EX</td>\n",
       "      <td>2425</td>\n",
       "      <td></td>\n",
       "      <td></td>\n",
       "      <td></td>\n",
       "      <td></td>\n",
       "      <td></td>\n",
       "      <td></td>\n",
       "      <td></td>\n",
       "    </tr>\n",
       "    <tr>\n",
       "      <th>Symmetry</th>\n",
       "      <td>object</td>\n",
       "      <td>0</td>\n",
       "      <td>4</td>\n",
       "      <td>6000.0</td>\n",
       "      <td>4</td>\n",
       "      <td>VG</td>\n",
       "      <td>2417</td>\n",
       "      <td></td>\n",
       "      <td></td>\n",
       "      <td></td>\n",
       "      <td></td>\n",
       "      <td></td>\n",
       "      <td></td>\n",
       "      <td></td>\n",
       "    </tr>\n",
       "    <tr>\n",
       "      <th>Report</th>\n",
       "      <td>object</td>\n",
       "      <td>0</td>\n",
       "      <td>2</td>\n",
       "      <td>6000.0</td>\n",
       "      <td>2</td>\n",
       "      <td>GIA</td>\n",
       "      <td>5266</td>\n",
       "      <td></td>\n",
       "      <td></td>\n",
       "      <td></td>\n",
       "      <td></td>\n",
       "      <td></td>\n",
       "      <td></td>\n",
       "      <td></td>\n",
       "    </tr>\n",
       "    <tr>\n",
       "      <th>Price</th>\n",
       "      <td>object</td>\n",
       "      <td>0</td>\n",
       "      <td>4821</td>\n",
       "      <td>6000.0</td>\n",
       "      <td>4821</td>\n",
       "      <td>$4,466</td>\n",
       "      <td>8</td>\n",
       "      <td></td>\n",
       "      <td></td>\n",
       "      <td></td>\n",
       "      <td></td>\n",
       "      <td></td>\n",
       "      <td></td>\n",
       "      <td></td>\n",
       "    </tr>\n",
       "    <tr>\n",
       "      <th>Price_numeric</th>\n",
       "      <td>float64</td>\n",
       "      <td>0</td>\n",
       "      <td>4821</td>\n",
       "      <td>6000.0</td>\n",
       "      <td></td>\n",
       "      <td></td>\n",
       "      <td></td>\n",
       "      <td>11791.579333</td>\n",
       "      <td>10184.350051</td>\n",
       "      <td>2184.0</td>\n",
       "      <td>5150.5</td>\n",
       "      <td>7857.0</td>\n",
       "      <td>15036.5</td>\n",
       "      <td>101561.0</td>\n",
       "    </tr>\n",
       "  </tbody>\n",
       "</table>\n",
       "</div>"
      ],
      "text/plain": [
       "              Data Type  Missing Values  Unique Values   count unique  \\\n",
       "Carat Weight    float64               0            196  6000.0          \n",
       "Cut              object               0              5  6000.0      5   \n",
       "Color            object               0              6  6000.0      6   \n",
       "Clarity          object               0              7  6000.0      7   \n",
       "Polish           object               0              4  6000.0      4   \n",
       "Symmetry         object               0              4  6000.0      4   \n",
       "Report           object               0              2  6000.0      2   \n",
       "Price            object               0           4821  6000.0   4821   \n",
       "Price_numeric   float64               0           4821  6000.0          \n",
       "\n",
       "                    top  freq          mean           std     min     25%  \\\n",
       "Carat Weight                        1.33452      0.475696    0.75     1.0   \n",
       "Cut               Ideal  2482                                               \n",
       "Color                 G  1501                                               \n",
       "Clarity             SI1  2059                                               \n",
       "Polish               EX  2425                                               \n",
       "Symmetry             VG  2417                                               \n",
       "Report              GIA  5266                                               \n",
       "Price           $4,466      8                                               \n",
       "Price_numeric                  11791.579333  10184.350051  2184.0  5150.5   \n",
       "\n",
       "                  50%      75%       max  \n",
       "Carat Weight     1.13     1.59      2.91  \n",
       "Cut                                       \n",
       "Color                                     \n",
       "Clarity                                   \n",
       "Polish                                    \n",
       "Symmetry                                  \n",
       "Report                                    \n",
       "Price                                     \n",
       "Price_numeric  7857.0  15036.5  101561.0  "
      ]
     },
     "metadata": {},
     "output_type": "display_data"
    }
   ],
   "source": [
    "summarize_dataframe(df_train)"
   ]
  },
  {
   "cell_type": "markdown",
   "metadata": {},
   "source": [
    "It worked fine."
   ]
  },
  {
   "cell_type": "markdown",
   "metadata": {},
   "source": [
    "Let's take a look a what is in one of our other columns of data. Let's say the `Cut` data. We know from the `summarize_dataframe` command that it consists of five unique values."
   ]
  },
  {
   "cell_type": "code",
   "execution_count": 31,
   "metadata": {},
   "outputs": [
    {
     "data": {
      "text/plain": [
       "ID\n",
       "1                 Ideal\n",
       "2                 Ideal\n",
       "3                 Ideal\n",
       "4                 Ideal\n",
       "5                 Ideal\n",
       "             ...       \n",
       "5996              Ideal\n",
       "5997          Very Good\n",
       "5998              Ideal\n",
       "5999    Signature-Ideal\n",
       "6000              Ideal\n",
       "Name: Cut, Length: 6000, dtype: object"
      ]
     },
     "execution_count": 31,
     "metadata": {},
     "output_type": "execute_result"
    }
   ],
   "source": [
    "df_train['Cut']"
   ]
  },
  {
   "cell_type": "markdown",
   "metadata": {},
   "source": [
    "That tells us something, but it is a bit hard to figure out what the possible values are. We can get those by using the `.value_counts()` method."
   ]
  },
  {
   "cell_type": "code",
   "execution_count": 32,
   "metadata": {},
   "outputs": [
    {
     "data": {
      "text/plain": [
       "Ideal              2482\n",
       "Very Good          2428\n",
       "Good                708\n",
       "Signature-Ideal     253\n",
       "Fair                129\n",
       "Name: Cut, dtype: int64"
      ]
     },
     "execution_count": 32,
     "metadata": {},
     "output_type": "execute_result"
    }
   ],
   "source": [
    "df_train['Cut'].value_counts()"
   ]
  },
  {
   "cell_type": "markdown",
   "metadata": {},
   "source": [
    "This tells us what all of the possible types are, and it gives use the number of each type. As we can see, `Ideal` is the most common cut followed by `Very Good`."
   ]
  },
  {
   "cell_type": "markdown",
   "metadata": {},
   "source": [
    "Feel free to explore the data some more here to get familiar with what is in it. I've left a blank cell to encourge you to do that, but you can always add your own cells with the plus button on the toolbar."
   ]
  },
  {
   "cell_type": "code",
   "execution_count": null,
   "metadata": {},
   "outputs": [],
   "source": []
  },
  {
   "cell_type": "markdown",
   "metadata": {},
   "source": [
    "## Split into `smaller_train` and `validation` Data Sets"
   ]
  },
  {
   "cell_type": "markdown",
   "metadata": {},
   "source": [
    "However, we are not done yet manipulating our data. A best practice in machine learning is to further split up the training set into a smaller training set and a validation set. You can compare the performance of candidate models (each trained on the smaller training set) on the validation set. This `df_smaller_train` data set becomes our laboratory to test out different modeling decisions and try them out on the `df_validation` data set.\n",
    "\n",
    "This way of thinking about intentionally training with less data is not intuitive if you haven't been exposed to it. Read [this](https://machinelearningmastery.com/difference-test-validation-datasets/) article to to build a better understanding of why we do this.\n",
    "\n",
    "The following code randomly splits your training set into a smaller training set (75% of the training data) and a validation set (25% of the training data). There is no \"correct\" size for the smaller training set and the validation set. Here we have chosen a 75%-25% split, but we could chose something else. The tradeoff is that the more data you use for your smaller training set, the better the model, but you are less certain about it's performance due to having less validation data. The more validation data you have, the more confident you are in the model, but the less data you have to use to train. So, we will use a 75%-25% split, which is a fairly common split, but this is not a magic number.\n",
    "\n",
    "Additionally, the split is random. I.e., it doesn't take the first 75% of the rows and use them for the smaller training set, it takes any row with a 75% chance. This is very important to avoid biases in how your data might be organized. For example, you may have your data sorted by carat weight. If you did, you would end up with your smaller training set having all of the large carat weight examples and none of the small carat weight rows."
   ]
  },
  {
   "cell_type": "code",
   "execution_count": 33,
   "metadata": {},
   "outputs": [],
   "source": [
    "df_smaller_train, df_validation = train_test_split(df_train, test_size=.25, random_state=201)"
   ]
  },
  {
   "cell_type": "markdown",
   "metadata": {},
   "source": [
    "The exact command `train_test_split` is imported from `sklearn.model_selection` in our import statement. We give it the data set `df_train`. We also tell it the `test_size` which is how much of our data we want devoted to the validation set (set to `.25` or 25%).\n",
    "\n",
    "We also include the parameter `random_state=201` in the function call. This is because the function `train_test_split` randomly splits your data. This is good practice. However, if we let it randomly split our data, everytime we run our code something different will happen (i.e. we end up with different random `df_smaller_train` and `df_validation` sets). We pass an initial _seed_ to the randomness generator in the function which makes the function give us _the same random split_ each time. This helps us with reproducibility with the code, and it is generally good practice when building models."
   ]
  },
  {
   "cell_type": "markdown",
   "metadata": {},
   "source": [
    "Let's take a look at what we have in our `df_smaller_train` data set."
   ]
  },
  {
   "cell_type": "code",
   "execution_count": 34,
   "metadata": {},
   "outputs": [
    {
     "data": {
      "text/html": [
       "<div>\n",
       "<style scoped>\n",
       "    .dataframe tbody tr th:only-of-type {\n",
       "        vertical-align: middle;\n",
       "    }\n",
       "\n",
       "    .dataframe tbody tr th {\n",
       "        vertical-align: top;\n",
       "    }\n",
       "\n",
       "    .dataframe thead th {\n",
       "        text-align: right;\n",
       "    }\n",
       "</style>\n",
       "<table border=\"1\" class=\"dataframe\">\n",
       "  <thead>\n",
       "    <tr style=\"text-align: right;\">\n",
       "      <th></th>\n",
       "      <th>Data Type</th>\n",
       "      <th>Missing Values</th>\n",
       "      <th>Unique Values</th>\n",
       "      <th>count</th>\n",
       "      <th>unique</th>\n",
       "      <th>top</th>\n",
       "      <th>freq</th>\n",
       "      <th>mean</th>\n",
       "      <th>std</th>\n",
       "      <th>min</th>\n",
       "      <th>25%</th>\n",
       "      <th>50%</th>\n",
       "      <th>75%</th>\n",
       "      <th>max</th>\n",
       "    </tr>\n",
       "  </thead>\n",
       "  <tbody>\n",
       "    <tr>\n",
       "      <th>Carat Weight</th>\n",
       "      <td>float64</td>\n",
       "      <td>0</td>\n",
       "      <td>187</td>\n",
       "      <td>4500.0</td>\n",
       "      <td></td>\n",
       "      <td></td>\n",
       "      <td></td>\n",
       "      <td>1.327182</td>\n",
       "      <td>0.472008</td>\n",
       "      <td>0.75</td>\n",
       "      <td>1.0</td>\n",
       "      <td>1.12</td>\n",
       "      <td>1.58</td>\n",
       "      <td>2.91</td>\n",
       "    </tr>\n",
       "    <tr>\n",
       "      <th>Cut</th>\n",
       "      <td>object</td>\n",
       "      <td>0</td>\n",
       "      <td>5</td>\n",
       "      <td>4500.0</td>\n",
       "      <td>5</td>\n",
       "      <td>Ideal</td>\n",
       "      <td>1866</td>\n",
       "      <td></td>\n",
       "      <td></td>\n",
       "      <td></td>\n",
       "      <td></td>\n",
       "      <td></td>\n",
       "      <td></td>\n",
       "      <td></td>\n",
       "    </tr>\n",
       "    <tr>\n",
       "      <th>Color</th>\n",
       "      <td>object</td>\n",
       "      <td>0</td>\n",
       "      <td>6</td>\n",
       "      <td>4500.0</td>\n",
       "      <td>6</td>\n",
       "      <td>G</td>\n",
       "      <td>1135</td>\n",
       "      <td></td>\n",
       "      <td></td>\n",
       "      <td></td>\n",
       "      <td></td>\n",
       "      <td></td>\n",
       "      <td></td>\n",
       "      <td></td>\n",
       "    </tr>\n",
       "    <tr>\n",
       "      <th>Clarity</th>\n",
       "      <td>object</td>\n",
       "      <td>0</td>\n",
       "      <td>7</td>\n",
       "      <td>4500.0</td>\n",
       "      <td>7</td>\n",
       "      <td>SI1</td>\n",
       "      <td>1568</td>\n",
       "      <td></td>\n",
       "      <td></td>\n",
       "      <td></td>\n",
       "      <td></td>\n",
       "      <td></td>\n",
       "      <td></td>\n",
       "      <td></td>\n",
       "    </tr>\n",
       "    <tr>\n",
       "      <th>Polish</th>\n",
       "      <td>object</td>\n",
       "      <td>0</td>\n",
       "      <td>4</td>\n",
       "      <td>4500.0</td>\n",
       "      <td>4</td>\n",
       "      <td>EX</td>\n",
       "      <td>1813</td>\n",
       "      <td></td>\n",
       "      <td></td>\n",
       "      <td></td>\n",
       "      <td></td>\n",
       "      <td></td>\n",
       "      <td></td>\n",
       "      <td></td>\n",
       "    </tr>\n",
       "    <tr>\n",
       "      <th>Symmetry</th>\n",
       "      <td>object</td>\n",
       "      <td>0</td>\n",
       "      <td>4</td>\n",
       "      <td>4500.0</td>\n",
       "      <td>4</td>\n",
       "      <td>VG</td>\n",
       "      <td>1790</td>\n",
       "      <td></td>\n",
       "      <td></td>\n",
       "      <td></td>\n",
       "      <td></td>\n",
       "      <td></td>\n",
       "      <td></td>\n",
       "      <td></td>\n",
       "    </tr>\n",
       "    <tr>\n",
       "      <th>Report</th>\n",
       "      <td>object</td>\n",
       "      <td>0</td>\n",
       "      <td>2</td>\n",
       "      <td>4500.0</td>\n",
       "      <td>2</td>\n",
       "      <td>GIA</td>\n",
       "      <td>3933</td>\n",
       "      <td></td>\n",
       "      <td></td>\n",
       "      <td></td>\n",
       "      <td></td>\n",
       "      <td></td>\n",
       "      <td></td>\n",
       "      <td></td>\n",
       "    </tr>\n",
       "    <tr>\n",
       "      <th>Price</th>\n",
       "      <td>object</td>\n",
       "      <td>0</td>\n",
       "      <td>3773</td>\n",
       "      <td>4500.0</td>\n",
       "      <td>3773</td>\n",
       "      <td>$4,466</td>\n",
       "      <td>6</td>\n",
       "      <td></td>\n",
       "      <td></td>\n",
       "      <td></td>\n",
       "      <td></td>\n",
       "      <td></td>\n",
       "      <td></td>\n",
       "      <td></td>\n",
       "    </tr>\n",
       "    <tr>\n",
       "      <th>Price_numeric</th>\n",
       "      <td>float64</td>\n",
       "      <td>0</td>\n",
       "      <td>3773</td>\n",
       "      <td>4500.0</td>\n",
       "      <td></td>\n",
       "      <td></td>\n",
       "      <td></td>\n",
       "      <td>11647.470667</td>\n",
       "      <td>9987.135937</td>\n",
       "      <td>2184.0</td>\n",
       "      <td>5122.0</td>\n",
       "      <td>7795.0</td>\n",
       "      <td>14703.25</td>\n",
       "      <td>96493.0</td>\n",
       "    </tr>\n",
       "  </tbody>\n",
       "</table>\n",
       "</div>"
      ],
      "text/plain": [
       "              Data Type  Missing Values  Unique Values   count unique  \\\n",
       "Carat Weight    float64               0            187  4500.0          \n",
       "Cut              object               0              5  4500.0      5   \n",
       "Color            object               0              6  4500.0      6   \n",
       "Clarity          object               0              7  4500.0      7   \n",
       "Polish           object               0              4  4500.0      4   \n",
       "Symmetry         object               0              4  4500.0      4   \n",
       "Report           object               0              2  4500.0      2   \n",
       "Price            object               0           3773  4500.0   3773   \n",
       "Price_numeric   float64               0           3773  4500.0          \n",
       "\n",
       "                    top  freq          mean          std     min     25%  \\\n",
       "Carat Weight                       1.327182     0.472008    0.75     1.0   \n",
       "Cut               Ideal  1866                                              \n",
       "Color                 G  1135                                              \n",
       "Clarity             SI1  1568                                              \n",
       "Polish               EX  1813                                              \n",
       "Symmetry             VG  1790                                              \n",
       "Report              GIA  3933                                              \n",
       "Price           $4,466      6                                              \n",
       "Price_numeric                  11647.470667  9987.135937  2184.0  5122.0   \n",
       "\n",
       "                  50%       75%      max  \n",
       "Carat Weight     1.12      1.58     2.91  \n",
       "Cut                                       \n",
       "Color                                     \n",
       "Clarity                                   \n",
       "Polish                                    \n",
       "Symmetry                                  \n",
       "Report                                    \n",
       "Price                                     \n",
       "Price_numeric  7795.0  14703.25  96493.0  "
      ]
     },
     "metadata": {},
     "output_type": "display_data"
    }
   ],
   "source": [
    "summarize_dataframe(df_smaller_train)"
   ]
  },
  {
   "cell_type": "markdown",
   "metadata": {},
   "source": [
    "Indeed, we have `4500` rows, which is 75% of our original data."
   ]
  },
  {
   "cell_type": "markdown",
   "metadata": {},
   "source": [
    "The validation data set is 25% of the original data. "
   ]
  },
  {
   "cell_type": "code",
   "execution_count": 35,
   "metadata": {},
   "outputs": [
    {
     "data": {
      "text/html": [
       "<div>\n",
       "<style scoped>\n",
       "    .dataframe tbody tr th:only-of-type {\n",
       "        vertical-align: middle;\n",
       "    }\n",
       "\n",
       "    .dataframe tbody tr th {\n",
       "        vertical-align: top;\n",
       "    }\n",
       "\n",
       "    .dataframe thead th {\n",
       "        text-align: right;\n",
       "    }\n",
       "</style>\n",
       "<table border=\"1\" class=\"dataframe\">\n",
       "  <thead>\n",
       "    <tr style=\"text-align: right;\">\n",
       "      <th></th>\n",
       "      <th>Data Type</th>\n",
       "      <th>Missing Values</th>\n",
       "      <th>Unique Values</th>\n",
       "      <th>count</th>\n",
       "      <th>unique</th>\n",
       "      <th>top</th>\n",
       "      <th>freq</th>\n",
       "      <th>mean</th>\n",
       "      <th>std</th>\n",
       "      <th>min</th>\n",
       "      <th>25%</th>\n",
       "      <th>50%</th>\n",
       "      <th>75%</th>\n",
       "      <th>max</th>\n",
       "    </tr>\n",
       "  </thead>\n",
       "  <tbody>\n",
       "    <tr>\n",
       "      <th>Carat Weight</th>\n",
       "      <td>float64</td>\n",
       "      <td>0</td>\n",
       "      <td>165</td>\n",
       "      <td>1500.0</td>\n",
       "      <td></td>\n",
       "      <td></td>\n",
       "      <td></td>\n",
       "      <td>1.356533</td>\n",
       "      <td>0.486089</td>\n",
       "      <td>0.75</td>\n",
       "      <td>1.01</td>\n",
       "      <td>1.15</td>\n",
       "      <td>1.65</td>\n",
       "      <td>2.81</td>\n",
       "    </tr>\n",
       "    <tr>\n",
       "      <th>Cut</th>\n",
       "      <td>object</td>\n",
       "      <td>0</td>\n",
       "      <td>5</td>\n",
       "      <td>1500.0</td>\n",
       "      <td>5</td>\n",
       "      <td>Ideal</td>\n",
       "      <td>616</td>\n",
       "      <td></td>\n",
       "      <td></td>\n",
       "      <td></td>\n",
       "      <td></td>\n",
       "      <td></td>\n",
       "      <td></td>\n",
       "      <td></td>\n",
       "    </tr>\n",
       "    <tr>\n",
       "      <th>Color</th>\n",
       "      <td>object</td>\n",
       "      <td>0</td>\n",
       "      <td>6</td>\n",
       "      <td>1500.0</td>\n",
       "      <td>6</td>\n",
       "      <td>G</td>\n",
       "      <td>366</td>\n",
       "      <td></td>\n",
       "      <td></td>\n",
       "      <td></td>\n",
       "      <td></td>\n",
       "      <td></td>\n",
       "      <td></td>\n",
       "      <td></td>\n",
       "    </tr>\n",
       "    <tr>\n",
       "      <th>Clarity</th>\n",
       "      <td>object</td>\n",
       "      <td>0</td>\n",
       "      <td>7</td>\n",
       "      <td>1500.0</td>\n",
       "      <td>7</td>\n",
       "      <td>SI1</td>\n",
       "      <td>491</td>\n",
       "      <td></td>\n",
       "      <td></td>\n",
       "      <td></td>\n",
       "      <td></td>\n",
       "      <td></td>\n",
       "      <td></td>\n",
       "      <td></td>\n",
       "    </tr>\n",
       "    <tr>\n",
       "      <th>Polish</th>\n",
       "      <td>object</td>\n",
       "      <td>0</td>\n",
       "      <td>4</td>\n",
       "      <td>1500.0</td>\n",
       "      <td>4</td>\n",
       "      <td>EX</td>\n",
       "      <td>612</td>\n",
       "      <td></td>\n",
       "      <td></td>\n",
       "      <td></td>\n",
       "      <td></td>\n",
       "      <td></td>\n",
       "      <td></td>\n",
       "      <td></td>\n",
       "    </tr>\n",
       "    <tr>\n",
       "      <th>Symmetry</th>\n",
       "      <td>object</td>\n",
       "      <td>0</td>\n",
       "      <td>4</td>\n",
       "      <td>1500.0</td>\n",
       "      <td>4</td>\n",
       "      <td>VG</td>\n",
       "      <td>627</td>\n",
       "      <td></td>\n",
       "      <td></td>\n",
       "      <td></td>\n",
       "      <td></td>\n",
       "      <td></td>\n",
       "      <td></td>\n",
       "      <td></td>\n",
       "    </tr>\n",
       "    <tr>\n",
       "      <th>Report</th>\n",
       "      <td>object</td>\n",
       "      <td>0</td>\n",
       "      <td>2</td>\n",
       "      <td>1500.0</td>\n",
       "      <td>2</td>\n",
       "      <td>GIA</td>\n",
       "      <td>1333</td>\n",
       "      <td></td>\n",
       "      <td></td>\n",
       "      <td></td>\n",
       "      <td></td>\n",
       "      <td></td>\n",
       "      <td></td>\n",
       "      <td></td>\n",
       "    </tr>\n",
       "    <tr>\n",
       "      <th>Price</th>\n",
       "      <td>object</td>\n",
       "      <td>0</td>\n",
       "      <td>1407</td>\n",
       "      <td>1500.0</td>\n",
       "      <td>1407</td>\n",
       "      <td>$4,771</td>\n",
       "      <td>4</td>\n",
       "      <td></td>\n",
       "      <td></td>\n",
       "      <td></td>\n",
       "      <td></td>\n",
       "      <td></td>\n",
       "      <td></td>\n",
       "      <td></td>\n",
       "    </tr>\n",
       "    <tr>\n",
       "      <th>Price_numeric</th>\n",
       "      <td>float64</td>\n",
       "      <td>0</td>\n",
       "      <td>1407</td>\n",
       "      <td>1500.0</td>\n",
       "      <td></td>\n",
       "      <td></td>\n",
       "      <td></td>\n",
       "      <td>12223.905333</td>\n",
       "      <td>10746.181569</td>\n",
       "      <td>2348.0</td>\n",
       "      <td>5227.0</td>\n",
       "      <td>7991.0</td>\n",
       "      <td>16177.0</td>\n",
       "      <td>101561.0</td>\n",
       "    </tr>\n",
       "  </tbody>\n",
       "</table>\n",
       "</div>"
      ],
      "text/plain": [
       "              Data Type  Missing Values  Unique Values   count unique  \\\n",
       "Carat Weight    float64               0            165  1500.0          \n",
       "Cut              object               0              5  1500.0      5   \n",
       "Color            object               0              6  1500.0      6   \n",
       "Clarity          object               0              7  1500.0      7   \n",
       "Polish           object               0              4  1500.0      4   \n",
       "Symmetry         object               0              4  1500.0      4   \n",
       "Report           object               0              2  1500.0      2   \n",
       "Price            object               0           1407  1500.0   1407   \n",
       "Price_numeric   float64               0           1407  1500.0          \n",
       "\n",
       "                    top  freq          mean           std     min     25%  \\\n",
       "Carat Weight                       1.356533      0.486089    0.75    1.01   \n",
       "Cut               Ideal   616                                               \n",
       "Color                 G   366                                               \n",
       "Clarity             SI1   491                                               \n",
       "Polish               EX   612                                               \n",
       "Symmetry             VG   627                                               \n",
       "Report              GIA  1333                                               \n",
       "Price           $4,771      4                                               \n",
       "Price_numeric                  12223.905333  10746.181569  2348.0  5227.0   \n",
       "\n",
       "                  50%      75%       max  \n",
       "Carat Weight     1.15     1.65      2.81  \n",
       "Cut                                       \n",
       "Color                                     \n",
       "Clarity                                   \n",
       "Polish                                    \n",
       "Symmetry                                  \n",
       "Report                                    \n",
       "Price                                     \n",
       "Price_numeric  7991.0  16177.0  101561.0  "
      ]
     },
     "metadata": {},
     "output_type": "display_data"
    }
   ],
   "source": [
    "summarize_dataframe(df_validation)"
   ]
  },
  {
   "cell_type": "markdown",
   "metadata": {},
   "source": [
    "Now, we can use our `df_smaller_train` to build our model and our `df_validation` to confirm the performance."
   ]
  },
  {
   "cell_type": "markdown",
   "metadata": {},
   "source": [
    "## Evaluation"
   ]
  },
  {
   "cell_type": "markdown",
   "metadata": {},
   "source": [
    "We need some way to determine how well our model is performing. There are lots of ways to do this. However, in this particular exercise, we are going to be using the **mean absolute error (or MAE)**. Read [this](https://www.dataquest.io/blog/understanding-regression-error-metrics/) primer on various metrics, but pay particular attention to the mean absolute error."
   ]
  },
  {
   "cell_type": "markdown",
   "metadata": {},
   "source": [
    "We will measure mean absolute error with the `mean_absolute_error()` function imported from `sklearn.metrics`. We will see how to do this after we generate some predictions."
   ]
  },
  {
   "cell_type": "markdown",
   "metadata": {},
   "source": [
    "## Advanced Regressions"
   ]
  },
  {
   "cell_type": "markdown",
   "metadata": {},
   "source": [
    "Now, we fit an actual regression model. For this exercise, we are going to be using the statsmodels module. Specifically, we are going to be using a submodule called the `statsmodels.formula.api` module which we have imported as `smf`. This allows us to write down regression formulas using language that looks nearly right out of a stats textbook. We are going to walk through the regressions from the case first and see how we would do them in python.\n",
    "\n",
    "```python\n",
    "lm_1 = smf.ols(formula='Price_numeric ~ Q(\"Carat Weight\")', data=df_smaller_train).fit()\n",
    "```\n",
    "\n",
    "We are creating a regression model and saving it in the variable `lm_1`. We are doing an ordinary least squares (or _ols_) regression, so we are using the function `smf.ols()`. We tell it the data we want to use with `data=df_smaller_train`. We define the regression model using the `formula` parameter.\n",
    "\n",
    "The formula has the \"dependent variable\" on the left hand side, with the equation divided by `~`, and then the \"independent variables\" are on the right hand side. To reference columns of our dataframe, we just use the column names. So our dependent variable is `Price_numeric` and our independent variable is `Carat Weight`.\n",
    "\n",
    "There is one wrinkle here. All of the variables in the formula need to be valid python variables. Unfortunately, a python variable cannot have a space in it. `Carat Weight`, however, has a space in it. So we have to wrap it up in the _quote_ function `Q()` and put some quotation marks around it to keep from getting an error.\n",
    "\n",
    "We will be using this formula notation throughout the class, and you shouldn't expect to master it the first time you see it. As you use it and as you want to go deeper, a great resource to master this formula syntax is the [_patsy_ documentation](https://patsy.readthedocs.io/en/latest/quickstart.html). `patsy` is the package that underlies this formula syntax, and while the examples in the link are not quite what we are doing here, they are close enough to be a helpful resource.\n",
    "\n",
    "Finally, the `.fit()` method actually trains the model on the data. Let's see it work."
   ]
  },
  {
   "cell_type": "markdown",
   "metadata": {},
   "source": [
    "### Additive Model"
   ]
  },
  {
   "cell_type": "markdown",
   "metadata": {},
   "source": [
    "Let's see how we would train the additive model."
   ]
  },
  {
   "cell_type": "code",
   "execution_count": 36,
   "metadata": {},
   "outputs": [
    {
     "data": {
      "text/html": [
       "<table class=\"simpletable\">\n",
       "<caption>OLS Regression Results</caption>\n",
       "<tr>\n",
       "  <th>Dep. Variable:</th>      <td>Price_numeric</td>  <th>  R-squared:         </th> <td>   0.738</td> \n",
       "</tr>\n",
       "<tr>\n",
       "  <th>Model:</th>                   <td>OLS</td>       <th>  Adj. R-squared:    </th> <td>   0.738</td> \n",
       "</tr>\n",
       "<tr>\n",
       "  <th>Method:</th>             <td>Least Squares</td>  <th>  F-statistic:       </th> <td>1.267e+04</td>\n",
       "</tr>\n",
       "<tr>\n",
       "  <th>Date:</th>             <td>Thu, 28 Oct 2021</td> <th>  Prob (F-statistic):</th>  <td>  0.00</td>  \n",
       "</tr>\n",
       "<tr>\n",
       "  <th>Time:</th>                 <td>15:54:50</td>     <th>  Log-Likelihood:    </th> <td> -44811.</td> \n",
       "</tr>\n",
       "<tr>\n",
       "  <th>No. Observations:</th>      <td>  4500</td>      <th>  AIC:               </th> <td>8.963e+04</td>\n",
       "</tr>\n",
       "<tr>\n",
       "  <th>Df Residuals:</th>          <td>  4498</td>      <th>  BIC:               </th> <td>8.964e+04</td>\n",
       "</tr>\n",
       "<tr>\n",
       "  <th>Df Model:</th>              <td>     1</td>      <th>                     </th>     <td> </td>    \n",
       "</tr>\n",
       "<tr>\n",
       "  <th>Covariance Type:</th>      <td>nonrobust</td>    <th>                     </th>     <td> </td>    \n",
       "</tr>\n",
       "</table>\n",
       "<table class=\"simpletable\">\n",
       "<tr>\n",
       "          <td></td>             <th>coef</th>     <th>std err</th>      <th>t</th>      <th>P>|t|</th>  <th>[0.025</th>    <th>0.975]</th>  \n",
       "</tr>\n",
       "<tr>\n",
       "  <th>Intercept</th>         <td>-1.248e+04</td> <td>  227.441</td> <td>  -54.861</td> <td> 0.000</td> <td>-1.29e+04</td> <td> -1.2e+04</td>\n",
       "</tr>\n",
       "<tr>\n",
       "  <th>Q(\"Carat Weight\")</th> <td> 1.818e+04</td> <td>  161.466</td> <td>  112.579</td> <td> 0.000</td> <td> 1.79e+04</td> <td> 1.85e+04</td>\n",
       "</tr>\n",
       "</table>\n",
       "<table class=\"simpletable\">\n",
       "<tr>\n",
       "  <th>Omnibus:</th>       <td>3668.307</td> <th>  Durbin-Watson:     </th>  <td>   2.008</td> \n",
       "</tr>\n",
       "<tr>\n",
       "  <th>Prob(Omnibus):</th>  <td> 0.000</td>  <th>  Jarque-Bera (JB):  </th> <td>152719.640</td>\n",
       "</tr>\n",
       "<tr>\n",
       "  <th>Skew:</th>           <td> 3.602</td>  <th>  Prob(JB):          </th>  <td>    0.00</td> \n",
       "</tr>\n",
       "<tr>\n",
       "  <th>Kurtosis:</th>       <td>30.615</td>  <th>  Cond. No.          </th>  <td>    6.16</td> \n",
       "</tr>\n",
       "</table><br/><br/>Notes:<br/>[1] Standard Errors assume that the covariance matrix of the errors is correctly specified."
      ],
      "text/plain": [
       "<class 'statsmodels.iolib.summary.Summary'>\n",
       "\"\"\"\n",
       "                            OLS Regression Results                            \n",
       "==============================================================================\n",
       "Dep. Variable:          Price_numeric   R-squared:                       0.738\n",
       "Model:                            OLS   Adj. R-squared:                  0.738\n",
       "Method:                 Least Squares   F-statistic:                 1.267e+04\n",
       "Date:                Thu, 28 Oct 2021   Prob (F-statistic):               0.00\n",
       "Time:                        15:54:50   Log-Likelihood:                -44811.\n",
       "No. Observations:                4500   AIC:                         8.963e+04\n",
       "Df Residuals:                    4498   BIC:                         8.964e+04\n",
       "Df Model:                           1                                         \n",
       "Covariance Type:            nonrobust                                         \n",
       "=====================================================================================\n",
       "                        coef    std err          t      P>|t|      [0.025      0.975]\n",
       "-------------------------------------------------------------------------------------\n",
       "Intercept         -1.248e+04    227.441    -54.861      0.000   -1.29e+04    -1.2e+04\n",
       "Q(\"Carat Weight\")  1.818e+04    161.466    112.579      0.000    1.79e+04    1.85e+04\n",
       "==============================================================================\n",
       "Omnibus:                     3668.307   Durbin-Watson:                   2.008\n",
       "Prob(Omnibus):                  0.000   Jarque-Bera (JB):           152719.640\n",
       "Skew:                           3.602   Prob(JB):                         0.00\n",
       "Kurtosis:                      30.615   Cond. No.                         6.16\n",
       "==============================================================================\n",
       "\n",
       "Notes:\n",
       "[1] Standard Errors assume that the covariance matrix of the errors is correctly specified.\n",
       "\"\"\""
      ]
     },
     "execution_count": 36,
     "metadata": {},
     "output_type": "execute_result"
    }
   ],
   "source": [
    "lm_1 = smf.ols(formula='Price_numeric ~ Q(\"Carat Weight\")', data=df_smaller_train).fit()\n",
    "lm_1.summary()"
   ]
  },
  {
   "cell_type": "markdown",
   "metadata": {},
   "source": [
    "Above, the `.summary()` method for our regression model tells us what is in the regression model. Here we see that the intercept has a coefficient of `-1.248e+04` (this is in scientific notation, so it would 12,480 in common notation) and the `Carat Weight` has a coefficient of 18,180. This is very close to the model in the case. It's not identical because we are using a randomly selected sample of 75% of the data, so there is some variation from using the whole data set. We can also see the p values and other statistical properties."
   ]
  },
  {
   "cell_type": "markdown",
   "metadata": {},
   "source": [
    "We can now use this model to predict on our `df_validation` data. We do this with the `.predict()` method."
   ]
  },
  {
   "cell_type": "code",
   "execution_count": 37,
   "metadata": {},
   "outputs": [],
   "source": [
    "lm_1_predictions = lm_1.predict(df_validation)"
   ]
  },
  {
   "cell_type": "markdown",
   "metadata": {},
   "source": [
    "Let's take a look at them."
   ]
  },
  {
   "cell_type": "code",
   "execution_count": 38,
   "metadata": {},
   "outputs": [
    {
     "data": {
      "text/plain": [
       "ID\n",
       "1646    23877.733991\n",
       "4429     7881.379434\n",
       "3354     1519.192963\n",
       "2608    14607.119418\n",
       "3998     3882.290795\n",
       "            ...     \n",
       "4923     5881.835115\n",
       "947      7336.049165\n",
       "2152     4064.067551\n",
       "4438     1519.192963\n",
       "959      6245.388627\n",
       "Length: 1500, dtype: float64"
      ]
     },
     "execution_count": 38,
     "metadata": {},
     "output_type": "execute_result"
    }
   ],
   "source": [
    "lm_1_predictions"
   ]
  },
  {
   "cell_type": "markdown",
   "metadata": {},
   "source": [
    "We can also measure our MAE for `lm_1` as follows."
   ]
  },
  {
   "cell_type": "code",
   "execution_count": 39,
   "metadata": {},
   "outputs": [
    {
     "data": {
      "text/plain": [
       "3095.795318100367"
      ]
     },
     "execution_count": 39,
     "metadata": {},
     "output_type": "execute_result"
    }
   ],
   "source": [
    "mean_absolute_error(df_validation[\"Price_numeric\"], lm_1_predictions)"
   ]
  },
  {
   "cell_type": "markdown",
   "metadata": {},
   "source": [
    "This means that, on average, we miss the price of a diamond by about $3000. Hopefully we can do better."
   ]
  },
  {
   "cell_type": "markdown",
   "metadata": {},
   "source": [
    "### Multiplicative Model"
   ]
  },
  {
   "cell_type": "markdown",
   "metadata": {},
   "source": [
    "Let's try the multiplicative model from the case. To do this, we just apply the function `np.log()`, a function that computes the natural logarithm (or _ln_ in normal math notation) to the dependent variable. It's very simple to do."
   ]
  },
  {
   "cell_type": "code",
   "execution_count": 40,
   "metadata": {},
   "outputs": [
    {
     "data": {
      "text/html": [
       "<table class=\"simpletable\">\n",
       "<caption>OLS Regression Results</caption>\n",
       "<tr>\n",
       "  <th>Dep. Variable:</th>    <td>np.log(Price_numeric)</td> <th>  R-squared:         </th> <td>   0.845</td> \n",
       "</tr>\n",
       "<tr>\n",
       "  <th>Model:</th>                     <td>OLS</td>          <th>  Adj. R-squared:    </th> <td>   0.845</td> \n",
       "</tr>\n",
       "<tr>\n",
       "  <th>Method:</th>               <td>Least Squares</td>     <th>  F-statistic:       </th> <td>2.449e+04</td>\n",
       "</tr>\n",
       "<tr>\n",
       "  <th>Date:</th>               <td>Thu, 28 Oct 2021</td>    <th>  Prob (F-statistic):</th>  <td>  0.00</td>  \n",
       "</tr>\n",
       "<tr>\n",
       "  <th>Time:</th>                   <td>15:54:50</td>        <th>  Log-Likelihood:    </th> <td> -623.68</td> \n",
       "</tr>\n",
       "<tr>\n",
       "  <th>No. Observations:</th>        <td>  4500</td>         <th>  AIC:               </th> <td>   1251.</td> \n",
       "</tr>\n",
       "<tr>\n",
       "  <th>Df Residuals:</th>            <td>  4498</td>         <th>  BIC:               </th> <td>   1264.</td> \n",
       "</tr>\n",
       "<tr>\n",
       "  <th>Df Model:</th>                <td>     1</td>         <th>                     </th>     <td> </td>    \n",
       "</tr>\n",
       "<tr>\n",
       "  <th>Covariance Type:</th>        <td>nonrobust</td>       <th>                     </th>     <td> </td>    \n",
       "</tr>\n",
       "</table>\n",
       "<table class=\"simpletable\">\n",
       "<tr>\n",
       "          <td></td>             <th>coef</th>     <th>std err</th>      <th>t</th>      <th>P>|t|</th>  <th>[0.025</th>    <th>0.975]</th>  \n",
       "</tr>\n",
       "<tr>\n",
       "  <th>Intercept</th>         <td>    7.2674</td> <td>    0.012</td> <td>  587.551</td> <td> 0.000</td> <td>    7.243</td> <td>    7.292</td>\n",
       "</tr>\n",
       "<tr>\n",
       "  <th>Q(\"Carat Weight\")</th> <td>    1.3743</td> <td>    0.009</td> <td>  156.505</td> <td> 0.000</td> <td>    1.357</td> <td>    1.391</td>\n",
       "</tr>\n",
       "</table>\n",
       "<table class=\"simpletable\">\n",
       "<tr>\n",
       "  <th>Omnibus:</th>       <td>285.145</td> <th>  Durbin-Watson:     </th> <td>   2.052</td>\n",
       "</tr>\n",
       "<tr>\n",
       "  <th>Prob(Omnibus):</th> <td> 0.000</td>  <th>  Jarque-Bera (JB):  </th> <td> 372.276</td>\n",
       "</tr>\n",
       "<tr>\n",
       "  <th>Skew:</th>          <td> 0.584</td>  <th>  Prob(JB):          </th> <td>1.45e-81</td>\n",
       "</tr>\n",
       "<tr>\n",
       "  <th>Kurtosis:</th>      <td> 3.788</td>  <th>  Cond. No.          </th> <td>    6.16</td>\n",
       "</tr>\n",
       "</table><br/><br/>Notes:<br/>[1] Standard Errors assume that the covariance matrix of the errors is correctly specified."
      ],
      "text/plain": [
       "<class 'statsmodels.iolib.summary.Summary'>\n",
       "\"\"\"\n",
       "                              OLS Regression Results                             \n",
       "=================================================================================\n",
       "Dep. Variable:     np.log(Price_numeric)   R-squared:                       0.845\n",
       "Model:                               OLS   Adj. R-squared:                  0.845\n",
       "Method:                    Least Squares   F-statistic:                 2.449e+04\n",
       "Date:                   Thu, 28 Oct 2021   Prob (F-statistic):               0.00\n",
       "Time:                           15:54:50   Log-Likelihood:                -623.68\n",
       "No. Observations:                   4500   AIC:                             1251.\n",
       "Df Residuals:                       4498   BIC:                             1264.\n",
       "Df Model:                              1                                         \n",
       "Covariance Type:               nonrobust                                         \n",
       "=====================================================================================\n",
       "                        coef    std err          t      P>|t|      [0.025      0.975]\n",
       "-------------------------------------------------------------------------------------\n",
       "Intercept             7.2674      0.012    587.551      0.000       7.243       7.292\n",
       "Q(\"Carat Weight\")     1.3743      0.009    156.505      0.000       1.357       1.391\n",
       "==============================================================================\n",
       "Omnibus:                      285.145   Durbin-Watson:                   2.052\n",
       "Prob(Omnibus):                  0.000   Jarque-Bera (JB):              372.276\n",
       "Skew:                           0.584   Prob(JB):                     1.45e-81\n",
       "Kurtosis:                       3.788   Cond. No.                         6.16\n",
       "==============================================================================\n",
       "\n",
       "Notes:\n",
       "[1] Standard Errors assume that the covariance matrix of the errors is correctly specified.\n",
       "\"\"\""
      ]
     },
     "execution_count": 40,
     "metadata": {},
     "output_type": "execute_result"
    }
   ],
   "source": [
    "lm_2 = smf.ols(formula='np.log(Price_numeric) ~ Q(\"Carat Weight\")', data=df_smaller_train).fit()\n",
    "lm_2.summary()"
   ]
  },
  {
   "cell_type": "markdown",
   "metadata": {},
   "source": [
    "Again, we get coefficients very similar to what is observed in the case. We can also predict on our validation set."
   ]
  },
  {
   "cell_type": "code",
   "execution_count": 41,
   "metadata": {},
   "outputs": [],
   "source": [
    "lm_2_predictions = lm_2.predict(df_validation)"
   ]
  },
  {
   "cell_type": "markdown",
   "metadata": {},
   "source": [
    "Let's take a look at our predictions."
   ]
  },
  {
   "cell_type": "code",
   "execution_count": 42,
   "metadata": {},
   "outputs": [
    {
     "data": {
      "text/plain": [
       "ID\n",
       "1646    10.015898\n",
       "4429     8.806545\n",
       "3354     8.325552\n",
       "2608     9.315023\n",
       "3998     8.504206\n",
       "          ...    \n",
       "4923     8.655375\n",
       "947      8.765317\n",
       "2152     8.517949\n",
       "4438     8.325552\n",
       "959      8.682861\n",
       "Length: 1500, dtype: float64"
      ]
     },
     "execution_count": 42,
     "metadata": {},
     "output_type": "execute_result"
    }
   ],
   "source": [
    "lm_2_predictions"
   ]
  },
  {
   "cell_type": "markdown",
   "metadata": {},
   "source": [
    "There seems to be a problem with our predictions. It appears like we are predicting that the price of a diamond is $8. There must be something else going on.\n",
    "\n",
    "Remember, that we are predicting the natural logarithm of the price (`np.log(Price_numeric)`), not the price itself. So, we need to convert the predicted log prices back to true prices. We can do this with the `np.exp()` function. This is the exponential function and the exponential function \"reverses\" the log function."
   ]
  },
  {
   "cell_type": "code",
   "execution_count": 43,
   "metadata": {},
   "outputs": [
    {
     "data": {
      "text/plain": [
       "ID\n",
       "1646    22379.432403\n",
       "4429     6677.804378\n",
       "3354     4128.014497\n",
       "2608    11103.576378\n",
       "3998     4935.485141\n",
       "            ...     \n",
       "4923     5740.923644\n",
       "947      6408.090299\n",
       "2152     5003.779981\n",
       "4438     4128.014497\n",
       "959      5900.903109\n",
       "Length: 1500, dtype: float64"
      ]
     },
     "execution_count": 43,
     "metadata": {},
     "output_type": "execute_result"
    }
   ],
   "source": [
    "np.exp(lm_2_predictions)"
   ]
  },
  {
   "cell_type": "markdown",
   "metadata": {},
   "source": [
    "That looks a bit better. Let's see how it does for MAE."
   ]
  },
  {
   "cell_type": "code",
   "execution_count": 44,
   "metadata": {},
   "outputs": [
    {
     "data": {
      "text/plain": [
       "2941.669739657505"
      ]
     },
     "execution_count": 44,
     "metadata": {},
     "output_type": "execute_result"
    }
   ],
   "source": [
    "mean_absolute_error(df_validation[\"Price_numeric\"], np.exp(lm_2_predictions))"
   ]
  },
  {
   "cell_type": "markdown",
   "metadata": {},
   "source": [
    "Our MAE has gone down! So, we are improving."
   ]
  },
  {
   "cell_type": "markdown",
   "metadata": {},
   "source": [
    "### Log-Log Model"
   ]
  },
  {
   "cell_type": "markdown",
   "metadata": {},
   "source": [
    "Let's do the log-log model from the case. Again, this is simple. We just use the `np.log` function, but on the independent variable."
   ]
  },
  {
   "cell_type": "code",
   "execution_count": 45,
   "metadata": {},
   "outputs": [
    {
     "data": {
      "text/html": [
       "<table class=\"simpletable\">\n",
       "<caption>OLS Regression Results</caption>\n",
       "<tr>\n",
       "  <th>Dep. Variable:</th>    <td>np.log(Price_numeric)</td> <th>  R-squared:         </th> <td>   0.866</td> \n",
       "</tr>\n",
       "<tr>\n",
       "  <th>Model:</th>                     <td>OLS</td>          <th>  Adj. R-squared:    </th> <td>   0.866</td> \n",
       "</tr>\n",
       "<tr>\n",
       "  <th>Method:</th>               <td>Least Squares</td>     <th>  F-statistic:       </th> <td>2.916e+04</td>\n",
       "</tr>\n",
       "<tr>\n",
       "  <th>Date:</th>               <td>Thu, 28 Oct 2021</td>    <th>  Prob (F-statistic):</th>  <td>  0.00</td>  \n",
       "</tr>\n",
       "<tr>\n",
       "  <th>Time:</th>                   <td>15:54:51</td>        <th>  Log-Likelihood:    </th> <td> -287.82</td> \n",
       "</tr>\n",
       "<tr>\n",
       "  <th>No. Observations:</th>        <td>  4500</td>         <th>  AIC:               </th> <td>   579.6</td> \n",
       "</tr>\n",
       "<tr>\n",
       "  <th>Df Residuals:</th>            <td>  4498</td>         <th>  BIC:               </th> <td>   592.5</td> \n",
       "</tr>\n",
       "<tr>\n",
       "  <th>Df Model:</th>                <td>     1</td>         <th>                     </th>     <td> </td>    \n",
       "</tr>\n",
       "<tr>\n",
       "  <th>Covariance Type:</th>        <td>nonrobust</td>       <th>                     </th>     <td> </td>    \n",
       "</tr>\n",
       "</table>\n",
       "<table class=\"simpletable\">\n",
       "<tr>\n",
       "              <td></td>                 <th>coef</th>     <th>std err</th>      <th>t</th>      <th>P>|t|</th>  <th>[0.025</th>    <th>0.975]</th>  \n",
       "</tr>\n",
       "<tr>\n",
       "  <th>Intercept</th>                 <td>    8.6418</td> <td>    0.005</td> <td> 1854.200</td> <td> 0.000</td> <td>    8.633</td> <td>    8.651</td>\n",
       "</tr>\n",
       "<tr>\n",
       "  <th>np.log(Q(\"Carat Weight\"))</th> <td>    1.9893</td> <td>    0.012</td> <td>  170.766</td> <td> 0.000</td> <td>    1.966</td> <td>    2.012</td>\n",
       "</tr>\n",
       "</table>\n",
       "<table class=\"simpletable\">\n",
       "<tr>\n",
       "  <th>Omnibus:</th>       <td>459.461</td> <th>  Durbin-Watson:     </th> <td>   2.032</td> \n",
       "</tr>\n",
       "<tr>\n",
       "  <th>Prob(Omnibus):</th> <td> 0.000</td>  <th>  Jarque-Bera (JB):  </th> <td> 674.271</td> \n",
       "</tr>\n",
       "<tr>\n",
       "  <th>Skew:</th>          <td> 0.777</td>  <th>  Prob(JB):          </th> <td>3.84e-147</td>\n",
       "</tr>\n",
       "<tr>\n",
       "  <th>Kurtosis:</th>      <td> 4.086</td>  <th>  Cond. No.          </th> <td>    3.20</td> \n",
       "</tr>\n",
       "</table><br/><br/>Notes:<br/>[1] Standard Errors assume that the covariance matrix of the errors is correctly specified."
      ],
      "text/plain": [
       "<class 'statsmodels.iolib.summary.Summary'>\n",
       "\"\"\"\n",
       "                              OLS Regression Results                             \n",
       "=================================================================================\n",
       "Dep. Variable:     np.log(Price_numeric)   R-squared:                       0.866\n",
       "Model:                               OLS   Adj. R-squared:                  0.866\n",
       "Method:                    Least Squares   F-statistic:                 2.916e+04\n",
       "Date:                   Thu, 28 Oct 2021   Prob (F-statistic):               0.00\n",
       "Time:                           15:54:51   Log-Likelihood:                -287.82\n",
       "No. Observations:                   4500   AIC:                             579.6\n",
       "Df Residuals:                       4498   BIC:                             592.5\n",
       "Df Model:                              1                                         \n",
       "Covariance Type:               nonrobust                                         \n",
       "=============================================================================================\n",
       "                                coef    std err          t      P>|t|      [0.025      0.975]\n",
       "---------------------------------------------------------------------------------------------\n",
       "Intercept                     8.6418      0.005   1854.200      0.000       8.633       8.651\n",
       "np.log(Q(\"Carat Weight\"))     1.9893      0.012    170.766      0.000       1.966       2.012\n",
       "==============================================================================\n",
       "Omnibus:                      459.461   Durbin-Watson:                   2.032\n",
       "Prob(Omnibus):                  0.000   Jarque-Bera (JB):              674.271\n",
       "Skew:                           0.777   Prob(JB):                    3.84e-147\n",
       "Kurtosis:                       4.086   Cond. No.                         3.20\n",
       "==============================================================================\n",
       "\n",
       "Notes:\n",
       "[1] Standard Errors assume that the covariance matrix of the errors is correctly specified.\n",
       "\"\"\""
      ]
     },
     "execution_count": 45,
     "metadata": {},
     "output_type": "execute_result"
    }
   ],
   "source": [
    "lm_3 = smf.ols(formula='np.log(Price_numeric) ~ np.log(Q(\"Carat Weight\"))', data=df_smaller_train).fit()\n",
    "lm_3.summary()"
   ]
  },
  {
   "cell_type": "markdown",
   "metadata": {},
   "source": [
    "Again, we get coefficients very similar to what is observed in the case. We can also predict on our validation set."
   ]
  },
  {
   "cell_type": "code",
   "execution_count": 46,
   "metadata": {},
   "outputs": [],
   "source": [
    "lm_3_predictions = lm_3.predict(df_validation)"
   ]
  },
  {
   "cell_type": "markdown",
   "metadata": {},
   "source": [
    "Let's take a look at our predictions. Again, we need to \"reverse\" the log function."
   ]
  },
  {
   "cell_type": "code",
   "execution_count": 47,
   "metadata": {},
   "outputs": [
    {
     "data": {
      "text/plain": [
       "ID\n",
       "1646    22486.680736\n",
       "4429     7095.571053\n",
       "3354     3367.196680\n",
       "2608    12519.919628\n",
       "3998     4592.502279\n",
       "            ...     \n",
       "4923     5776.608625\n",
       "947      6722.488652\n",
       "2152     4694.571513\n",
       "4438     3367.196680\n",
       "959      6006.393931\n",
       "Length: 1500, dtype: float64"
      ]
     },
     "execution_count": 47,
     "metadata": {},
     "output_type": "execute_result"
    }
   ],
   "source": [
    "np.exp(lm_3_predictions)"
   ]
  },
  {
   "cell_type": "markdown",
   "metadata": {},
   "source": [
    "That looks a bit better. Let's see how it does for MAE."
   ]
  },
  {
   "cell_type": "code",
   "execution_count": 48,
   "metadata": {},
   "outputs": [
    {
     "data": {
      "text/html": [
       "<div>\n",
       "<style scoped>\n",
       "    .dataframe tbody tr th:only-of-type {\n",
       "        vertical-align: middle;\n",
       "    }\n",
       "\n",
       "    .dataframe tbody tr th {\n",
       "        vertical-align: top;\n",
       "    }\n",
       "\n",
       "    .dataframe thead th {\n",
       "        text-align: right;\n",
       "    }\n",
       "</style>\n",
       "<table border=\"1\" class=\"dataframe\">\n",
       "  <thead>\n",
       "    <tr style=\"text-align: right;\">\n",
       "      <th></th>\n",
       "      <th>Carat Weight</th>\n",
       "      <th>Cut</th>\n",
       "      <th>Color</th>\n",
       "      <th>Clarity</th>\n",
       "      <th>Polish</th>\n",
       "      <th>Symmetry</th>\n",
       "      <th>Report</th>\n",
       "      <th>Price</th>\n",
       "      <th>Price_numeric</th>\n",
       "    </tr>\n",
       "    <tr>\n",
       "      <th>ID</th>\n",
       "      <th></th>\n",
       "      <th></th>\n",
       "      <th></th>\n",
       "      <th></th>\n",
       "      <th></th>\n",
       "      <th></th>\n",
       "      <th></th>\n",
       "      <th></th>\n",
       "      <th></th>\n",
       "    </tr>\n",
       "  </thead>\n",
       "  <tbody>\n",
       "    <tr>\n",
       "      <th>1</th>\n",
       "      <td>1.10</td>\n",
       "      <td>Ideal</td>\n",
       "      <td>H</td>\n",
       "      <td>SI1</td>\n",
       "      <td>VG</td>\n",
       "      <td>EX</td>\n",
       "      <td>GIA</td>\n",
       "      <td>$5,169</td>\n",
       "      <td>5169.0</td>\n",
       "    </tr>\n",
       "    <tr>\n",
       "      <th>2</th>\n",
       "      <td>0.83</td>\n",
       "      <td>Ideal</td>\n",
       "      <td>H</td>\n",
       "      <td>VS1</td>\n",
       "      <td>ID</td>\n",
       "      <td>ID</td>\n",
       "      <td>AGSL</td>\n",
       "      <td>$3,470</td>\n",
       "      <td>3470.0</td>\n",
       "    </tr>\n",
       "    <tr>\n",
       "      <th>3</th>\n",
       "      <td>0.85</td>\n",
       "      <td>Ideal</td>\n",
       "      <td>H</td>\n",
       "      <td>SI1</td>\n",
       "      <td>EX</td>\n",
       "      <td>EX</td>\n",
       "      <td>GIA</td>\n",
       "      <td>$3,183</td>\n",
       "      <td>3183.0</td>\n",
       "    </tr>\n",
       "    <tr>\n",
       "      <th>4</th>\n",
       "      <td>0.91</td>\n",
       "      <td>Ideal</td>\n",
       "      <td>E</td>\n",
       "      <td>SI1</td>\n",
       "      <td>VG</td>\n",
       "      <td>VG</td>\n",
       "      <td>GIA</td>\n",
       "      <td>$4,370</td>\n",
       "      <td>4370.0</td>\n",
       "    </tr>\n",
       "    <tr>\n",
       "      <th>5</th>\n",
       "      <td>0.83</td>\n",
       "      <td>Ideal</td>\n",
       "      <td>G</td>\n",
       "      <td>SI1</td>\n",
       "      <td>EX</td>\n",
       "      <td>EX</td>\n",
       "      <td>GIA</td>\n",
       "      <td>$3,171</td>\n",
       "      <td>3171.0</td>\n",
       "    </tr>\n",
       "  </tbody>\n",
       "</table>\n",
       "</div>"
      ],
      "text/plain": [
       "    Carat Weight    Cut Color Clarity Polish Symmetry Report     Price  \\\n",
       "ID                                                                       \n",
       "1           1.10  Ideal     H     SI1     VG       EX    GIA   $5,169    \n",
       "2           0.83  Ideal     H     VS1     ID       ID   AGSL   $3,470    \n",
       "3           0.85  Ideal     H     SI1     EX       EX    GIA   $3,183    \n",
       "4           0.91  Ideal     E     SI1     VG       VG    GIA   $4,370    \n",
       "5           0.83  Ideal     G     SI1     EX       EX    GIA   $3,171    \n",
       "\n",
       "    Price_numeric  \n",
       "ID                 \n",
       "1          5169.0  \n",
       "2          3470.0  \n",
       "3          3183.0  \n",
       "4          4370.0  \n",
       "5          3171.0  "
      ]
     },
     "execution_count": 48,
     "metadata": {},
     "output_type": "execute_result"
    }
   ],
   "source": [
    "mean_absolute_error(df_validation[\"Price_numeric\"], np.exp(lm_3_predictions))\n",
    "df_train.head()"
   ]
  },
  {
   "cell_type": "markdown",
   "metadata": {},
   "source": [
    "Our MAE has gone down again!"
   ]
  },
  {
   "cell_type": "markdown",
   "metadata": {},
   "source": [
    "### Models with Multiple Independent Variables"
   ]
  },
  {
   "cell_type": "markdown",
   "metadata": {},
   "source": [
    "If we want to add more variables, we can just put them in. Let's add `Cut`."
   ]
  },
  {
   "cell_type": "code",
   "execution_count": 49,
   "metadata": {},
   "outputs": [
    {
     "data": {
      "text/html": [
       "<table class=\"simpletable\">\n",
       "<caption>OLS Regression Results</caption>\n",
       "<tr>\n",
       "  <th>Dep. Variable:</th>    <td>np.log(Price_numeric)</td> <th>  R-squared:         </th> <td>   0.932</td>\n",
       "</tr>\n",
       "<tr>\n",
       "  <th>Model:</th>                     <td>OLS</td>          <th>  Adj. R-squared:    </th> <td>   0.932</td>\n",
       "</tr>\n",
       "<tr>\n",
       "  <th>Method:</th>               <td>Least Squares</td>     <th>  F-statistic:       </th> <td>   4103.</td>\n",
       "</tr>\n",
       "<tr>\n",
       "  <th>Date:</th>               <td>Thu, 28 Oct 2021</td>    <th>  Prob (F-statistic):</th>  <td>  0.00</td> \n",
       "</tr>\n",
       "<tr>\n",
       "  <th>Time:</th>                   <td>15:54:51</td>        <th>  Log-Likelihood:    </th> <td>  1235.1</td>\n",
       "</tr>\n",
       "<tr>\n",
       "  <th>No. Observations:</th>        <td>  4500</td>         <th>  AIC:               </th> <td>  -2438.</td>\n",
       "</tr>\n",
       "<tr>\n",
       "  <th>Df Residuals:</th>            <td>  4484</td>         <th>  BIC:               </th> <td>  -2336.</td>\n",
       "</tr>\n",
       "<tr>\n",
       "  <th>Df Model:</th>                <td>    15</td>         <th>                     </th>     <td> </td>   \n",
       "</tr>\n",
       "<tr>\n",
       "  <th>Covariance Type:</th>        <td>nonrobust</td>       <th>                     </th>     <td> </td>   \n",
       "</tr>\n",
       "</table>\n",
       "<table class=\"simpletable\">\n",
       "<tr>\n",
       "              <td></td>                 <th>coef</th>     <th>std err</th>      <th>t</th>      <th>P>|t|</th>  <th>[0.025</th>    <th>0.975]</th>  \n",
       "</tr>\n",
       "<tr>\n",
       "  <th>Intercept</th>                 <td>    9.4307</td> <td>    0.110</td> <td>   85.955</td> <td> 0.000</td> <td>    9.216</td> <td>    9.646</td>\n",
       "</tr>\n",
       "<tr>\n",
       "  <th>Cut[T.Good]</th>               <td>    0.0245</td> <td>    0.021</td> <td>    1.167</td> <td> 0.243</td> <td>   -0.017</td> <td>    0.066</td>\n",
       "</tr>\n",
       "<tr>\n",
       "  <th>Cut[T.Ideal]</th>              <td>    0.0877</td> <td>    0.020</td> <td>    4.334</td> <td> 0.000</td> <td>    0.048</td> <td>    0.127</td>\n",
       "</tr>\n",
       "<tr>\n",
       "  <th>Cut[T.Signature-Ideal]</th>    <td>    0.2713</td> <td>    0.025</td> <td>   10.933</td> <td> 0.000</td> <td>    0.223</td> <td>    0.320</td>\n",
       "</tr>\n",
       "<tr>\n",
       "  <th>Cut[T.Very Good]</th>          <td>    0.0556</td> <td>    0.020</td> <td>    2.789</td> <td> 0.005</td> <td>    0.017</td> <td>    0.095</td>\n",
       "</tr>\n",
       "<tr>\n",
       "  <th>Clarity[T.IF]</th>             <td>   -0.5187</td> <td>    0.108</td> <td>   -4.822</td> <td> 0.000</td> <td>   -0.730</td> <td>   -0.308</td>\n",
       "</tr>\n",
       "<tr>\n",
       "  <th>Clarity[T.SI1]</th>            <td>   -1.1174</td> <td>    0.107</td> <td>  -10.468</td> <td> 0.000</td> <td>   -1.327</td> <td>   -0.908</td>\n",
       "</tr>\n",
       "<tr>\n",
       "  <th>Clarity[T.VS1]</th>            <td>   -0.8843</td> <td>    0.107</td> <td>   -8.283</td> <td> 0.000</td> <td>   -1.094</td> <td>   -0.675</td>\n",
       "</tr>\n",
       "<tr>\n",
       "  <th>Clarity[T.VS2]</th>            <td>   -0.9618</td> <td>    0.107</td> <td>   -9.010</td> <td> 0.000</td> <td>   -1.171</td> <td>   -0.753</td>\n",
       "</tr>\n",
       "<tr>\n",
       "  <th>Clarity[T.VVS1]</th>           <td>   -0.6439</td> <td>    0.107</td> <td>   -5.999</td> <td> 0.000</td> <td>   -0.854</td> <td>   -0.433</td>\n",
       "</tr>\n",
       "<tr>\n",
       "  <th>Clarity[T.VVS2]</th>           <td>   -0.7229</td> <td>    0.107</td> <td>   -6.761</td> <td> 0.000</td> <td>   -0.932</td> <td>   -0.513</td>\n",
       "</tr>\n",
       "<tr>\n",
       "  <th>Polish[T.G]</th>               <td>   -0.0481</td> <td>    0.011</td> <td>   -4.574</td> <td> 0.000</td> <td>   -0.069</td> <td>   -0.027</td>\n",
       "</tr>\n",
       "<tr>\n",
       "  <th>Polish[T.ID]</th>              <td>    0.0394</td> <td>    0.021</td> <td>    1.891</td> <td> 0.059</td> <td>   -0.001</td> <td>    0.080</td>\n",
       "</tr>\n",
       "<tr>\n",
       "  <th>Polish[T.VG]</th>              <td>   -0.0308</td> <td>    0.006</td> <td>   -4.804</td> <td> 0.000</td> <td>   -0.043</td> <td>   -0.018</td>\n",
       "</tr>\n",
       "<tr>\n",
       "  <th>Report[T.GIA]</th>             <td>    0.1202</td> <td>    0.018</td> <td>    6.531</td> <td> 0.000</td> <td>    0.084</td> <td>    0.156</td>\n",
       "</tr>\n",
       "<tr>\n",
       "  <th>np.log(Q(\"Carat Weight\"))</th> <td>    1.9310</td> <td>    0.008</td> <td>  227.626</td> <td> 0.000</td> <td>    1.914</td> <td>    1.948</td>\n",
       "</tr>\n",
       "</table>\n",
       "<table class=\"simpletable\">\n",
       "<tr>\n",
       "  <th>Omnibus:</th>       <td>28.365</td> <th>  Durbin-Watson:     </th> <td>   2.015</td>\n",
       "</tr>\n",
       "<tr>\n",
       "  <th>Prob(Omnibus):</th> <td> 0.000</td> <th>  Jarque-Bera (JB):  </th> <td>  36.728</td>\n",
       "</tr>\n",
       "<tr>\n",
       "  <th>Skew:</th>          <td>-0.094</td> <th>  Prob(JB):          </th> <td>1.06e-08</td>\n",
       "</tr>\n",
       "<tr>\n",
       "  <th>Kurtosis:</th>      <td> 3.401</td> <th>  Cond. No.          </th> <td>    168.</td>\n",
       "</tr>\n",
       "</table><br/><br/>Notes:<br/>[1] Standard Errors assume that the covariance matrix of the errors is correctly specified."
      ],
      "text/plain": [
       "<class 'statsmodels.iolib.summary.Summary'>\n",
       "\"\"\"\n",
       "                              OLS Regression Results                             \n",
       "=================================================================================\n",
       "Dep. Variable:     np.log(Price_numeric)   R-squared:                       0.932\n",
       "Model:                               OLS   Adj. R-squared:                  0.932\n",
       "Method:                    Least Squares   F-statistic:                     4103.\n",
       "Date:                   Thu, 28 Oct 2021   Prob (F-statistic):               0.00\n",
       "Time:                           15:54:51   Log-Likelihood:                 1235.1\n",
       "No. Observations:                   4500   AIC:                            -2438.\n",
       "Df Residuals:                       4484   BIC:                            -2336.\n",
       "Df Model:                             15                                         \n",
       "Covariance Type:               nonrobust                                         \n",
       "=============================================================================================\n",
       "                                coef    std err          t      P>|t|      [0.025      0.975]\n",
       "---------------------------------------------------------------------------------------------\n",
       "Intercept                     9.4307      0.110     85.955      0.000       9.216       9.646\n",
       "Cut[T.Good]                   0.0245      0.021      1.167      0.243      -0.017       0.066\n",
       "Cut[T.Ideal]                  0.0877      0.020      4.334      0.000       0.048       0.127\n",
       "Cut[T.Signature-Ideal]        0.2713      0.025     10.933      0.000       0.223       0.320\n",
       "Cut[T.Very Good]              0.0556      0.020      2.789      0.005       0.017       0.095\n",
       "Clarity[T.IF]                -0.5187      0.108     -4.822      0.000      -0.730      -0.308\n",
       "Clarity[T.SI1]               -1.1174      0.107    -10.468      0.000      -1.327      -0.908\n",
       "Clarity[T.VS1]               -0.8843      0.107     -8.283      0.000      -1.094      -0.675\n",
       "Clarity[T.VS2]               -0.9618      0.107     -9.010      0.000      -1.171      -0.753\n",
       "Clarity[T.VVS1]              -0.6439      0.107     -5.999      0.000      -0.854      -0.433\n",
       "Clarity[T.VVS2]              -0.7229      0.107     -6.761      0.000      -0.932      -0.513\n",
       "Polish[T.G]                  -0.0481      0.011     -4.574      0.000      -0.069      -0.027\n",
       "Polish[T.ID]                  0.0394      0.021      1.891      0.059      -0.001       0.080\n",
       "Polish[T.VG]                 -0.0308      0.006     -4.804      0.000      -0.043      -0.018\n",
       "Report[T.GIA]                 0.1202      0.018      6.531      0.000       0.084       0.156\n",
       "np.log(Q(\"Carat Weight\"))     1.9310      0.008    227.626      0.000       1.914       1.948\n",
       "==============================================================================\n",
       "Omnibus:                       28.365   Durbin-Watson:                   2.015\n",
       "Prob(Omnibus):                  0.000   Jarque-Bera (JB):               36.728\n",
       "Skew:                          -0.094   Prob(JB):                     1.06e-08\n",
       "Kurtosis:                       3.401   Cond. No.                         168.\n",
       "==============================================================================\n",
       "\n",
       "Notes:\n",
       "[1] Standard Errors assume that the covariance matrix of the errors is correctly specified.\n",
       "\"\"\""
      ]
     },
     "execution_count": 49,
     "metadata": {},
     "output_type": "execute_result"
    }
   ],
   "source": [
    "lm_4 = smf.ols(formula='np.log(Price_numeric) ~ Cut+ np.log(Q(\"Carat Weight\")) + Clarity + Polish + Report', data=df_smaller_train).fit()\n",
    "lm_4.summary()"
   ]
  },
  {
   "cell_type": "markdown",
   "metadata": {},
   "source": [
    "If you look at the coefficients, you see that we don't have a single `Cut` variable like we have for `np.log(Q(\"Carat Weight\"))`. Instead, we end up with a number of variables like `Cut[T.Good]`, `Cut[T.Ideal]`, `Cut[T.Signature-Ideal]`, and `Cut[T.Very Good]`. Let's figure out what that is about."
   ]
  },
  {
   "cell_type": "markdown",
   "metadata": {},
   "source": [
    "Let's look at the possible values for `Cut`. We did this above in the notebook, but let's do it again."
   ]
  },
  {
   "cell_type": "code",
   "execution_count": 50,
   "metadata": {},
   "outputs": [
    {
     "data": {
      "text/plain": [
       "Ideal              1866\n",
       "Very Good          1817\n",
       "Good                531\n",
       "Signature-Ideal     195\n",
       "Fair                 91\n",
       "Name: Cut, dtype: int64"
      ]
     },
     "execution_count": 50,
     "metadata": {},
     "output_type": "execute_result"
    }
   ],
   "source": [
    "df_smaller_train['Cut'].value_counts()"
   ]
  },
  {
   "cell_type": "markdown",
   "metadata": {},
   "source": [
    "So, each of our variables corresponds to one of the possible values for `Cut`, but we don't have a variable for `Fair`. What is going on here is that the regression model `smf.ols()` knows that the `Cut` data is categorical (because the `dtype` is `object`, as we saw above), and it automatically creates dummy variables for each category. It also drops one of the categories (generally the least common class) because you are supposed to drop one dummy column to avoid overspecifciation in a linear model. So, the coefficients correspond to dummy variables for each category."
   ]
  },
  {
   "cell_type": "markdown",
   "metadata": {},
   "source": [
    "Let's see how this model performs."
   ]
  },
  {
   "cell_type": "code",
   "execution_count": 51,
   "metadata": {},
   "outputs": [],
   "source": [
    "lm_4_predictions = lm_4.predict(df_validation)"
   ]
  },
  {
   "cell_type": "code",
   "execution_count": 52,
   "metadata": {},
   "outputs": [
    {
     "data": {
      "text/plain": [
       "2051.859878979446"
      ]
     },
     "execution_count": 52,
     "metadata": {},
     "output_type": "execute_result"
    }
   ],
   "source": [
    "lm_4_predictions = lm_4.predict(df_validation)\n",
    "mean_absolute_error(df_validation[\"Price_numeric\"], np.exp(lm_4_predictions))"
   ]
  },
  {
   "cell_type": "markdown",
   "metadata": {},
   "source": [
    "Even better!"
   ]
  },
  {
   "cell_type": "markdown",
   "metadata": {},
   "source": [
    "### Model with Interactions"
   ]
  },
  {
   "cell_type": "markdown",
   "metadata": {},
   "source": [
    "We can also easily interact two variables. Suppose that we think that `Cut` becomes more important with a higher `Carat Weight`. We can interact these two variables as follows:"
   ]
  },
  {
   "cell_type": "code",
   "execution_count": 53,
   "metadata": {},
   "outputs": [
    {
     "data": {
      "text/html": [
       "<table class=\"simpletable\">\n",
       "<caption>OLS Regression Results</caption>\n",
       "<tr>\n",
       "  <th>Dep. Variable:</th>    <td>np.log(Price_numeric)</td> <th>  R-squared:         </th> <td>   0.876</td>\n",
       "</tr>\n",
       "<tr>\n",
       "  <th>Model:</th>                     <td>OLS</td>          <th>  Adj. R-squared:    </th> <td>   0.876</td>\n",
       "</tr>\n",
       "<tr>\n",
       "  <th>Method:</th>               <td>Least Squares</td>     <th>  F-statistic:       </th> <td>   3520.</td>\n",
       "</tr>\n",
       "<tr>\n",
       "  <th>Date:</th>               <td>Thu, 28 Oct 2021</td>    <th>  Prob (F-statistic):</th>  <td>  0.00</td> \n",
       "</tr>\n",
       "<tr>\n",
       "  <th>Time:</th>                   <td>15:54:51</td>        <th>  Log-Likelihood:    </th> <td> -122.03</td>\n",
       "</tr>\n",
       "<tr>\n",
       "  <th>No. Observations:</th>        <td>  4500</td>         <th>  AIC:               </th> <td>   264.1</td>\n",
       "</tr>\n",
       "<tr>\n",
       "  <th>Df Residuals:</th>            <td>  4490</td>         <th>  BIC:               </th> <td>   328.2</td>\n",
       "</tr>\n",
       "<tr>\n",
       "  <th>Df Model:</th>                <td>     9</td>         <th>                     </th>     <td> </td>   \n",
       "</tr>\n",
       "<tr>\n",
       "  <th>Covariance Type:</th>        <td>nonrobust</td>       <th>                     </th>     <td> </td>   \n",
       "</tr>\n",
       "</table>\n",
       "<table class=\"simpletable\">\n",
       "<tr>\n",
       "                          <td></td>                            <th>coef</th>     <th>std err</th>      <th>t</th>      <th>P>|t|</th>  <th>[0.025</th>    <th>0.975]</th>  \n",
       "</tr>\n",
       "<tr>\n",
       "  <th>Intercept</th>                                        <td>    8.5002</td> <td>    0.026</td> <td>  321.342</td> <td> 0.000</td> <td>    8.448</td> <td>    8.552</td>\n",
       "</tr>\n",
       "<tr>\n",
       "  <th>Cut[T.Good]</th>                                      <td>    0.0445</td> <td>    0.029</td> <td>    1.520</td> <td> 0.129</td> <td>   -0.013</td> <td>    0.102</td>\n",
       "</tr>\n",
       "<tr>\n",
       "  <th>Cut[T.Ideal]</th>                                     <td>    0.1856</td> <td>    0.027</td> <td>    6.765</td> <td> 0.000</td> <td>    0.132</td> <td>    0.239</td>\n",
       "</tr>\n",
       "<tr>\n",
       "  <th>Cut[T.Signature-Ideal]</th>                           <td>    0.3463</td> <td>    0.034</td> <td>   10.234</td> <td> 0.000</td> <td>    0.280</td> <td>    0.413</td>\n",
       "</tr>\n",
       "<tr>\n",
       "  <th>Cut[T.Very Good]</th>                                 <td>    0.1148</td> <td>    0.027</td> <td>    4.194</td> <td> 0.000</td> <td>    0.061</td> <td>    0.168</td>\n",
       "</tr>\n",
       "<tr>\n",
       "  <th>np.log(Q(\"Carat Weight\"))</th>                        <td>    1.9075</td> <td>    0.128</td> <td>   14.896</td> <td> 0.000</td> <td>    1.656</td> <td>    2.158</td>\n",
       "</tr>\n",
       "<tr>\n",
       "  <th>Cut[T.Good]:np.log(Q(\"Carat Weight\"))</th>            <td>    0.0367</td> <td>    0.133</td> <td>    0.277</td> <td> 0.782</td> <td>   -0.223</td> <td>    0.297</td>\n",
       "</tr>\n",
       "<tr>\n",
       "  <th>Cut[T.Ideal]:np.log(Q(\"Carat Weight\"))</th>           <td>    0.0742</td> <td>    0.129</td> <td>    0.574</td> <td> 0.566</td> <td>   -0.179</td> <td>    0.327</td>\n",
       "</tr>\n",
       "<tr>\n",
       "  <th>Cut[T.Signature-Ideal]:np.log(Q(\"Carat Weight\"))</th> <td>    0.1181</td> <td>    0.147</td> <td>    0.804</td> <td> 0.422</td> <td>   -0.170</td> <td>    0.406</td>\n",
       "</tr>\n",
       "<tr>\n",
       "  <th>Cut[T.Very Good]:np.log(Q(\"Carat Weight\"))</th>       <td>    0.0775</td> <td>    0.129</td> <td>    0.600</td> <td> 0.549</td> <td>   -0.176</td> <td>    0.331</td>\n",
       "</tr>\n",
       "</table>\n",
       "<table class=\"simpletable\">\n",
       "<tr>\n",
       "  <th>Omnibus:</th>       <td>463.763</td> <th>  Durbin-Watson:     </th> <td>   2.029</td> \n",
       "</tr>\n",
       "<tr>\n",
       "  <th>Prob(Omnibus):</th> <td> 0.000</td>  <th>  Jarque-Bera (JB):  </th> <td> 707.260</td> \n",
       "</tr>\n",
       "<tr>\n",
       "  <th>Skew:</th>          <td> 0.765</td>  <th>  Prob(JB):          </th> <td>2.63e-154</td>\n",
       "</tr>\n",
       "<tr>\n",
       "  <th>Kurtosis:</th>      <td> 4.197</td>  <th>  Cond. No.          </th> <td>    93.7</td> \n",
       "</tr>\n",
       "</table><br/><br/>Notes:<br/>[1] Standard Errors assume that the covariance matrix of the errors is correctly specified."
      ],
      "text/plain": [
       "<class 'statsmodels.iolib.summary.Summary'>\n",
       "\"\"\"\n",
       "                              OLS Regression Results                             \n",
       "=================================================================================\n",
       "Dep. Variable:     np.log(Price_numeric)   R-squared:                       0.876\n",
       "Model:                               OLS   Adj. R-squared:                  0.876\n",
       "Method:                    Least Squares   F-statistic:                     3520.\n",
       "Date:                   Thu, 28 Oct 2021   Prob (F-statistic):               0.00\n",
       "Time:                           15:54:51   Log-Likelihood:                -122.03\n",
       "No. Observations:                   4500   AIC:                             264.1\n",
       "Df Residuals:                       4490   BIC:                             328.2\n",
       "Df Model:                              9                                         \n",
       "Covariance Type:               nonrobust                                         \n",
       "====================================================================================================================\n",
       "                                                       coef    std err          t      P>|t|      [0.025      0.975]\n",
       "--------------------------------------------------------------------------------------------------------------------\n",
       "Intercept                                            8.5002      0.026    321.342      0.000       8.448       8.552\n",
       "Cut[T.Good]                                          0.0445      0.029      1.520      0.129      -0.013       0.102\n",
       "Cut[T.Ideal]                                         0.1856      0.027      6.765      0.000       0.132       0.239\n",
       "Cut[T.Signature-Ideal]                               0.3463      0.034     10.234      0.000       0.280       0.413\n",
       "Cut[T.Very Good]                                     0.1148      0.027      4.194      0.000       0.061       0.168\n",
       "np.log(Q(\"Carat Weight\"))                            1.9075      0.128     14.896      0.000       1.656       2.158\n",
       "Cut[T.Good]:np.log(Q(\"Carat Weight\"))                0.0367      0.133      0.277      0.782      -0.223       0.297\n",
       "Cut[T.Ideal]:np.log(Q(\"Carat Weight\"))               0.0742      0.129      0.574      0.566      -0.179       0.327\n",
       "Cut[T.Signature-Ideal]:np.log(Q(\"Carat Weight\"))     0.1181      0.147      0.804      0.422      -0.170       0.406\n",
       "Cut[T.Very Good]:np.log(Q(\"Carat Weight\"))           0.0775      0.129      0.600      0.549      -0.176       0.331\n",
       "==============================================================================\n",
       "Omnibus:                      463.763   Durbin-Watson:                   2.029\n",
       "Prob(Omnibus):                  0.000   Jarque-Bera (JB):              707.260\n",
       "Skew:                           0.765   Prob(JB):                    2.63e-154\n",
       "Kurtosis:                       4.197   Cond. No.                         93.7\n",
       "==============================================================================\n",
       "\n",
       "Notes:\n",
       "[1] Standard Errors assume that the covariance matrix of the errors is correctly specified.\n",
       "\"\"\""
      ]
     },
     "execution_count": 53,
     "metadata": {},
     "output_type": "execute_result"
    }
   ],
   "source": [
    "lm_5 = smf.ols(formula='np.log(Price_numeric) ~ Cut + np.log(Q(\"Carat Weight\")) + Cut*np.log(Q(\"Carat Weight\"))', data=df_smaller_train).fit()\n",
    "lm_5.summary()"
   ]
  },
  {
   "cell_type": "markdown",
   "metadata": {},
   "source": [
    "The model automatically creates interactions between each category for `Cut` and `np.log(Q(\"Carat Weight\"))`. We can then test the performance."
   ]
  },
  {
   "cell_type": "code",
   "execution_count": 54,
   "metadata": {},
   "outputs": [],
   "source": [
    "lm_5_predictions = lm_5.predict(df_validation)"
   ]
  },
  {
   "cell_type": "code",
   "execution_count": 55,
   "metadata": {},
   "outputs": [
    {
     "data": {
      "text/plain": [
       "2706.1227231696316"
      ]
     },
     "execution_count": 55,
     "metadata": {},
     "output_type": "execute_result"
    }
   ],
   "source": [
    "mean_absolute_error(df_validation[\"Price_numeric\"], np.exp(lm_5_predictions))"
   ]
  },
  {
   "cell_type": "markdown",
   "metadata": {},
   "source": [
    "That helped us, but only a little bit."
   ]
  },
  {
   "cell_type": "markdown",
   "metadata": {},
   "source": [
    "### ADVANCED: Segmenting Variables"
   ]
  },
  {
   "cell_type": "markdown",
   "metadata": {},
   "source": [
    "This is an advanced section, and you are not expected to follow everything in this section. This is provided both as a resource as you progress to more advanced topics to come back to, and as a way for those who want to dive deep to go a little deeper. Feel free to skim through it."
   ]
  },
  {
   "cell_type": "markdown",
   "metadata": {},
   "source": [
    "The formula specification is very flexible. Suppose that we think the relationship between `Carat Weight` and `ln(Price_numeric)` changes for different ranges of `Carat Weight`. Suppose that we think there is one relationship that holds from weights 0 to 1, a different one that holds from 1 to 2, and a third for anything above 2. We can implement that using a linear spline as follows."
   ]
  },
  {
   "cell_type": "code",
   "execution_count": 56,
   "metadata": {},
   "outputs": [
    {
     "data": {
      "text/html": [
       "<table class=\"simpletable\">\n",
       "<caption>OLS Regression Results</caption>\n",
       "<tr>\n",
       "  <th>Dep. Variable:</th>    <td>np.log(Price_numeric)</td> <th>  R-squared:         </th> <td>   0.870</td>\n",
       "</tr>\n",
       "<tr>\n",
       "  <th>Model:</th>                     <td>OLS</td>          <th>  Adj. R-squared:    </th> <td>   0.869</td>\n",
       "</tr>\n",
       "<tr>\n",
       "  <th>Method:</th>               <td>Least Squares</td>     <th>  F-statistic:       </th> <td>   9991.</td>\n",
       "</tr>\n",
       "<tr>\n",
       "  <th>Date:</th>               <td>Thu, 28 Oct 2021</td>    <th>  Prob (F-statistic):</th>  <td>  0.00</td> \n",
       "</tr>\n",
       "<tr>\n",
       "  <th>Time:</th>                   <td>15:54:52</td>        <th>  Log-Likelihood:    </th> <td> -233.30</td>\n",
       "</tr>\n",
       "<tr>\n",
       "  <th>No. Observations:</th>        <td>  4500</td>         <th>  AIC:               </th> <td>   474.6</td>\n",
       "</tr>\n",
       "<tr>\n",
       "  <th>Df Residuals:</th>            <td>  4496</td>         <th>  BIC:               </th> <td>   500.2</td>\n",
       "</tr>\n",
       "<tr>\n",
       "  <th>Df Model:</th>                <td>     3</td>         <th>                     </th>     <td> </td>   \n",
       "</tr>\n",
       "<tr>\n",
       "  <th>Covariance Type:</th>        <td>nonrobust</td>       <th>                     </th>     <td> </td>   \n",
       "</tr>\n",
       "</table>\n",
       "<table class=\"simpletable\">\n",
       "<tr>\n",
       "                    <td></td>                      <th>coef</th>     <th>std err</th>      <th>t</th>      <th>P>|t|</th>  <th>[0.025</th>    <th>0.975]</th>  \n",
       "</tr>\n",
       "<tr>\n",
       "  <th>Intercept</th>                            <td>    5.7503</td> <td>    0.061</td> <td>   94.597</td> <td> 0.000</td> <td>    5.631</td> <td>    5.870</td>\n",
       "</tr>\n",
       "<tr>\n",
       "  <th>Q(\"Carat Weight\")</th>                    <td>    2.9668</td> <td>    0.064</td> <td>   46.459</td> <td> 0.000</td> <td>    2.842</td> <td>    3.092</td>\n",
       "</tr>\n",
       "<tr>\n",
       "  <th>np.maximum(Q(\"Carat Weight\") - 1, 0)</th> <td>   -1.6280</td> <td>    0.069</td> <td>  -23.512</td> <td> 0.000</td> <td>   -1.764</td> <td>   -1.492</td>\n",
       "</tr>\n",
       "<tr>\n",
       "  <th>np.maximum(Q(\"Carat Weight\") - 2, 0)</th> <td>   -0.5884</td> <td>    0.054</td> <td>  -10.944</td> <td> 0.000</td> <td>   -0.694</td> <td>   -0.483</td>\n",
       "</tr>\n",
       "</table>\n",
       "<table class=\"simpletable\">\n",
       "<tr>\n",
       "  <th>Omnibus:</th>       <td>425.364</td> <th>  Durbin-Watson:     </th> <td>   2.039</td> \n",
       "</tr>\n",
       "<tr>\n",
       "  <th>Prob(Omnibus):</th> <td> 0.000</td>  <th>  Jarque-Bera (JB):  </th> <td> 606.515</td> \n",
       "</tr>\n",
       "<tr>\n",
       "  <th>Skew:</th>          <td> 0.745</td>  <th>  Prob(JB):          </th> <td>1.98e-132</td>\n",
       "</tr>\n",
       "<tr>\n",
       "  <th>Kurtosis:</th>      <td> 4.009</td>  <th>  Cond. No.          </th> <td>    52.1</td> \n",
       "</tr>\n",
       "</table><br/><br/>Notes:<br/>[1] Standard Errors assume that the covariance matrix of the errors is correctly specified."
      ],
      "text/plain": [
       "<class 'statsmodels.iolib.summary.Summary'>\n",
       "\"\"\"\n",
       "                              OLS Regression Results                             \n",
       "=================================================================================\n",
       "Dep. Variable:     np.log(Price_numeric)   R-squared:                       0.870\n",
       "Model:                               OLS   Adj. R-squared:                  0.869\n",
       "Method:                    Least Squares   F-statistic:                     9991.\n",
       "Date:                   Thu, 28 Oct 2021   Prob (F-statistic):               0.00\n",
       "Time:                           15:54:52   Log-Likelihood:                -233.30\n",
       "No. Observations:                   4500   AIC:                             474.6\n",
       "Df Residuals:                       4496   BIC:                             500.2\n",
       "Df Model:                              3                                         \n",
       "Covariance Type:               nonrobust                                         \n",
       "========================================================================================================\n",
       "                                           coef    std err          t      P>|t|      [0.025      0.975]\n",
       "--------------------------------------------------------------------------------------------------------\n",
       "Intercept                                5.7503      0.061     94.597      0.000       5.631       5.870\n",
       "Q(\"Carat Weight\")                        2.9668      0.064     46.459      0.000       2.842       3.092\n",
       "np.maximum(Q(\"Carat Weight\") - 1, 0)    -1.6280      0.069    -23.512      0.000      -1.764      -1.492\n",
       "np.maximum(Q(\"Carat Weight\") - 2, 0)    -0.5884      0.054    -10.944      0.000      -0.694      -0.483\n",
       "==============================================================================\n",
       "Omnibus:                      425.364   Durbin-Watson:                   2.039\n",
       "Prob(Omnibus):                  0.000   Jarque-Bera (JB):              606.515\n",
       "Skew:                           0.745   Prob(JB):                    1.98e-132\n",
       "Kurtosis:                       4.009   Cond. No.                         52.1\n",
       "==============================================================================\n",
       "\n",
       "Notes:\n",
       "[1] Standard Errors assume that the covariance matrix of the errors is correctly specified.\n",
       "\"\"\""
      ]
     },
     "execution_count": 56,
     "metadata": {},
     "output_type": "execute_result"
    }
   ],
   "source": [
    "lm_6 = smf.ols(formula='np.log(Price_numeric) ~ Q(\"Carat Weight\") + np.maximum(Q(\"Carat Weight\") - 1, 0) + np.maximum(Q(\"Carat Weight\") - 2, 0)', data=df_smaller_train).fit()\n",
    "lm_6.summary()"
   ]
  },
  {
   "cell_type": "markdown",
   "metadata": {},
   "source": [
    "Above, we effectively have different linear relationships for our three different ranges. Let's see if it helped."
   ]
  },
  {
   "cell_type": "code",
   "execution_count": 57,
   "metadata": {},
   "outputs": [],
   "source": [
    "lm_6_predictions = lm_6.predict(df_validation)"
   ]
  },
  {
   "cell_type": "code",
   "execution_count": 58,
   "metadata": {},
   "outputs": [
    {
     "data": {
      "text/plain": [
       "2787.961559650956"
      ]
     },
     "execution_count": 58,
     "metadata": {},
     "output_type": "execute_result"
    }
   ],
   "source": [
    "mean_absolute_error(df_validation[\"Price_numeric\"], np.exp(lm_6_predictions))"
   ]
  },
  {
   "cell_type": "markdown",
   "metadata": {},
   "source": [
    "It's not as good as the best model we've found so far (that is `lm_5`), but it is significantly better than the multiplicative model (`lm_2`) which is the closest model to this one."
   ]
  },
  {
   "cell_type": "markdown",
   "metadata": {},
   "source": [
    "## Your Turn"
   ]
  },
  {
   "cell_type": "markdown",
   "metadata": {},
   "source": [
    "Now that you have seen how to train linear regression models, it is your turn to see how good of a model you can build. You should mix and match all of the above techniques to build a model that performs as well as possible on the validation set. Feel free to experiment. You are likely to run into errors, try your best to figure out what the error means. It is often helpful to copy and paste the _last line_ of the error into google and see what comes up.\n",
    "\n",
    "You should copy and paste code from above into the notebook. You can hold shift and left click on cell in order to select multiple cells. Then you can go to \"Edit\" in the toolbar, select \"Copy Cells\", move to another location in the notebook, and then select \"Paste Cells Below\" (or above if you so choose).\n",
    "\n",
    "Make sure that you test your models on the validation set. You should select the model with the lowest MAE on the validation set.\n",
    "\n",
    "I have added multiple empty cells below to encourage you to fill them, but you can always add empty cells by clicking on the \"plus\" icon on the toolbar. Go forth and model!"
   ]
  },
  {
   "cell_type": "code",
   "execution_count": 59,
   "metadata": {},
   "outputs": [
    {
     "data": {
      "text/html": [
       "<table class=\"simpletable\">\n",
       "<caption>OLS Regression Results</caption>\n",
       "<tr>\n",
       "  <th>Dep. Variable:</th>    <td>np.log(Price_numeric)</td> <th>  R-squared:         </th> <td>   0.870</td>\n",
       "</tr>\n",
       "<tr>\n",
       "  <th>Model:</th>                     <td>OLS</td>          <th>  Adj. R-squared:    </th> <td>   0.869</td>\n",
       "</tr>\n",
       "<tr>\n",
       "  <th>Method:</th>               <td>Least Squares</td>     <th>  F-statistic:       </th> <td>   9991.</td>\n",
       "</tr>\n",
       "<tr>\n",
       "  <th>Date:</th>               <td>Thu, 28 Oct 2021</td>    <th>  Prob (F-statistic):</th>  <td>  0.00</td> \n",
       "</tr>\n",
       "<tr>\n",
       "  <th>Time:</th>                   <td>15:54:52</td>        <th>  Log-Likelihood:    </th> <td> -233.30</td>\n",
       "</tr>\n",
       "<tr>\n",
       "  <th>No. Observations:</th>        <td>  4500</td>         <th>  AIC:               </th> <td>   474.6</td>\n",
       "</tr>\n",
       "<tr>\n",
       "  <th>Df Residuals:</th>            <td>  4496</td>         <th>  BIC:               </th> <td>   500.2</td>\n",
       "</tr>\n",
       "<tr>\n",
       "  <th>Df Model:</th>                <td>     3</td>         <th>                     </th>     <td> </td>   \n",
       "</tr>\n",
       "<tr>\n",
       "  <th>Covariance Type:</th>        <td>nonrobust</td>       <th>                     </th>     <td> </td>   \n",
       "</tr>\n",
       "</table>\n",
       "<table class=\"simpletable\">\n",
       "<tr>\n",
       "                    <td></td>                      <th>coef</th>     <th>std err</th>      <th>t</th>      <th>P>|t|</th>  <th>[0.025</th>    <th>0.975]</th>  \n",
       "</tr>\n",
       "<tr>\n",
       "  <th>Intercept</th>                            <td>    5.7503</td> <td>    0.061</td> <td>   94.597</td> <td> 0.000</td> <td>    5.631</td> <td>    5.870</td>\n",
       "</tr>\n",
       "<tr>\n",
       "  <th>Q(\"Carat Weight\")</th>                    <td>    2.9668</td> <td>    0.064</td> <td>   46.459</td> <td> 0.000</td> <td>    2.842</td> <td>    3.092</td>\n",
       "</tr>\n",
       "<tr>\n",
       "  <th>np.maximum(Q(\"Carat Weight\") - 1, 0)</th> <td>   -1.6280</td> <td>    0.069</td> <td>  -23.512</td> <td> 0.000</td> <td>   -1.764</td> <td>   -1.492</td>\n",
       "</tr>\n",
       "<tr>\n",
       "  <th>np.maximum(Q(\"Carat Weight\") - 2, 0)</th> <td>   -0.5884</td> <td>    0.054</td> <td>  -10.944</td> <td> 0.000</td> <td>   -0.694</td> <td>   -0.483</td>\n",
       "</tr>\n",
       "</table>\n",
       "<table class=\"simpletable\">\n",
       "<tr>\n",
       "  <th>Omnibus:</th>       <td>425.364</td> <th>  Durbin-Watson:     </th> <td>   2.039</td> \n",
       "</tr>\n",
       "<tr>\n",
       "  <th>Prob(Omnibus):</th> <td> 0.000</td>  <th>  Jarque-Bera (JB):  </th> <td> 606.515</td> \n",
       "</tr>\n",
       "<tr>\n",
       "  <th>Skew:</th>          <td> 0.745</td>  <th>  Prob(JB):          </th> <td>1.98e-132</td>\n",
       "</tr>\n",
       "<tr>\n",
       "  <th>Kurtosis:</th>      <td> 4.009</td>  <th>  Cond. No.          </th> <td>    52.1</td> \n",
       "</tr>\n",
       "</table><br/><br/>Notes:<br/>[1] Standard Errors assume that the covariance matrix of the errors is correctly specified."
      ],
      "text/plain": [
       "<class 'statsmodels.iolib.summary.Summary'>\n",
       "\"\"\"\n",
       "                              OLS Regression Results                             \n",
       "=================================================================================\n",
       "Dep. Variable:     np.log(Price_numeric)   R-squared:                       0.870\n",
       "Model:                               OLS   Adj. R-squared:                  0.869\n",
       "Method:                    Least Squares   F-statistic:                     9991.\n",
       "Date:                   Thu, 28 Oct 2021   Prob (F-statistic):               0.00\n",
       "Time:                           15:54:52   Log-Likelihood:                -233.30\n",
       "No. Observations:                   4500   AIC:                             474.6\n",
       "Df Residuals:                       4496   BIC:                             500.2\n",
       "Df Model:                              3                                         \n",
       "Covariance Type:               nonrobust                                         \n",
       "========================================================================================================\n",
       "                                           coef    std err          t      P>|t|      [0.025      0.975]\n",
       "--------------------------------------------------------------------------------------------------------\n",
       "Intercept                                5.7503      0.061     94.597      0.000       5.631       5.870\n",
       "Q(\"Carat Weight\")                        2.9668      0.064     46.459      0.000       2.842       3.092\n",
       "np.maximum(Q(\"Carat Weight\") - 1, 0)    -1.6280      0.069    -23.512      0.000      -1.764      -1.492\n",
       "np.maximum(Q(\"Carat Weight\") - 2, 0)    -0.5884      0.054    -10.944      0.000      -0.694      -0.483\n",
       "==============================================================================\n",
       "Omnibus:                      425.364   Durbin-Watson:                   2.039\n",
       "Prob(Omnibus):                  0.000   Jarque-Bera (JB):              606.515\n",
       "Skew:                           0.745   Prob(JB):                    1.98e-132\n",
       "Kurtosis:                       4.009   Cond. No.                         52.1\n",
       "==============================================================================\n",
       "\n",
       "Notes:\n",
       "[1] Standard Errors assume that the covariance matrix of the errors is correctly specified.\n",
       "\"\"\""
      ]
     },
     "execution_count": 59,
     "metadata": {},
     "output_type": "execute_result"
    }
   ],
   "source": [
    "## Playing around with segmentation\n",
    "\n",
    "lm_6 = smf.ols(formula='np.log(Price_numeric) ~ Q(\"Carat Weight\") + np.maximum(Q(\"Carat Weight\") - 1, 0) + np.maximum(Q(\"Carat Weight\") - 2, 0)', data=df_smaller_train).fit()\n",
    "lm_6.summary()"
   ]
  },
  {
   "cell_type": "code",
   "execution_count": 82,
   "metadata": {},
   "outputs": [
    {
     "data": {
      "text/plain": [
       "925.6898475144216"
      ]
     },
     "execution_count": 82,
     "metadata": {},
     "output_type": "execute_result"
    }
   ],
   "source": [
    "## Kitchen sink\n",
    "\n",
    "lm_4 = smf.ols(formula='np.log(Price_numeric) ~ Cut + np.log(Q(\"Carat Weight\")) + Color*np.log(Q(\"Carat Weight\"))+ + Cut*np.log(Q(\"Carat Weight\"))+Clarity + Polish + Report', data=df_smaller_train).fit()\n",
    "lm_4.summary()\n",
    "lm_4_predictions = lm_4.predict(df_validation)\n",
    "mean_absolute_error(df_validation[\"Price_numeric\"], np.exp(lm_4_predictions))"
   ]
  },
  {
   "cell_type": "code",
   "execution_count": 127,
   "metadata": {},
   "outputs": [
    {
     "data": {
      "text/plain": [
       "908.0284618673976"
      ]
     },
     "execution_count": 127,
     "metadata": {},
     "output_type": "execute_result"
    }
   ],
   "source": [
    "## Create your final model\n",
    "lm_1 = smf.ols(formula='np.log(Price_numeric) ~ Cut + np.log(Q(\"Carat Weight\")) + np.log(Q(\"Carat Weight\"))*Color + np.log(Q(\"Carat Weight\"))*Cut + np.maximum(np.log(Q(\"Carat Weight\")) - 0.27, 0) + np.maximum(np.log(Q(\"Carat Weight\")) - 0.27, 0)*Cut + np.maximum(np.log(Q(\"Carat Weight\")) - .3, 0) + np.maximum(np.log(Q(\"Carat Weight\")) - .39, 0) + np.maximum(np.log(Q(\"Carat Weight\")) - .47, 0)+ Clarity +Polish + Symmetry + Report', data=df_smaller_train).fit()\n",
    "#lm_6 = smf.ols(formula='np.log(Price_numeric) ~ Q(\"Carat Weight\") + np.maximum(Q(\"Carat Weight\") - 1, 0) + np.maximum(Q(\"Carat Weight\") - 2, 0)', data=df_smaller_train).fit()\n",
    "lm_1.summary()\n",
    "lm_1_predictions = lm_1.predict(df_validation)\n",
    "mean_absolute_error(df_validation[\"Price_numeric\"], np.exp(lm_1_predictions))\n"
   ]
  },
  {
   "cell_type": "code",
   "execution_count": 62,
   "metadata": {},
   "outputs": [
    {
     "name": "stdout",
     "output_type": "stream",
     "text": [
      "2003.9572022239827\n"
     ]
    }
   ],
   "source": [
    "print(\"2003.9572022239827\")"
   ]
  },
  {
   "cell_type": "markdown",
   "metadata": {},
   "source": [
    "## Submitting Final Predictions"
   ]
  },
  {
   "cell_type": "markdown",
   "metadata": {},
   "source": [
    "Once you have a model that you are happy with, you should predict on the test set (`df_test`), and then you should submit your predictions to Kaggle (following the instructions in your assignment sheet)."
   ]
  },
  {
   "cell_type": "markdown",
   "metadata": {},
   "source": [
    "For the purpose of showing an example of how we do this, I will assume that you are selecting `lm_1` for your final model. You should obviously change the code to use the model that you would like to submit."
   ]
  },
  {
   "cell_type": "markdown",
   "metadata": {},
   "source": [
    "First, we will get the predictions on the test set. Make sure that you predict on the test set (not the validation set)."
   ]
  },
  {
   "cell_type": "code",
   "execution_count": 83,
   "metadata": {},
   "outputs": [
    {
     "data": {
      "text/plain": [
       "ID\n",
       "6001    16362.659260\n",
       "6002    44035.992609\n",
       "6003     3611.031289\n",
       "6004    22985.131303\n",
       "6005    15045.363010\n",
       "            ...     \n",
       "9138     5015.245198\n",
       "9139     8811.758244\n",
       "9140     9648.261558\n",
       "9141     7718.737032\n",
       "9142     3231.640839\n",
       "Length: 3142, dtype: float64"
      ]
     },
     "execution_count": 83,
     "metadata": {},
     "output_type": "execute_result"
    }
   ],
   "source": [
    "test_predictions = lm_4.predict(df_test)\n",
    "lm_4.summary()\n",
    "test_predictions\n",
    "test_predictions=np.exp(test_predictions)\n",
    "test_predictions"
   ]
  },
  {
   "cell_type": "markdown",
   "metadata": {},
   "source": [
    "Now, we can write the predictions to a csv file. We are going to use the `.to_csv()` method. We will give it a filename to write to and a `header` parameter that will tell it what to name the predicted price column. Below we name the file \"DiamondSubmission.csv\", but you can choose a different name if you would like. "
   ]
  },
  {
   "cell_type": "code",
   "execution_count": 85,
   "metadata": {},
   "outputs": [],
   "source": [
    "test_predictions.to_csv(\"Keeley_DiamondSubmission.csv\", header=[\"Price\"])"
   ]
  },
  {
   "cell_type": "markdown",
   "metadata": {},
   "source": [
    "Once you write out the file, you should see it in your file explorer sidebar (it may take a second to appear) in the folder for this class session. You can then download the file by right clicking on it and selecting download. The csv file should have two columns, the first column should be called \"ID\" and the second column should be called \"Price\". There should be 3142 predictions in your dataset (or 3143 rows with the header row)."
   ]
  },
  {
   "cell_type": "markdown",
   "metadata": {},
   "source": [
    "The final step is to submit your predictions to Kaggle! Follow the instructions in the assignment."
   ]
  },
  {
   "cell_type": "markdown",
   "metadata": {},
   "source": [
    "### Bonus"
   ]
  },
  {
   "cell_type": "markdown",
   "metadata": {},
   "source": [
    "In this notebook, we only trained our model on `df_smaller_train`. We used `df_validation` to select the model by measuring the performance on a held out validation set. However, after we have selected our model, there is no reason to not retrain on all of our data. Generally speaking, if a model is the best model after being trained on the smaller training set, you can feel pretty confident that it will be the best model if trained on the full training set.\n",
    "\n",
    "The intuition here is that the more data a model has to learn, the better the model is. Once you have identified a set of variables and parameters that make up a good model, you might as well give it all of the data so that it can perform even better."
   ]
  },
  {
   "cell_type": "markdown",
   "metadata": {},
   "source": [
    "We're not going to walk through this in the notebook, but try to figure out how to train your selected model on the full training set (`df_train`) and then use this model trained on the full training set to make your predictions on the testing set."
   ]
  }
 ],
 "metadata": {
  "kernelspec": {
   "display_name": "Python 3",
   "language": "python",
   "name": "python3"
  },
  "language_info": {
   "codemirror_mode": {
    "name": "ipython",
    "version": 3
   },
   "file_extension": ".py",
   "mimetype": "text/x-python",
   "name": "python",
   "nbconvert_exporter": "python",
   "pygments_lexer": "ipython3",
   "version": "3.8.5"
  }
 },
 "nbformat": 4,
 "nbformat_minor": 5
}
